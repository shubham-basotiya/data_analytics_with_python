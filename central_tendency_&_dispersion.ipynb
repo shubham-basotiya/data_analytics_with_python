{
 "cells": [
  {
   "cell_type": "code",
   "execution_count": 117,
   "id": "e1ff7535-25a0-4751-8616-081d1c1bc8eb",
   "metadata": {
    "tags": []
   },
   "outputs": [],
   "source": [
    "import pandas as pd\n",
    "import numpy as np\n",
    "from scipy import stats "
   ]
  },
  {
   "cell_type": "code",
   "execution_count": 16,
   "id": "e9e63e89-74f5-438a-966f-fbe29ec1d9d1",
   "metadata": {
    "tags": []
   },
   "outputs": [],
   "source": [
    "ibm_xl = pd.read_excel(\"./IBM-313 Marks.xlsx\")"
   ]
  },
  {
   "cell_type": "code",
   "execution_count": 25,
   "id": "a1387dc8-e6ce-43fa-95a3-77fa5b9aa9a2",
   "metadata": {},
   "outputs": [
    {
     "data": {
      "text/html": [
       "<div>\n",
       "<style scoped>\n",
       "    .dataframe tbody tr th:only-of-type {\n",
       "        vertical-align: middle;\n",
       "    }\n",
       "\n",
       "    .dataframe tbody tr th {\n",
       "        vertical-align: top;\n",
       "    }\n",
       "\n",
       "    .dataframe thead th {\n",
       "        text-align: right;\n",
       "    }\n",
       "</style>\n",
       "<table border=\"1\" class=\"dataframe\">\n",
       "  <thead>\n",
       "    <tr style=\"text-align: right;\">\n",
       "      <th></th>\n",
       "      <th>S.No.</th>\n",
       "      <th>MTE (25)</th>\n",
       "      <th>Mini Project (25)</th>\n",
       "      <th>Total (50)</th>\n",
       "      <th>ETE (50)</th>\n",
       "      <th>Total</th>\n",
       "    </tr>\n",
       "  </thead>\n",
       "  <tbody>\n",
       "    <tr>\n",
       "      <th>0</th>\n",
       "      <td>1</td>\n",
       "      <td>5.00</td>\n",
       "      <td>20</td>\n",
       "      <td>25.00</td>\n",
       "      <td>12.0</td>\n",
       "      <td>37.00</td>\n",
       "    </tr>\n",
       "    <tr>\n",
       "      <th>1</th>\n",
       "      <td>2</td>\n",
       "      <td>11.05</td>\n",
       "      <td>20</td>\n",
       "      <td>31.05</td>\n",
       "      <td>26.0</td>\n",
       "      <td>57.05</td>\n",
       "    </tr>\n",
       "    <tr>\n",
       "      <th>2</th>\n",
       "      <td>3</td>\n",
       "      <td>8.10</td>\n",
       "      <td>20</td>\n",
       "      <td>28.10</td>\n",
       "      <td>14.0</td>\n",
       "      <td>42.10</td>\n",
       "    </tr>\n",
       "    <tr>\n",
       "      <th>3</th>\n",
       "      <td>4</td>\n",
       "      <td>6.00</td>\n",
       "      <td>10</td>\n",
       "      <td>16.00</td>\n",
       "      <td>13.0</td>\n",
       "      <td>29.00</td>\n",
       "    </tr>\n",
       "    <tr>\n",
       "      <th>4</th>\n",
       "      <td>5</td>\n",
       "      <td>11.35</td>\n",
       "      <td>20</td>\n",
       "      <td>31.35</td>\n",
       "      <td>17.0</td>\n",
       "      <td>48.35</td>\n",
       "    </tr>\n",
       "  </tbody>\n",
       "</table>\n",
       "</div>"
      ],
      "text/plain": [
       "   S.No.  MTE (25)  Mini Project (25)  Total (50)  ETE (50)  Total\n",
       "0      1      5.00                 20       25.00      12.0  37.00\n",
       "1      2     11.05                 20       31.05      26.0  57.05\n",
       "2      3      8.10                 20       28.10      14.0  42.10\n",
       "3      4      6.00                 10       16.00      13.0  29.00\n",
       "4      5     11.35                 20       31.35      17.0  48.35"
      ]
     },
     "execution_count": 25,
     "metadata": {},
     "output_type": "execute_result"
    }
   ],
   "source": [
    "ibm_xl.head()"
   ]
  },
  {
   "cell_type": "code",
   "execution_count": 34,
   "id": "1b66a035-01b4-4584-95b7-5f2b7d4bb9a4",
   "metadata": {
    "tags": []
   },
   "outputs": [
    {
     "data": {
      "text/html": [
       "<div>\n",
       "<style scoped>\n",
       "    .dataframe tbody tr th:only-of-type {\n",
       "        vertical-align: middle;\n",
       "    }\n",
       "\n",
       "    .dataframe tbody tr th {\n",
       "        vertical-align: top;\n",
       "    }\n",
       "\n",
       "    .dataframe thead th {\n",
       "        text-align: right;\n",
       "    }\n",
       "</style>\n",
       "<table border=\"1\" class=\"dataframe\">\n",
       "  <thead>\n",
       "    <tr style=\"text-align: right;\">\n",
       "      <th></th>\n",
       "      <th>S.No.</th>\n",
       "      <th>MTE (25)</th>\n",
       "      <th>Mini Project (25)</th>\n",
       "      <th>Total (50)</th>\n",
       "      <th>ETE (50)</th>\n",
       "      <th>Total</th>\n",
       "    </tr>\n",
       "  </thead>\n",
       "  <tbody>\n",
       "    <tr>\n",
       "      <th>count</th>\n",
       "      <td>79.000000</td>\n",
       "      <td>79.000000</td>\n",
       "      <td>79.000000</td>\n",
       "      <td>79.000000</td>\n",
       "      <td>77.000000</td>\n",
       "      <td>79.000000</td>\n",
       "    </tr>\n",
       "    <tr>\n",
       "      <th>mean</th>\n",
       "      <td>40.000000</td>\n",
       "      <td>10.178481</td>\n",
       "      <td>16.556962</td>\n",
       "      <td>26.735443</td>\n",
       "      <td>21.016234</td>\n",
       "      <td>46.906329</td>\n",
       "    </tr>\n",
       "    <tr>\n",
       "      <th>std</th>\n",
       "      <td>22.949219</td>\n",
       "      <td>4.961924</td>\n",
       "      <td>4.900934</td>\n",
       "      <td>8.504976</td>\n",
       "      <td>8.091209</td>\n",
       "      <td>16.314119</td>\n",
       "    </tr>\n",
       "    <tr>\n",
       "      <th>min</th>\n",
       "      <td>1.000000</td>\n",
       "      <td>0.700000</td>\n",
       "      <td>10.000000</td>\n",
       "      <td>11.200000</td>\n",
       "      <td>7.000000</td>\n",
       "      <td>0.000000</td>\n",
       "    </tr>\n",
       "    <tr>\n",
       "      <th>25%</th>\n",
       "      <td>20.500000</td>\n",
       "      <td>6.500000</td>\n",
       "      <td>11.000000</td>\n",
       "      <td>19.600000</td>\n",
       "      <td>17.000000</td>\n",
       "      <td>38.000000</td>\n",
       "    </tr>\n",
       "    <tr>\n",
       "      <th>50%</th>\n",
       "      <td>40.000000</td>\n",
       "      <td>10.300000</td>\n",
       "      <td>15.000000</td>\n",
       "      <td>27.500000</td>\n",
       "      <td>20.000000</td>\n",
       "      <td>45.000000</td>\n",
       "    </tr>\n",
       "    <tr>\n",
       "      <th>75%</th>\n",
       "      <td>59.500000</td>\n",
       "      <td>12.975000</td>\n",
       "      <td>22.000000</td>\n",
       "      <td>33.250000</td>\n",
       "      <td>24.000000</td>\n",
       "      <td>55.375000</td>\n",
       "    </tr>\n",
       "    <tr>\n",
       "      <th>max</th>\n",
       "      <td>79.000000</td>\n",
       "      <td>23.500000</td>\n",
       "      <td>22.000000</td>\n",
       "      <td>45.500000</td>\n",
       "      <td>50.000000</td>\n",
       "      <td>94.500000</td>\n",
       "    </tr>\n",
       "  </tbody>\n",
       "</table>\n",
       "</div>"
      ],
      "text/plain": [
       "           S.No.   MTE (25)  Mini Project (25)  Total (50)   ETE (50)  \\\n",
       "count  79.000000  79.000000          79.000000   79.000000  77.000000   \n",
       "mean   40.000000  10.178481          16.556962   26.735443  21.016234   \n",
       "std    22.949219   4.961924           4.900934    8.504976   8.091209   \n",
       "min     1.000000   0.700000          10.000000   11.200000   7.000000   \n",
       "25%    20.500000   6.500000          11.000000   19.600000  17.000000   \n",
       "50%    40.000000  10.300000          15.000000   27.500000  20.000000   \n",
       "75%    59.500000  12.975000          22.000000   33.250000  24.000000   \n",
       "max    79.000000  23.500000          22.000000   45.500000  50.000000   \n",
       "\n",
       "           Total  \n",
       "count  79.000000  \n",
       "mean   46.906329  \n",
       "std    16.314119  \n",
       "min     0.000000  \n",
       "25%    38.000000  \n",
       "50%    45.000000  \n",
       "75%    55.375000  \n",
       "max    94.500000  "
      ]
     },
     "execution_count": 34,
     "metadata": {},
     "output_type": "execute_result"
    }
   ],
   "source": [
    "ibm_xl.describe()"
   ]
  },
  {
   "cell_type": "code",
   "execution_count": 63,
   "id": "f1d53bda-2170-44ed-8aa4-1d8526cdd1a9",
   "metadata": {
    "tags": []
   },
   "outputs": [
    {
     "name": "stdout",
     "output_type": "stream",
     "text": [
      "46.90632911392405\n"
     ]
    }
   ],
   "source": [
    "total = ibm_xl['Total']\n",
    "print(total.mean())"
   ]
  },
  {
   "cell_type": "code",
   "execution_count": 56,
   "id": "efd01164-f07e-4c2d-9e5a-3dd7e6ff0e7a",
   "metadata": {
    "tags": []
   },
   "outputs": [
    {
     "data": {
      "text/plain": [
       "46.90632911392405"
      ]
     },
     "execution_count": 56,
     "metadata": {},
     "output_type": "execute_result"
    }
   ],
   "source": [
    "np.mean(ibm_xl['Total'])"
   ]
  },
  {
   "cell_type": "code",
   "execution_count": 57,
   "id": "7cf25113-d5a2-409a-88e1-ff4f3f123ad1",
   "metadata": {
    "tags": []
   },
   "outputs": [
    {
     "data": {
      "text/plain": [
       "45.0"
      ]
     },
     "execution_count": 57,
     "metadata": {},
     "output_type": "execute_result"
    }
   ],
   "source": [
    "np.median(ibm_xl['Total'])"
   ]
  },
  {
   "cell_type": "code",
   "execution_count": 61,
   "id": "b249d418-bbe0-484d-87c0-28ead359fcea",
   "metadata": {
    "tags": []
   },
   "outputs": [
    {
     "data": {
      "text/plain": [
       "ModeResult(mode=0.0, count=2)"
      ]
     },
     "execution_count": 61,
     "metadata": {},
     "output_type": "execute_result"
    }
   ],
   "source": [
    "stats.mode(ibm_xl['Total'])"
   ]
  },
  {
   "cell_type": "code",
   "execution_count": 73,
   "id": "b9bde910-22e9-4b1d-b4c2-6b68d2efaa82",
   "metadata": {
    "tags": []
   },
   "outputs": [
    {
     "name": "stdout",
     "output_type": "stream",
     "text": [
      "25th percentile :  38.0\n",
      "50th percentile :  45.0\n"
     ]
    }
   ],
   "source": [
    "# percentile \n",
    "print(\"25th percentile : \", np.percentile(total, 25))\n",
    "print(\"50th percentile : \", np.percentile(total, 50)) # return 50th percentile, e.g. mean"
   ]
  },
  {
   "cell_type": "code",
   "execution_count": 77,
   "id": "8975f12e-cdd2-44b9-986e-e222e23c3040",
   "metadata": {
    "tags": []
   },
   "outputs": [
    {
     "name": "stdout",
     "output_type": "stream",
     "text": [
      "max. value in total column :  94.5\n",
      "min. value in total column :  0.0\n"
     ]
    }
   ],
   "source": [
    "print(\"max. value in total column : \", np.max(total))\n",
    "print(\"min. value in total column : \", np.min(total))"
   ]
  },
  {
   "cell_type": "markdown",
   "id": "655e9ddc-af2c-40a1-b98d-bf01a93cf517",
   "metadata": {
    "tags": []
   },
   "source": [
    "### Quartile"
   ]
  },
  {
   "cell_type": "code",
   "execution_count": 92,
   "id": "31599919-502d-4364-ae90-1c2d89923036",
   "metadata": {
    "tags": []
   },
   "outputs": [
    {
     "name": "stdout",
     "output_type": "stream",
     "text": [
      "17.375\n"
     ]
    }
   ],
   "source": [
    "# calculate quartile for total column\n",
    "q1 = np.percentile(total, 25)\n",
    "q3 = np.percentile(total, 75)\n",
    "\n",
    "# inter-quartile range\n",
    "q = q3 - q1\n",
    "print(q)"
   ]
  },
  {
   "cell_type": "code",
   "execution_count": 96,
   "id": "b0394b6c-f25c-41d7-974e-fc6d03f932c8",
   "metadata": {
    "tags": []
   },
   "outputs": [
    {
     "data": {
      "text/plain": [
       "262.78147892965876"
      ]
     },
     "execution_count": 96,
     "metadata": {},
     "output_type": "execute_result"
    }
   ],
   "source": [
    "# variance \n",
    "np.var(total)"
   ]
  },
  {
   "cell_type": "markdown",
   "id": "f8ceb01a-21ae-4aae-9bb3-7c37633fedb5",
   "metadata": {
    "tags": []
   },
   "source": [
    "### Population Standard Deviation"
   ]
  },
  {
   "cell_type": "code",
   "execution_count": 97,
   "id": "38fecde7-3741-4920-82b1-2933f58f96a7",
   "metadata": {
    "tags": []
   },
   "outputs": [
    {
     "data": {
      "text/plain": [
       "16.210536046955966"
      ]
     },
     "execution_count": 97,
     "metadata": {},
     "output_type": "execute_result"
    }
   ],
   "source": [
    "import statistics\n",
    "statistics.pstdev(total)"
   ]
  },
  {
   "cell_type": "markdown",
   "id": "b61bb630-653b-4635-974d-452b649a71d6",
   "metadata": {
    "tags": []
   },
   "source": [
    "### Sample Standard Deviation"
   ]
  },
  {
   "cell_type": "code",
   "execution_count": 103,
   "id": "9a34f254-6801-4ecc-a26b-62a7e76f6b17",
   "metadata": {
    "tags": []
   },
   "outputs": [
    {
     "data": {
      "text/plain": [
       "16.31411880088133"
      ]
     },
     "execution_count": 103,
     "metadata": {},
     "output_type": "execute_result"
    }
   ],
   "source": [
    "statistics.stdev(total)"
   ]
  },
  {
   "cell_type": "markdown",
   "id": "e39c86e2-e48b-4417-a564-4cf5927ab0f5",
   "metadata": {
    "tags": []
   },
   "source": [
    "### Standard Deviation"
   ]
  },
  {
   "cell_type": "code",
   "execution_count": 105,
   "id": "cecbf2ff-9190-4e00-9aee-dee735d676fc",
   "metadata": {
    "tags": []
   },
   "outputs": [
    {
     "data": {
      "text/plain": [
       "16.210536046955966"
      ]
     },
     "execution_count": 105,
     "metadata": {},
     "output_type": "execute_result"
    }
   ],
   "source": [
    "np.std(total)"
   ]
  },
  {
   "cell_type": "markdown",
   "id": "10b11e6b-9022-4cbf-82ba-20e90304bcaf",
   "metadata": {
    "tags": []
   },
   "source": [
    "### skewness"
   ]
  },
  {
   "cell_type": "code",
   "execution_count": 109,
   "id": "ba075075-1bac-48a8-8979-f460e485c8a4",
   "metadata": {
    "tags": []
   },
   "outputs": [],
   "source": [
    "from scipy.stats import skew"
   ]
  },
  {
   "cell_type": "code",
   "execution_count": 111,
   "id": "01b38879-0f96-4484-a8da-f670b9376a63",
   "metadata": {
    "tags": []
   },
   "outputs": [
    {
     "data": {
      "text/plain": [
       "0.10226407464884266"
      ]
     },
     "execution_count": 111,
     "metadata": {},
     "output_type": "execute_result"
    }
   ],
   "source": [
    "skew(total)"
   ]
  },
  {
   "cell_type": "markdown",
   "id": "303575de-cf51-4d11-8781-70213c3673b0",
   "metadata": {
    "tags": []
   },
   "source": [
    "### Box Plot"
   ]
  },
  {
   "cell_type": "code",
   "execution_count": 121,
   "id": "00e3db46-b0f2-41b3-8249-274829dafaa7",
   "metadata": {
    "tags": []
   },
   "outputs": [
    {
     "data": {
      "image/png": "[encoded data removed]",
      "text/plain": [
       "<Figure size 640x480 with 1 Axes>"
      ]
     },
     "metadata": {},
     "output_type": "display_data"
    }
   ],
   "source": [
    "from matplotlib import pyplot as plt\n",
    "plt.boxplot(total, sym='*')\n",
    "plt.show()"
   ]
  },
  {
   "cell_type": "code",
   "execution_count": null,
   "id": "75c03c44-d027-4814-82cd-6ba5e447ee89",
   "metadata": {},
   "outputs": [],
   "source": []
  }
 ],
 "metadata": {
  "kernelspec": {
   "display_name": "Python 3 (ipykernel)",
   "language": "python",
   "name": "python3"
  },
  "language_info": {
   "codemirror_mode": {
    "name": "ipython",
    "version": 3
   },
   "file_extension": ".py",
   "mimetype": "text/x-python",
   "name": "python",
   "nbconvert_exporter": "python",
   "pygments_lexer": "ipython3",
   "version": "3.11.5"
  }
 },
 "nbformat": 4,
 "nbformat_minor": 5
}
