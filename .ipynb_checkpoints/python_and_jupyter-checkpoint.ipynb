{
 "cells": [
  {
   "cell_type": "code",
   "execution_count": 25,
   "id": "9f3aaf0c-5f36-4e32-93ad-e7b20a67584d",
   "metadata": {
    "tags": []
   },
   "outputs": [],
   "source": [
    "import random"
   ]
  },
  {
   "cell_type": "code",
   "execution_count": null,
   "id": "e0ab13b6-d95b-4765-ad05-f23db3f0cc33",
   "metadata": {},
   "outputs": [],
   "source": [
    "the following topics:\n",
    "\n",
    "Performing arithmetic operations using Python\n",
    "Solving multi-step problems using variables\n",
    "Evaluating conditions using Python\n",
    "Combining conditions with logical operators\n",
    "Adding text styles using Markdown"
   ]
  },
  {
   "cell_type": "code",
   "execution_count": null,
   "id": "21183cb4-4cf4-470c-a2e8-bab17b0446db",
   "metadata": {},
   "outputs": [],
   "source": []
  },
  {
   "cell_type": "code",
   "execution_count": null,
   "id": "d2d25f06-6aff-4809-b357-d1972d5dae06",
   "metadata": {},
   "outputs": [],
   "source": []
  },
  {
   "cell_type": "code",
   "execution_count": null,
   "id": "468f3b81-c4f0-47b1-8915-aaed61ea9925",
   "metadata": {},
   "outputs": [],
   "source": []
  },
  {
   "cell_type": "code",
   "execution_count": 4,
   "id": "1387ccd1-5cd2-4200-bac9-868103490cfd",
   "metadata": {
    "tags": []
   },
   "outputs": [
    {
     "data": {
      "text/plain": [
       "-3304.73"
      ]
     },
     "execution_count": 4,
     "metadata": {},
     "output_type": "execute_result"
    }
   ],
   "source": [
    "23.11 * -143"
   ]
  },
  {
   "cell_type": "code",
   "execution_count": 9,
   "id": "41ae51a2-6b63-44ca-98f2-cdd48bc61faa",
   "metadata": {
    "tags": []
   },
   "outputs": [
    {
     "data": {
      "text/plain": [
       "14.285714285714286"
      ]
     },
     "execution_count": 9,
     "metadata": {},
     "output_type": "execute_result"
    }
   ],
   "source": [
    "100/7"
   ]
  },
  {
   "cell_type": "code",
   "execution_count": 10,
   "id": "1a32aa69-c3f8-45dc-be7a-827c0765046f",
   "metadata": {
    "tags": []
   },
   "outputs": [
    {
     "data": {
      "text/plain": [
       "14"
      ]
     },
     "execution_count": 10,
     "metadata": {},
     "output_type": "execute_result"
    }
   ],
   "source": [
    "100//7"
   ]
  },
  {
   "cell_type": "code",
   "execution_count": 11,
   "id": "36571761-dfc7-4f23-bc0e-d48bc250d2f4",
   "metadata": {
    "tags": []
   },
   "outputs": [
    {
     "data": {
      "text/plain": [
       "2"
      ]
     },
     "execution_count": 11,
     "metadata": {},
     "output_type": "execute_result"
    }
   ],
   "source": [
    "100%7"
   ]
  },
  {
   "cell_type": "code",
   "execution_count": 12,
   "id": "46abd915-2c0e-499f-b6cd-66f9c814f6b5",
   "metadata": {
    "tags": []
   },
   "outputs": [
    {
     "data": {
      "text/plain": [
       "125"
      ]
     },
     "execution_count": 12,
     "metadata": {},
     "output_type": "execute_result"
    }
   ],
   "source": [
    "5**3"
   ]
  },
  {
   "cell_type": "markdown",
   "id": "98429b39-dafa-42fd-9ce5-4deec9b8ab7f",
   "metadata": {
    "tags": []
   },
   "source": [
    "((2+5) * (17-3))/(4**3)"
   ]
  },
  {
   "cell_type": "code",
   "execution_count": 25,
   "id": "ccb9df45-9b84-4f05-bc10-43b025e153d2",
   "metadata": {
    "tags": []
   },
   "outputs": [
    {
     "name": "stdout",
     "output_type": "stream",
     "text": [
      "total price of bags: 625.0\n",
      "total price of discount of %d bags 125.0 500\n"
     ]
    }
   ],
   "source": [
    "bags = 500\n",
    "price = 1.25\n",
    "profit = 20\n",
    "\n",
    "total_price = bags * price\n",
    "print(\"total price of bags:\", total_price)\n",
    "total_profit = total_price * profit/100\n",
    "print(\"total price of discount of %d bags\", total_profit, bags)"
   ]
  },
  {
   "cell_type": "code",
   "execution_count": 51,
   "id": "6e28bc2f-c951-4c0f-ace5-eb52250d86f0",
   "metadata": {
    "tags": []
   },
   "outputs": [
    {
     "name": "stdout",
     "output_type": "stream",
     "text": [
      "total_profit 800\n"
     ]
    }
   ],
   "source": [
    "plane_cost = 5000\n",
    "total_people = 29\n",
    "ticket_cost = 200\n",
    "total_profit = (ticket_cost*total_people) - plane_cost\n",
    "print(\"total_profit\", (ticket_cost*total_people) - plane_cost)\n",
    "#print(total_people*ticket_cost)"
   ]
  },
  {
   "cell_type": "code",
   "execution_count": 41,
   "id": "5378e55f-7de9-4bcd-882b-4e8f4dbe28d3",
   "metadata": {
    "tags": []
   },
   "outputs": [],
   "source": [
    "rand_num = random.randint(1,4)"
   ]
  },
  {
   "cell_type": "code",
   "execution_count": 42,
   "id": "46b1face-4fdd-4f57-a01a-20aa8912a955",
   "metadata": {
    "tags": []
   },
   "outputs": [
    {
     "data": {
      "text/plain": [
       "1"
      ]
     },
     "execution_count": 42,
     "metadata": {},
     "output_type": "execute_result"
    }
   ],
   "source": [
    "rand_num"
   ]
  },
  {
   "cell_type": "code",
   "execution_count": 55,
   "id": "8c5a40b4-d964-4482-b657-a6a217803909",
   "metadata": {
    "tags": []
   },
   "outputs": [
    {
     "data": {
      "text/plain": [
       "False"
      ]
     },
     "execution_count": 55,
     "metadata": {},
     "output_type": "execute_result"
    }
   ],
   "source": [
    "not total_profit == 800"
   ]
  },
  {
   "cell_type": "code",
   "execution_count": 58,
   "id": "284ab61b-0c06-4f46-9208-d91cede05efa",
   "metadata": {
    "tags": []
   },
   "outputs": [
    {
     "data": {
      "text/plain": [
       "False"
      ]
     },
     "execution_count": 58,
     "metadata": {},
     "output_type": "execute_result"
    }
   ],
   "source": [
    "not True"
   ]
  },
  {
   "cell_type": "code",
   "execution_count": 60,
   "id": "4b39d307-23f4-4c19-b508-08b896d305c2",
   "metadata": {
    "tags": []
   },
   "outputs": [
    {
     "data": {
      "text/plain": [
       "False"
      ]
     },
     "execution_count": 60,
     "metadata": {},
     "output_type": "execute_result"
    }
   ],
   "source": [
    "(2 > 3 and 4 <= 5) or not (total_profit < 900 and True)"
   ]
  },
  {
   "cell_type": "code",
   "execution_count": 62,
   "id": "c46b2120-d797-451b-a68a-8423c283ce61",
   "metadata": {
    "tags": []
   },
   "outputs": [
    {
     "name": "stdout",
     "output_type": "stream",
     "text": [
      "b\n"
     ]
    }
   ],
   "source": [
    "a,b = 2,3\n",
    "print(\"a\" if a>b else \"b\")"
   ]
  },
  {
   "cell_type": "markdown",
   "id": "486aceab-d620-4172-a3f7-b28e68466905",
   "metadata": {
    "tags": []
   },
   "source": [
    "## This is heading"
   ]
  },
  {
   "cell_type": "markdown",
   "id": "b072c83e-b3dd-4197-9178-9dd539029514",
   "metadata": {},
   "source": [
    "# A bullet List:\n",
    "\n",
    "* Item1\n",
    "* Item2\n",
    "* Item3\n",
    "\n",
    "1. Item1\n",
    "2. Item2\n",
    "3. Item3\n",
    "\n",
    "## Link\n",
    "[Google]()\n",
    "**Google**\n",
    "*Google*"
   ]
  },
  {
   "cell_type": "markdown",
   "id": "dc55ba71-7291-4321-9134-69ced2fa79d0",
   "metadata": {
    "tags": []
   },
   "source": [
    "# **Strong information using variables**"
   ]
  },
  {
   "cell_type": "code",
   "execution_count": 10,
   "id": "203c0a36-b512-458a-a3e4-0368cd9afedf",
   "metadata": {
    "tags": []
   },
   "outputs": [],
   "source": [
    "color1, color2, color3 = 'red', 'greeen', 'blue'"
   ]
  },
  {
   "cell_type": "code",
   "execution_count": 14,
   "id": "9bd661e4-1412-4342-90b3-b31e12bad34e",
   "metadata": {
    "tags": []
   },
   "outputs": [
    {
     "name": "stdout",
     "output_type": "stream",
     "text": [
      "* red\n",
      "* greeen\n",
      "* blue\n"
     ]
    }
   ],
   "source": [
    "for i in [color1, color2, color3]:\n",
    "    print (\"*\", i)\n",
    "#color1, color2, color3"
   ]
  },
  {
   "cell_type": "code",
   "execution_count": 17,
   "id": "c7f4729c-38e8-4f01-9928-835ead56de49",
   "metadata": {
    "tags": []
   },
   "outputs": [],
   "source": [
    "color4 = color5 = color6 = \"magenta\""
   ]
  },
  {
   "cell_type": "code",
   "execution_count": 18,
   "id": "3d6b4900-e45d-4b60-9121-61ac20a0dadf",
   "metadata": {
    "tags": []
   },
   "outputs": [
    {
     "data": {
      "text/plain": [
       "('magenta', 'magenta', 'magenta')"
      ]
     },
     "execution_count": 18,
     "metadata": {},
     "output_type": "execute_result"
    }
   ],
   "source": [
    "color4, color5, color6"
   ]
  },
  {
   "cell_type": "code",
   "execution_count": 20,
   "id": "044161fb-4ae1-4bfa-8477-2cf1e234caa8",
   "metadata": {
    "tags": []
   },
   "outputs": [],
   "source": [
    "my_fav_color = \"black\""
   ]
  },
  {
   "cell_type": "code",
   "execution_count": 21,
   "id": "472f8911-eaf9-456b-b224-736ce266b792",
   "metadata": {
    "tags": []
   },
   "outputs": [
    {
     "data": {
      "text/plain": [
       "'black'"
      ]
     },
     "execution_count": 21,
     "metadata": {},
     "output_type": "execute_result"
    }
   ],
   "source": [
    "my_fav_color"
   ]
  },
  {
   "cell_type": "code",
   "execution_count": 22,
   "id": "29069404-19b2-4bfc-ba9b-3fde521d80b8",
   "metadata": {
    "tags": []
   },
   "outputs": [],
   "source": [
    "counter = 10"
   ]
  },
  {
   "cell_type": "code",
   "execution_count": 23,
   "id": "e361769a-d04b-4ce4-b3a2-7d3b1ee054bc",
   "metadata": {
    "tags": []
   },
   "outputs": [],
   "source": [
    "counter = counter + 1"
   ]
  },
  {
   "cell_type": "code",
   "execution_count": 24,
   "id": "a73d7604-f5fe-4f5e-a12b-e59750fe10e3",
   "metadata": {
    "tags": []
   },
   "outputs": [
    {
     "data": {
      "text/plain": [
       "11"
      ]
     },
     "execution_count": 24,
     "metadata": {},
     "output_type": "execute_result"
    }
   ],
   "source": [
    "counter"
   ]
  },
  {
   "cell_type": "code",
   "execution_count": 25,
   "id": "3709411d-4539-4c8f-8fa3-503cffef138b",
   "metadata": {
    "tags": []
   },
   "outputs": [
    {
     "name": "stdout",
     "output_type": "stream",
     "text": [
      "12\n"
     ]
    }
   ],
   "source": [
    "counter += 1\n",
    "print(counter)"
   ]
  },
  {
   "cell_type": "code",
   "execution_count": 26,
   "id": "d9accf55-d301-4939-86fc-7386cb2e21da",
   "metadata": {
    "tags": []
   },
   "outputs": [
    {
     "data": {
      "text/plain": [
       "int"
      ]
     },
     "execution_count": 26,
     "metadata": {},
     "output_type": "execute_result"
    }
   ],
   "source": [
    "type(counter)"
   ]
  },
  {
   "cell_type": "code",
   "execution_count": 29,
   "id": "28b11b29-83ea-4e19-a1b7-1e23f91e6fdc",
   "metadata": {
    "tags": []
   },
   "outputs": [],
   "source": [
    "no = 94385938458495894859048598498534859348593855464353453453453453333333333333334"
   ]
  },
  {
   "cell_type": "code",
   "execution_count": 30,
   "id": "1556bbee-b390-49be-90f5-54febf49461c",
   "metadata": {
    "tags": []
   },
   "outputs": [
    {
     "data": {
      "text/plain": [
       "94385938458495894859048598498534859348593855464353453453453453333333333333334"
      ]
     },
     "execution_count": 30,
     "metadata": {},
     "output_type": "execute_result"
    }
   ],
   "source": [
    "no"
   ]
  },
  {
   "cell_type": "code",
   "execution_count": 31,
   "id": "c22a327c-f38b-4160-97cf-c4001ba0c13e",
   "metadata": {
    "tags": []
   },
   "outputs": [],
   "source": [
    "fi = 839859348598345983495394.83498593485983459834985938459348593489508340958394859345"
   ]
  },
  {
   "cell_type": "code",
   "execution_count": 32,
   "id": "98f1076f-1381-4973-a88b-86cb7ed079c4",
   "metadata": {
    "tags": []
   },
   "outputs": [
    {
     "data": {
      "text/plain": [
       "8.39859348598346e+23"
      ]
     },
     "execution_count": 32,
     "metadata": {},
     "output_type": "execute_result"
    }
   ],
   "source": [
    "fi"
   ]
  },
  {
   "cell_type": "code",
   "execution_count": 33,
   "id": "31b53052-5288-4ba4-9765-89a514d10fce",
   "metadata": {
    "tags": []
   },
   "outputs": [],
   "source": [
    "one_hundred = 1e2"
   ]
  },
  {
   "cell_type": "code",
   "execution_count": 34,
   "id": "cc4fbc82-19a8-4e6f-be0b-1d4fb5b98b61",
   "metadata": {
    "tags": []
   },
   "outputs": [
    {
     "data": {
      "text/plain": [
       "100.0"
      ]
     },
     "execution_count": 34,
     "metadata": {},
     "output_type": "execute_result"
    }
   ],
   "source": [
    "one_hundred"
   ]
  },
  {
   "cell_type": "code",
   "execution_count": 35,
   "id": "b32e0628-e226-4fd2-9fe5-be626fd2ee38",
   "metadata": {
    "tags": []
   },
   "outputs": [],
   "source": [
    "one_hundred = 1e-2"
   ]
  },
  {
   "cell_type": "code",
   "execution_count": 36,
   "id": "472d85b9-ac88-43bf-8f42-1a879c19e15b",
   "metadata": {
    "tags": []
   },
   "outputs": [
    {
     "data": {
      "text/plain": [
       "0.01"
      ]
     },
     "execution_count": 36,
     "metadata": {},
     "output_type": "execute_result"
    }
   ],
   "source": [
    "one_hundred"
   ]
  },
  {
   "cell_type": "code",
   "execution_count": 37,
   "id": "dfd43da8-85d9-41ad-8ce2-872195f56374",
   "metadata": {
    "tags": []
   },
   "outputs": [],
   "source": [
    "cy = 2023"
   ]
  },
  {
   "cell_type": "code",
   "execution_count": 38,
   "id": "67712e3e-25be-49c1-b888-e38bc122ddf7",
   "metadata": {
    "tags": []
   },
   "outputs": [
    {
     "data": {
      "text/plain": [
       "2023"
      ]
     },
     "execution_count": 38,
     "metadata": {},
     "output_type": "execute_result"
    }
   ],
   "source": [
    "cy"
   ]
  },
  {
   "cell_type": "code",
   "execution_count": 39,
   "id": "0da988aa-f7f9-4098-ba43-b9730d00e057",
   "metadata": {
    "tags": []
   },
   "outputs": [
    {
     "data": {
      "text/plain": [
       "2023.0"
      ]
     },
     "execution_count": 39,
     "metadata": {},
     "output_type": "execute_result"
    }
   ],
   "source": [
    "float(cy)"
   ]
  },
  {
   "cell_type": "code",
   "execution_count": 40,
   "id": "7e64b1c9-c8c7-4f1a-ac56-a244b667419c",
   "metadata": {
    "tags": []
   },
   "outputs": [
    {
     "data": {
      "text/plain": [
       "2023"
      ]
     },
     "execution_count": 40,
     "metadata": {},
     "output_type": "execute_result"
    }
   ],
   "source": [
    "cy"
   ]
  },
  {
   "cell_type": "code",
   "execution_count": 41,
   "id": "38a7dee2-bdaa-40e1-915e-c212b515894d",
   "metadata": {
    "tags": []
   },
   "outputs": [
    {
     "data": {
      "text/plain": [
       "float"
      ]
     },
     "execution_count": 41,
     "metadata": {},
     "output_type": "execute_result"
    }
   ],
   "source": [
    "type(10/2)"
   ]
  },
  {
   "cell_type": "code",
   "execution_count": 42,
   "id": "a8da1577-f9de-48e4-b091-32298405fe41",
   "metadata": {
    "tags": []
   },
   "outputs": [
    {
     "data": {
      "text/plain": [
       "int"
      ]
     },
     "execution_count": 42,
     "metadata": {},
     "output_type": "execute_result"
    }
   ],
   "source": [
    "type(10//2)"
   ]
  },
  {
   "cell_type": "code",
   "execution_count": 43,
   "id": "0d4ee056-0d38-4c31-baec-96280c0a6c10",
   "metadata": {
    "tags": []
   },
   "outputs": [],
   "source": [
    "right = True"
   ]
  },
  {
   "cell_type": "code",
   "execution_count": 44,
   "id": "74aa28e2-01df-48e1-a06f-704e1f54b74e",
   "metadata": {
    "tags": []
   },
   "outputs": [
    {
     "data": {
      "text/plain": [
       "True"
      ]
     },
     "execution_count": 44,
     "metadata": {},
     "output_type": "execute_result"
    }
   ],
   "source": [
    "right"
   ]
  },
  {
   "cell_type": "code",
   "execution_count": 45,
   "id": "57ac764d-45ab-4ea7-a8d6-60ee8dc4ad0f",
   "metadata": {
    "tags": []
   },
   "outputs": [
    {
     "data": {
      "text/plain": [
       "bool"
      ]
     },
     "execution_count": 45,
     "metadata": {},
     "output_type": "execute_result"
    }
   ],
   "source": [
    "type(right)"
   ]
  },
  {
   "cell_type": "code",
   "execution_count": 47,
   "id": "01e0bdbd-9510-4061-b6f2-97280f2a7804",
   "metadata": {
    "tags": []
   },
   "outputs": [
    {
     "data": {
      "text/plain": [
       "int"
      ]
     },
     "execution_count": 47,
     "metadata": {},
     "output_type": "execute_result"
    }
   ],
   "source": [
    "type(4 + True)"
   ]
  },
  {
   "cell_type": "code",
   "execution_count": 48,
   "id": "1c8b0ecf-3988-4942-8a4f-60d3abebf0fb",
   "metadata": {
    "tags": []
   },
   "outputs": [
    {
     "data": {
      "text/plain": [
       "False"
      ]
     },
     "execution_count": 48,
     "metadata": {},
     "output_type": "execute_result"
    }
   ],
   "source": [
    "bool(0)"
   ]
  },
  {
   "cell_type": "code",
   "execution_count": 49,
   "id": "99a86744-7b51-4983-b126-15322b96e4dd",
   "metadata": {
    "tags": []
   },
   "outputs": [
    {
     "data": {
      "text/plain": [
       "False"
      ]
     },
     "execution_count": 49,
     "metadata": {},
     "output_type": "execute_result"
    }
   ],
   "source": [
    "bool(False)"
   ]
  },
  {
   "cell_type": "code",
   "execution_count": 50,
   "id": "99c1a4ec-1ee5-4de0-90e4-8c86b169b8ef",
   "metadata": {
    "tags": []
   },
   "outputs": [
    {
     "data": {
      "text/plain": [
       "False"
      ]
     },
     "execution_count": 50,
     "metadata": {},
     "output_type": "execute_result"
    }
   ],
   "source": [
    "bool(0.0)"
   ]
  },
  {
   "cell_type": "code",
   "execution_count": 51,
   "id": "15d3e27c-b1c9-4c99-af1f-b4304b482282",
   "metadata": {
    "tags": []
   },
   "outputs": [
    {
     "data": {
      "text/plain": [
       "False"
      ]
     },
     "execution_count": 51,
     "metadata": {},
     "output_type": "execute_result"
    }
   ],
   "source": [
    "bool(None)"
   ]
  },
  {
   "cell_type": "code",
   "execution_count": 52,
   "id": "c4570c7b-9490-4cde-8b44-41863a4369e8",
   "metadata": {
    "tags": []
   },
   "outputs": [
    {
     "data": {
      "text/plain": [
       "False"
      ]
     },
     "execution_count": 52,
     "metadata": {},
     "output_type": "execute_result"
    }
   ],
   "source": [
    "bool(\"\")"
   ]
  },
  {
   "cell_type": "code",
   "execution_count": 53,
   "id": "76df6cad-c703-40ea-b396-a6e27080f619",
   "metadata": {
    "tags": []
   },
   "outputs": [
    {
     "data": {
      "text/plain": [
       "False"
      ]
     },
     "execution_count": 53,
     "metadata": {},
     "output_type": "execute_result"
    }
   ],
   "source": [
    "bool([])"
   ]
  },
  {
   "cell_type": "code",
   "execution_count": 54,
   "id": "36aac176-08ed-497f-9532-61e23006df62",
   "metadata": {
    "tags": []
   },
   "outputs": [
    {
     "data": {
      "text/plain": [
       "False"
      ]
     },
     "execution_count": 54,
     "metadata": {},
     "output_type": "execute_result"
    }
   ],
   "source": [
    "bool(())"
   ]
  },
  {
   "cell_type": "code",
   "execution_count": 55,
   "id": "4ba20225-641e-4fb8-8a03-cc9c384358d0",
   "metadata": {
    "tags": []
   },
   "outputs": [
    {
     "data": {
      "text/plain": [
       "False"
      ]
     },
     "execution_count": 55,
     "metadata": {},
     "output_type": "execute_result"
    }
   ],
   "source": [
    "bool({})"
   ]
  },
  {
   "cell_type": "code",
   "execution_count": 56,
   "id": "7e95a2e7-be1c-4c9a-be3f-9159e685a576",
   "metadata": {
    "tags": []
   },
   "outputs": [
    {
     "data": {
      "text/plain": [
       "False"
      ]
     },
     "execution_count": 56,
     "metadata": {},
     "output_type": "execute_result"
    }
   ],
   "source": [
    "bool(set())"
   ]
  },
  {
   "cell_type": "code",
   "execution_count": 57,
   "id": "2f75cd30-0ee7-4828-9b32-376a3e91cc21",
   "metadata": {
    "tags": []
   },
   "outputs": [
    {
     "data": {
      "text/plain": [
       "True"
      ]
     },
     "execution_count": 57,
     "metadata": {},
     "output_type": "execute_result"
    }
   ],
   "source": [
    "bool(range(1))"
   ]
  },
  {
   "cell_type": "code",
   "execution_count": 58,
   "id": "0078cf03-1ef9-4910-b54a-15620fb3c1ee",
   "metadata": {
    "tags": []
   },
   "outputs": [
    {
     "data": {
      "text/plain": [
       "False"
      ]
     },
     "execution_count": 58,
     "metadata": {},
     "output_type": "execute_result"
    }
   ],
   "source": [
    "bool(range(0))"
   ]
  },
  {
   "cell_type": "code",
   "execution_count": 60,
   "id": "36282e7f-0e9c-4559-9805-2445b0f4bbcb",
   "metadata": {
    "tags": []
   },
   "outputs": [
    {
     "data": {
      "text/plain": [
       "True"
      ]
     },
     "execution_count": 60,
     "metadata": {},
     "output_type": "execute_result"
    }
   ],
   "source": [
    "bool((1,1))"
   ]
  },
  {
   "cell_type": "code",
   "execution_count": 65,
   "id": "382a56cb-c8d7-45a4-8f3c-b92b336a584d",
   "metadata": {
    "tags": []
   },
   "outputs": [],
   "source": [
    "today = \"saturday\""
   ]
  },
  {
   "cell_type": "code",
   "execution_count": 66,
   "id": "317f03f6-09cb-4183-880b-5a13bc50c544",
   "metadata": {
    "tags": []
   },
   "outputs": [
    {
     "data": {
      "text/plain": [
       "['s', 'a', 't', 'u', 'r', 'd', 'a', 'y']"
      ]
     },
     "execution_count": 66,
     "metadata": {},
     "output_type": "execute_result"
    }
   ],
   "source": [
    "list(today)"
   ]
  },
  {
   "cell_type": "code",
   "execution_count": 69,
   "id": "108691af-28e2-4a73-9616-8a131e2e4f0d",
   "metadata": {
    "tags": []
   },
   "outputs": [
    {
     "data": {
      "text/plain": [
       "'tur'"
      ]
     },
     "execution_count": 69,
     "metadata": {},
     "output_type": "execute_result"
    }
   ],
   "source": [
    "today[2:5]"
   ]
  },
  {
   "cell_type": "code",
   "execution_count": 72,
   "id": "ce4aea06-52a1-43c7-9843-19a4bb210b09",
   "metadata": {
    "tags": []
   },
   "outputs": [
    {
     "data": {
      "text/plain": [
       "True"
      ]
     },
     "execution_count": 72,
     "metadata": {},
     "output_type": "execute_result"
    }
   ],
   "source": [
    "'day' in today"
   ]
  },
  {
   "cell_type": "code",
   "execution_count": 73,
   "id": "bfe70edc-9e74-492e-bd87-0558c1b7ede6",
   "metadata": {
    "tags": []
   },
   "outputs": [
    {
     "data": {
      "text/plain": [
       "True"
      ]
     },
     "execution_count": 73,
     "metadata": {},
     "output_type": "execute_result"
    }
   ],
   "source": [
    "'sat' in today"
   ]
  },
  {
   "cell_type": "code",
   "execution_count": 74,
   "id": "ed056245-471e-4160-9b7f-60ee610b0231",
   "metadata": {
    "tags": []
   },
   "outputs": [
    {
     "data": {
      "text/plain": [
       "'My name is shubham sharma'"
      ]
     },
     "execution_count": 74,
     "metadata": {},
     "output_type": "execute_result"
    }
   ],
   "source": [
    "\"my name is shubham sharma\".capitalize()"
   ]
  },
  {
   "cell_type": "code",
   "execution_count": 76,
   "id": "ab5bdfeb-bb1b-435b-b1a3-b443e3dfefc0",
   "metadata": {
    "tags": []
   },
   "outputs": [
    {
     "data": {
      "text/plain": [
       "'my name is khan moive'"
      ]
     },
     "execution_count": 76,
     "metadata": {},
     "output_type": "execute_result"
    }
   ],
   "source": [
    "\"  my name is khan moive\".strip()"
   ]
  },
  {
   "cell_type": "code",
   "execution_count": 77,
   "id": "7b13e435-e0dc-4b8e-8090-0e3b28d8d65b",
   "metadata": {
    "tags": []
   },
   "outputs": [],
   "source": [
    "fruits = ['apple', 'banana', 'cherry']"
   ]
  },
  {
   "cell_type": "code",
   "execution_count": 78,
   "id": "551bafad-a50f-4095-8661-13ecb75acfcb",
   "metadata": {
    "tags": []
   },
   "outputs": [
    {
     "data": {
      "text/plain": [
       "['apple', 'banana', 'cherry']"
      ]
     },
     "execution_count": 78,
     "metadata": {},
     "output_type": "execute_result"
    }
   ],
   "source": [
    "fruits"
   ]
  },
  {
   "cell_type": "code",
   "execution_count": 79,
   "id": "0af7045c-86c0-4423-8f9a-ba53bdef91af",
   "metadata": {
    "tags": []
   },
   "outputs": [
    {
     "data": {
      "text/plain": [
       "list"
      ]
     },
     "execution_count": 79,
     "metadata": {},
     "output_type": "execute_result"
    }
   ],
   "source": [
    "type(fruits)"
   ]
  },
  {
   "cell_type": "code",
   "execution_count": 80,
   "id": "cb662244-2fe5-409f-b8f3-f08cf647509e",
   "metadata": {
    "tags": []
   },
   "outputs": [],
   "source": [
    "a_list = [12, \"one\", None, [\"one\", \"two\", \"three\"], True]"
   ]
  },
  {
   "cell_type": "code",
   "execution_count": 81,
   "id": "221b0002-ee26-4392-8983-faff89fa1880",
   "metadata": {
    "tags": []
   },
   "outputs": [
    {
     "data": {
      "text/plain": [
       "[12, 'one', None, ['one', 'two', 'three'], True]"
      ]
     },
     "execution_count": 81,
     "metadata": {},
     "output_type": "execute_result"
    }
   ],
   "source": [
    "a_list"
   ]
  },
  {
   "cell_type": "code",
   "execution_count": 83,
   "id": "83a96e69-f34f-4bf3-8404-6a746604b0dc",
   "metadata": {
    "tags": []
   },
   "outputs": [
    {
     "data": {
      "text/plain": [
       "['one', 'two', 'three']"
      ]
     },
     "execution_count": 83,
     "metadata": {},
     "output_type": "execute_result"
    }
   ],
   "source": [
    "a_list[len(a_list)-2]"
   ]
  },
  {
   "cell_type": "code",
   "execution_count": 84,
   "id": "71fd31b2-5b14-464f-a86d-8f799ef3b751",
   "metadata": {
    "tags": []
   },
   "outputs": [],
   "source": [
    "e_list = []"
   ]
  },
  {
   "cell_type": "code",
   "execution_count": 85,
   "id": "bbc2b3d8-f16e-4eb3-9b8a-920570cc1c5c",
   "metadata": {
    "tags": []
   },
   "outputs": [
    {
     "data": {
      "text/plain": [
       "0"
      ]
     },
     "execution_count": 85,
     "metadata": {},
     "output_type": "execute_result"
    }
   ],
   "source": [
    "len(e_list)"
   ]
  },
  {
   "cell_type": "code",
   "execution_count": 86,
   "id": "d7b3e2ce-1e11-481c-8a76-cf01a805b696",
   "metadata": {
    "tags": []
   },
   "outputs": [
    {
     "name": "stdout",
     "output_type": "stream",
     "text": [
      "Number of fruits: 3\n"
     ]
    }
   ],
   "source": [
    "print(\"Number of fruits:\", len(fruits))"
   ]
  },
  {
   "cell_type": "code",
   "execution_count": 87,
   "id": "7a13e76d-3072-4065-9f0d-fe454fc2dcb1",
   "metadata": {
    "tags": []
   },
   "outputs": [
    {
     "data": {
      "text/plain": [
       "5"
      ]
     },
     "execution_count": 87,
     "metadata": {},
     "output_type": "execute_result"
    }
   ],
   "source": [
    "len(a_list)"
   ]
  },
  {
   "cell_type": "code",
   "execution_count": 88,
   "id": "0945bbd8-9305-4159-97b9-0ca8f309881d",
   "metadata": {
    "tags": []
   },
   "outputs": [
    {
     "ename": "IndexError",
     "evalue": "list index out of range",
     "output_type": "error",
     "traceback": [
      "\u001b[1;31m---------------------------------------------------------------------------\u001b[0m",
      "\u001b[1;31mIndexError\u001b[0m                                Traceback (most recent call last)",
      "Cell \u001b[1;32mIn[88], line 1\u001b[0m\n\u001b[1;32m----> 1\u001b[0m fruits[\u001b[38;5;241m4\u001b[39m]\n",
      "\u001b[1;31mIndexError\u001b[0m: list index out of range"
     ]
    }
   ],
   "source": [
    "fruits[4]"
   ]
  },
  {
   "cell_type": "code",
   "execution_count": 89,
   "id": "05346043-5e01-4cb8-832b-f13359003123",
   "metadata": {
    "tags": []
   },
   "outputs": [
    {
     "data": {
      "text/plain": [
       "'cherry'"
      ]
     },
     "execution_count": 89,
     "metadata": {},
     "output_type": "execute_result"
    }
   ],
   "source": [
    "fruits[-1]"
   ]
  },
  {
   "cell_type": "code",
   "execution_count": 90,
   "id": "eeee74ba-6341-4a41-8a90-dc62014d4974",
   "metadata": {
    "tags": []
   },
   "outputs": [
    {
     "ename": "IndexError",
     "evalue": "list index out of range",
     "output_type": "error",
     "traceback": [
      "\u001b[1;31m---------------------------------------------------------------------------\u001b[0m",
      "\u001b[1;31mIndexError\u001b[0m                                Traceback (most recent call last)",
      "Cell \u001b[1;32mIn[90], line 1\u001b[0m\n\u001b[1;32m----> 1\u001b[0m fruits[\u001b[38;5;241m-\u001b[39m\u001b[38;5;241m4\u001b[39m]\n",
      "\u001b[1;31mIndexError\u001b[0m: list index out of range"
     ]
    }
   ],
   "source": [
    "fruits[-4]"
   ]
  },
  {
   "cell_type": "code",
   "execution_count": 91,
   "id": "0567b052-7ca1-4982-841a-460277ad8ad7",
   "metadata": {
    "tags": []
   },
   "outputs": [],
   "source": [
    "a_list = [23, 'hello', None, 2.23, fruits, False]"
   ]
  },
  {
   "cell_type": "code",
   "execution_count": 92,
   "id": "8e535b65-de1c-45f4-8aaa-ea3b73f8f887",
   "metadata": {
    "tags": []
   },
   "outputs": [
    {
     "data": {
      "text/plain": [
       "[23, 'hello', None, 2.23, ['apple', 'banana', 'cherry'], False]"
      ]
     },
     "execution_count": 92,
     "metadata": {},
     "output_type": "execute_result"
    }
   ],
   "source": [
    "a_list"
   ]
  },
  {
   "cell_type": "code",
   "execution_count": 93,
   "id": "477bb08c-3400-4e20-b5a8-c88f3e859148",
   "metadata": {
    "tags": []
   },
   "outputs": [
    {
     "data": {
      "text/plain": [
       "6"
      ]
     },
     "execution_count": 93,
     "metadata": {},
     "output_type": "execute_result"
    }
   ],
   "source": [
    "len(a_list)"
   ]
  },
  {
   "cell_type": "code",
   "execution_count": 98,
   "id": "b6de9eb8-318e-450d-849a-3c8006ab5a78",
   "metadata": {
    "tags": []
   },
   "outputs": [
    {
     "data": {
      "text/plain": [
       "[None, 2.23, ['apple', 'banana', 'cherry']]"
      ]
     },
     "execution_count": 98,
     "metadata": {},
     "output_type": "execute_result"
    }
   ],
   "source": [
    "a_list[2:5]"
   ]
  },
  {
   "cell_type": "code",
   "execution_count": 104,
   "id": "e6ca2396-ec87-4718-9a8f-e78ab135221d",
   "metadata": {
    "tags": []
   },
   "outputs": [
    {
     "data": {
      "text/plain": [
       "[False]"
      ]
     },
     "execution_count": 104,
     "metadata": {},
     "output_type": "execute_result"
    }
   ],
   "source": [
    "a_list[-1:]"
   ]
  },
  {
   "cell_type": "code",
   "execution_count": 105,
   "id": "87793a01-ec56-4d5f-a050-88feb4c5ec11",
   "metadata": {
    "tags": []
   },
   "outputs": [
    {
     "data": {
      "text/plain": [
       "[23, 'hello', None, 2.23, ['apple', 'banana', 'cherry']]"
      ]
     },
     "execution_count": 105,
     "metadata": {},
     "output_type": "execute_result"
    }
   ],
   "source": [
    "a_list[:5]"
   ]
  },
  {
   "cell_type": "code",
   "execution_count": 106,
   "id": "7e77853b-76c8-4866-80e1-e565c12a042c",
   "metadata": {
    "tags": []
   },
   "outputs": [
    {
     "data": {
      "text/plain": [
       "[]"
      ]
     },
     "execution_count": 106,
     "metadata": {},
     "output_type": "execute_result"
    }
   ],
   "source": [
    "a_list[-2:-5]"
   ]
  },
  {
   "cell_type": "code",
   "execution_count": 107,
   "id": "af5bafd6-923a-4664-812a-fb2b1c8cc55b",
   "metadata": {
    "tags": []
   },
   "outputs": [
    {
     "data": {
      "text/plain": [
       "['hello', None, 2.23]"
      ]
     },
     "execution_count": 107,
     "metadata": {},
     "output_type": "execute_result"
    }
   ],
   "source": [
    "a_list[-5:-2]"
   ]
  },
  {
   "cell_type": "code",
   "execution_count": 108,
   "id": "063b711f-1480-4560-8c00-7eb1b679bf90",
   "metadata": {
    "tags": []
   },
   "outputs": [],
   "source": [
    "fruits[1] = 'orange'"
   ]
  },
  {
   "cell_type": "code",
   "execution_count": 109,
   "id": "72f72f0d-afed-4751-b900-69b8bc1cb090",
   "metadata": {
    "tags": []
   },
   "outputs": [
    {
     "data": {
      "text/plain": [
       "['apple', 'orange', 'cherry']"
      ]
     },
     "execution_count": 109,
     "metadata": {},
     "output_type": "execute_result"
    }
   ],
   "source": [
    "fruits"
   ]
  },
  {
   "cell_type": "code",
   "execution_count": 110,
   "id": "80ad9665-2073-4b29-8955-c6c698a4578c",
   "metadata": {
    "tags": []
   },
   "outputs": [],
   "source": [
    "fruits.append('banana')"
   ]
  },
  {
   "cell_type": "code",
   "execution_count": 111,
   "id": "30c7a2e9-8d16-481f-860f-4840d7d2cf75",
   "metadata": {
    "tags": []
   },
   "outputs": [
    {
     "data": {
      "text/plain": [
       "['apple', 'orange', 'cherry', 'banana']"
      ]
     },
     "execution_count": 111,
     "metadata": {},
     "output_type": "execute_result"
    }
   ],
   "source": [
    "fruits"
   ]
  },
  {
   "cell_type": "code",
   "execution_count": 115,
   "id": "80993b1c-609e-4c6f-8450-02c6a469a1f8",
   "metadata": {
    "tags": []
   },
   "outputs": [],
   "source": [
    "fruits.insert(1, 'dates')"
   ]
  },
  {
   "cell_type": "code",
   "execution_count": 117,
   "id": "9788bd4c-aaf3-4599-a40d-5d4778cc1dbc",
   "metadata": {
    "tags": []
   },
   "outputs": [],
   "source": [
    "fruits.remove('cherry')"
   ]
  },
  {
   "cell_type": "code",
   "execution_count": 118,
   "id": "e9abe641-c291-4e9c-ab5d-bdea7aae9181",
   "metadata": {
    "tags": []
   },
   "outputs": [
    {
     "data": {
      "text/plain": [
       "['apple', 'dates', 'orange', 'banana']"
      ]
     },
     "execution_count": 118,
     "metadata": {},
     "output_type": "execute_result"
    }
   ],
   "source": [
    "fruits"
   ]
  },
  {
   "cell_type": "code",
   "execution_count": 123,
   "id": "040dd3bd-f8dd-48c5-b7bf-01d641f73837",
   "metadata": {
    "tags": []
   },
   "outputs": [
    {
     "data": {
      "text/plain": [
       "'banana'"
      ]
     },
     "execution_count": 123,
     "metadata": {},
     "output_type": "execute_result"
    }
   ],
   "source": [
    "fruits.pop(3)"
   ]
  },
  {
   "cell_type": "code",
   "execution_count": 124,
   "id": "92eda9cd-8d92-4b1b-b0bd-be78453a597a",
   "metadata": {
    "tags": []
   },
   "outputs": [
    {
     "data": {
      "text/plain": [
       "['apple', 'dates', 'orange']"
      ]
     },
     "execution_count": 124,
     "metadata": {},
     "output_type": "execute_result"
    }
   ],
   "source": [
    "fruits"
   ]
  },
  {
   "cell_type": "code",
   "execution_count": 125,
   "id": "fa08221d-8b3a-45e1-8f9c-ea886e6b5c9f",
   "metadata": {
    "tags": []
   },
   "outputs": [
    {
     "data": {
      "text/plain": [
       "'orange'"
      ]
     },
     "execution_count": 125,
     "metadata": {},
     "output_type": "execute_result"
    }
   ],
   "source": [
    "fruits.pop()"
   ]
  },
  {
   "cell_type": "code",
   "execution_count": 126,
   "id": "8507e55f-ae38-4c71-a4a9-1aa072aa7354",
   "metadata": {
    "tags": []
   },
   "outputs": [
    {
     "data": {
      "text/plain": [
       "['apple', 'dates']"
      ]
     },
     "execution_count": 126,
     "metadata": {},
     "output_type": "execute_result"
    }
   ],
   "source": [
    "fruits"
   ]
  },
  {
   "cell_type": "code",
   "execution_count": 127,
   "id": "637f767d-5fdb-4f5a-a648-fa225ca5fe78",
   "metadata": {
    "tags": []
   },
   "outputs": [
    {
     "data": {
      "text/plain": [
       "True"
      ]
     },
     "execution_count": 127,
     "metadata": {},
     "output_type": "execute_result"
    }
   ],
   "source": [
    "'dates' in fruits"
   ]
  },
  {
   "cell_type": "code",
   "execution_count": 128,
   "id": "df96a232-d269-4913-a639-e7e16d8a3cdb",
   "metadata": {
    "tags": []
   },
   "outputs": [
    {
     "data": {
      "text/plain": [
       "False"
      ]
     },
     "execution_count": 128,
     "metadata": {},
     "output_type": "execute_result"
    }
   ],
   "source": [
    "'orange' in fruits"
   ]
  },
  {
   "cell_type": "code",
   "execution_count": 131,
   "id": "3b83cbdc-dfb8-4b10-8121-9fe7be1c42f6",
   "metadata": {
    "tags": []
   },
   "outputs": [],
   "source": [
    "more_list = fruits + ['pineapple', 'tomato', 'guava'] + ['dates', 'banana']"
   ]
  },
  {
   "cell_type": "code",
   "execution_count": 132,
   "id": "b2e360ff-9bf2-4d6b-b995-6f611677ec10",
   "metadata": {
    "tags": []
   },
   "outputs": [
    {
     "data": {
      "text/plain": [
       "['apple', 'dates', 'pineapple', 'tomato', 'guava', 'dates', 'banana']"
      ]
     },
     "execution_count": 132,
     "metadata": {},
     "output_type": "execute_result"
    }
   ],
   "source": [
    "more_list"
   ]
  },
  {
   "cell_type": "code",
   "execution_count": 133,
   "id": "9f7ac88c-1476-4163-99f2-433e1387e105",
   "metadata": {
    "tags": []
   },
   "outputs": [],
   "source": [
    "more_fruits_copy = more_list.copy()"
   ]
  },
  {
   "cell_type": "code",
   "execution_count": 134,
   "id": "e70776fd-2050-4d1d-bec8-06f610917ae0",
   "metadata": {
    "tags": []
   },
   "outputs": [
    {
     "data": {
      "text/plain": [
       "['apple', 'dates', 'pineapple', 'tomato', 'guava', 'dates', 'banana']"
      ]
     },
     "execution_count": 134,
     "metadata": {},
     "output_type": "execute_result"
    }
   ],
   "source": [
    "more_fruits_copy"
   ]
  },
  {
   "cell_type": "code",
   "execution_count": 135,
   "id": "5313f9fd-4405-4460-907c-f2b028f8d3f1",
   "metadata": {
    "tags": []
   },
   "outputs": [
    {
     "data": {
      "text/plain": [
       "['apple', 'dates', 'tomato', 'guava', 'dates']"
      ]
     },
     "execution_count": 135,
     "metadata": {},
     "output_type": "execute_result"
    }
   ],
   "source": [
    "more_fruits_copy.remove('pineapple')\n",
    "more_fruits_copy.pop()\n",
    "more_fruits_copy"
   ]
  },
  {
   "cell_type": "code",
   "execution_count": 139,
   "id": "627f95b7-c130-4597-b78e-de96395f0d90",
   "metadata": {
    "tags": []
   },
   "outputs": [
    {
     "data": {
      "text/plain": [
       "['apple', 'dates', 'pineapple', 'tomato', 'guava', 'dates', 'banana']"
      ]
     },
     "execution_count": 139,
     "metadata": {},
     "output_type": "execute_result"
    }
   ],
   "source": [
    "more_list"
   ]
  },
  {
   "cell_type": "code",
   "execution_count": 140,
   "id": "f33c6e3b-6c28-48da-b52b-96766d183ff4",
   "metadata": {
    "tags": []
   },
   "outputs": [],
   "source": [
    "more_list_not_a_copy = more_list"
   ]
  },
  {
   "cell_type": "code",
   "execution_count": 141,
   "id": "616c3639-fe41-4a78-b60b-1af37a85a823",
   "metadata": {
    "tags": []
   },
   "outputs": [
    {
     "data": {
      "text/plain": [
       "['apple', 'dates', 'pineapple', 'tomato', 'guava', 'dates', 'banana']"
      ]
     },
     "execution_count": 141,
     "metadata": {},
     "output_type": "execute_result"
    }
   ],
   "source": [
    "more_list_not_a_copy"
   ]
  },
  {
   "cell_type": "code",
   "execution_count": 142,
   "id": "6c6d2bd0-f328-4897-8a26-f1b90dd19ea9",
   "metadata": {
    "tags": []
   },
   "outputs": [],
   "source": [
    "more_list_not_a_copy.remove('pineapple')"
   ]
  },
  {
   "cell_type": "code",
   "execution_count": 143,
   "id": "6b3448f5-e246-48b7-94b3-d79d6b9ee0c0",
   "metadata": {
    "tags": []
   },
   "outputs": [
    {
     "data": {
      "text/plain": [
       "['apple', 'dates', 'tomato', 'guava', 'dates', 'banana']"
      ]
     },
     "execution_count": 143,
     "metadata": {},
     "output_type": "execute_result"
    }
   ],
   "source": [
    "more_list_not_a_copy"
   ]
  },
  {
   "cell_type": "code",
   "execution_count": 144,
   "id": "7a9c35ae-e20d-4ae6-82e0-749579cd9a24",
   "metadata": {
    "tags": []
   },
   "outputs": [
    {
     "data": {
      "text/plain": [
       "['apple', 'dates', 'tomato', 'guava', 'dates', 'banana']"
      ]
     },
     "execution_count": 144,
     "metadata": {},
     "output_type": "execute_result"
    }
   ],
   "source": [
    "more_list"
   ]
  },
  {
   "cell_type": "code",
   "execution_count": 148,
   "id": "f212720e-6b12-4d92-b766-cb58b08d5246",
   "metadata": {
    "tags": []
   },
   "outputs": [],
   "source": [
    "more_list.reverse()"
   ]
  },
  {
   "cell_type": "markdown",
   "id": "46d0d747-8ea2-407a-bb0f-0fa64d33e908",
   "metadata": {},
   "source": [
    "more_list"
   ]
  },
  {
   "cell_type": "code",
   "execution_count": 147,
   "id": "0d73487d-e9b6-47cc-869d-9d2a6068129d",
   "metadata": {
    "tags": []
   },
   "outputs": [
    {
     "data": {
      "text/plain": [
       "['banana', 'dates', 'guava', 'tomato', 'dates', 'apple']"
      ]
     },
     "execution_count": 147,
     "metadata": {},
     "output_type": "execute_result"
    }
   ],
   "source": [
    "more_list"
   ]
  },
  {
   "cell_type": "code",
   "execution_count": 151,
   "id": "99f1c5c1-9ed9-4d9e-9436-4fa6b46f5501",
   "metadata": {
    "tags": []
   },
   "outputs": [],
   "source": [
    "more_list.sort()"
   ]
  },
  {
   "cell_type": "code",
   "execution_count": 152,
   "id": "f02315aa-4088-47b7-bc37-c9b3e64ebd5d",
   "metadata": {
    "tags": []
   },
   "outputs": [
    {
     "data": {
      "text/plain": [
       "['apple', 'banana', 'dates', 'dates', 'guava', 'tomato']"
      ]
     },
     "execution_count": 152,
     "metadata": {},
     "output_type": "execute_result"
    }
   ],
   "source": [
    "more_list"
   ]
  },
  {
   "cell_type": "code",
   "execution_count": 156,
   "id": "b907f690-cdfa-4991-8eef-db71a19087eb",
   "metadata": {
    "tags": []
   },
   "outputs": [],
   "source": [
    "more_list.sort()"
   ]
  },
  {
   "cell_type": "code",
   "execution_count": 157,
   "id": "2d06b255-ae26-4c62-81a3-363da45702f6",
   "metadata": {
    "tags": []
   },
   "outputs": [],
   "source": [
    "fruits = ('aaple', 'cherry', 'dates')"
   ]
  },
  {
   "cell_type": "code",
   "execution_count": 158,
   "id": "e885bdf2-0aa8-4fb9-a241-6fc97390f782",
   "metadata": {
    "tags": []
   },
   "outputs": [
    {
     "data": {
      "text/plain": [
       "('aaple', 'cherry', 'dates')"
      ]
     },
     "execution_count": 158,
     "metadata": {},
     "output_type": "execute_result"
    }
   ],
   "source": [
    "fruits"
   ]
  },
  {
   "cell_type": "code",
   "execution_count": 159,
   "id": "e14df6bd-209a-46ce-b11f-a5734809129c",
   "metadata": {
    "tags": []
   },
   "outputs": [
    {
     "data": {
      "text/plain": [
       "3"
      ]
     },
     "execution_count": 159,
     "metadata": {},
     "output_type": "execute_result"
    }
   ],
   "source": [
    "len(fruits)"
   ]
  },
  {
   "cell_type": "code",
   "execution_count": 165,
   "id": "d86c0b51-4495-48e6-827c-1b26e7e9a3de",
   "metadata": {
    "tags": []
   },
   "outputs": [
    {
     "data": {
      "text/plain": [
       "'aaple'"
      ]
     },
     "execution_count": 165,
     "metadata": {},
     "output_type": "execute_result"
    }
   ],
   "source": [
    "fruits[0]"
   ]
  },
  {
   "cell_type": "code",
   "execution_count": 166,
   "id": "ca7663fd-4f96-4378-87f4-84cadaa2b09f",
   "metadata": {
    "tags": []
   },
   "outputs": [
    {
     "data": {
      "text/plain": [
       "'cherry'"
      ]
     },
     "execution_count": 166,
     "metadata": {},
     "output_type": "execute_result"
    }
   ],
   "source": [
    "fruits[-2]"
   ]
  },
  {
   "cell_type": "code",
   "execution_count": 167,
   "id": "70972c21-464c-401a-8a4a-231ff7326bc2",
   "metadata": {
    "tags": []
   },
   "outputs": [
    {
     "data": {
      "text/plain": [
       "True"
      ]
     },
     "execution_count": 167,
     "metadata": {},
     "output_type": "execute_result"
    }
   ],
   "source": [
    "'cherry' in fruits"
   ]
  },
  {
   "cell_type": "code",
   "execution_count": 168,
   "id": "c4dd5ba8-3147-4c5b-8e5e-a1ae3d24a1a4",
   "metadata": {
    "tags": []
   },
   "outputs": [
    {
     "data": {
      "text/plain": [
       "False"
      ]
     },
     "execution_count": 168,
     "metadata": {},
     "output_type": "execute_result"
    }
   ],
   "source": [
    "'ornage' in fruits"
   ]
  },
  {
   "cell_type": "code",
   "execution_count": 169,
   "id": "2e4722e1-bd55-4443-8f60-efcf9fc708e3",
   "metadata": {
    "tags": []
   },
   "outputs": [],
   "source": [
    "the_2_musketeers = 'Athos', 'Porthos', 'Aramis'"
   ]
  },
  {
   "cell_type": "code",
   "execution_count": 170,
   "id": "6848916a-0e4e-4248-bfb9-87f492525071",
   "metadata": {
    "tags": []
   },
   "outputs": [
    {
     "data": {
      "text/plain": [
       "('Athos', 'Porthos', 'Aramis')"
      ]
     },
     "execution_count": 170,
     "metadata": {},
     "output_type": "execute_result"
    }
   ],
   "source": [
    "the_2_musketeers"
   ]
  },
  {
   "cell_type": "code",
   "execution_count": 171,
   "id": "75752e71-6e71-4e42-8e9f-1ba6dd466fc6",
   "metadata": {
    "tags": []
   },
   "outputs": [
    {
     "data": {
      "text/plain": [
       "tuple"
      ]
     },
     "execution_count": 171,
     "metadata": {},
     "output_type": "execute_result"
    }
   ],
   "source": [
    "type(the_2_musketeers)"
   ]
  },
  {
   "cell_type": "code",
   "execution_count": 172,
   "id": "e9c609b1-6ec1-46fa-b0e0-9aa734537674",
   "metadata": {
    "tags": []
   },
   "outputs": [
    {
     "data": {
      "text/plain": [
       "tuple"
      ]
     },
     "execution_count": 172,
     "metadata": {},
     "output_type": "execute_result"
    }
   ],
   "source": [
    "type(fruits)"
   ]
  },
  {
   "cell_type": "code",
   "execution_count": 173,
   "id": "800ab89a-3b59-45a4-80ac-41649f913dfa",
   "metadata": {
    "tags": []
   },
   "outputs": [],
   "source": [
    "single_element_tuple = 4,"
   ]
  },
  {
   "cell_type": "code",
   "execution_count": 174,
   "id": "1657c585-61e7-471c-9443-042eac80171c",
   "metadata": {
    "tags": []
   },
   "outputs": [
    {
     "data": {
      "text/plain": [
       "(4,)"
      ]
     },
     "execution_count": 174,
     "metadata": {},
     "output_type": "execute_result"
    }
   ],
   "source": [
    "single_element_tuple"
   ]
  },
  {
   "cell_type": "code",
   "execution_count": 175,
   "id": "07dbf172-ed04-4f9d-bf2d-6732f9fad70b",
   "metadata": {
    "tags": []
   },
   "outputs": [
    {
     "data": {
      "text/plain": [
       "tuple"
      ]
     },
     "execution_count": 175,
     "metadata": {},
     "output_type": "execute_result"
    }
   ],
   "source": [
    "type(single_element_tuple)"
   ]
  },
  {
   "cell_type": "code",
   "execution_count": 176,
   "id": "6197215f-c8c9-4a7b-8d08-d290e7172e66",
   "metadata": {
    "tags": []
   },
   "outputs": [],
   "source": [
    "another_single_element_tuple = (5, )"
   ]
  },
  {
   "cell_type": "code",
   "execution_count": 177,
   "id": "d53c5f61-98d2-4ada-945f-245fcd4f255b",
   "metadata": {
    "tags": []
   },
   "outputs": [
    {
     "data": {
      "text/plain": [
       "tuple"
      ]
     },
     "execution_count": 177,
     "metadata": {},
     "output_type": "execute_result"
    }
   ],
   "source": [
    "type(another_single_element_tuple)"
   ]
  },
  {
   "cell_type": "code",
   "execution_count": 178,
   "id": "77e18545-c4cc-4fa2-90d7-9218b1603893",
   "metadata": {
    "tags": []
   },
   "outputs": [],
   "source": [
    "another_single_element_tuple = (5)"
   ]
  },
  {
   "cell_type": "code",
   "execution_count": 179,
   "id": "2c932dd3-17c2-41be-902f-93f12f09ddcf",
   "metadata": {
    "tags": []
   },
   "outputs": [
    {
     "data": {
      "text/plain": [
       "5"
      ]
     },
     "execution_count": 179,
     "metadata": {},
     "output_type": "execute_result"
    }
   ],
   "source": [
    "another_single_element_tuple"
   ]
  },
  {
   "cell_type": "code",
   "execution_count": 180,
   "id": "4bb83c7a-3de2-477e-a3b1-f88e1198e009",
   "metadata": {
    "tags": []
   },
   "outputs": [],
   "source": [
    "not_a_tuple = (4)"
   ]
  },
  {
   "cell_type": "code",
   "execution_count": 181,
   "id": "da7fab69-2a17-4084-bfa0-479bfc298d3f",
   "metadata": {
    "tags": []
   },
   "outputs": [
    {
     "data": {
      "text/plain": [
       "4"
      ]
     },
     "execution_count": 181,
     "metadata": {},
     "output_type": "execute_result"
    }
   ],
   "source": [
    "not_a_tuple"
   ]
  },
  {
   "cell_type": "code",
   "execution_count": 182,
   "id": "26930911-d2c2-424e-b62e-7172c90bbc98",
   "metadata": {
    "tags": []
   },
   "outputs": [],
   "source": [
    "point  = (2, 3)"
   ]
  },
  {
   "cell_type": "code",
   "execution_count": 183,
   "id": "dea9401a-563d-4a57-9bab-e066da77d526",
   "metadata": {
    "tags": []
   },
   "outputs": [],
   "source": [
    "point_x, point_y = point"
   ]
  },
  {
   "cell_type": "code",
   "execution_count": 184,
   "id": "5751b3ad-6396-49f7-a076-a6601bdde68a",
   "metadata": {
    "tags": []
   },
   "outputs": [
    {
     "data": {
      "text/plain": [
       "2"
      ]
     },
     "execution_count": 184,
     "metadata": {},
     "output_type": "execute_result"
    }
   ],
   "source": [
    "point_x"
   ]
  },
  {
   "cell_type": "code",
   "execution_count": 185,
   "id": "e0e7c227-2a79-4f3f-a0a9-a702a4c4561f",
   "metadata": {
    "tags": []
   },
   "outputs": [
    {
     "data": {
      "text/plain": [
       "3"
      ]
     },
     "execution_count": 185,
     "metadata": {},
     "output_type": "execute_result"
    }
   ],
   "source": [
    "point_y"
   ]
  },
  {
   "cell_type": "code",
   "execution_count": 186,
   "id": "393fd4d8-a5d2-4519-977a-7b571ad92097",
   "metadata": {
    "tags": []
   },
   "outputs": [
    {
     "data": {
      "text/plain": [
       "('one', 'two', 'three')"
      ]
     },
     "execution_count": 186,
     "metadata": {},
     "output_type": "execute_result"
    }
   ],
   "source": [
    "tuple(['one', 'two', 'three'])"
   ]
  },
  {
   "cell_type": "code",
   "execution_count": 187,
   "id": "521b1383-c79f-4a21-b3f0-d063c877aba3",
   "metadata": {
    "tags": []
   },
   "outputs": [
    {
     "data": {
      "text/plain": [
       "list['one', 'two', 'three']"
      ]
     },
     "execution_count": 187,
     "metadata": {},
     "output_type": "execute_result"
    }
   ],
   "source": [
    "list[('one', 'two', 'three')]"
   ]
  },
  {
   "cell_type": "code",
   "execution_count": 188,
   "id": "6dd6a8a0-f058-41ce-91f2-e06e55b178a6",
   "metadata": {
    "tags": []
   },
   "outputs": [],
   "source": [
    "a_tuple = 34, \"hello\", False, None, 23, 37, \"hello\""
   ]
  },
  {
   "cell_type": "code",
   "execution_count": 189,
   "id": "992ef8d5-5ae1-40bb-9fd3-71f4e9a6efa1",
   "metadata": {
    "tags": []
   },
   "outputs": [
    {
     "data": {
      "text/plain": [
       "tuple"
      ]
     },
     "execution_count": 189,
     "metadata": {},
     "output_type": "execute_result"
    }
   ],
   "source": [
    "type(a_tuple)"
   ]
  },
  {
   "cell_type": "code",
   "execution_count": 190,
   "id": "990aee9f-718a-49e7-9562-dbcb3754fa92",
   "metadata": {
    "tags": []
   },
   "outputs": [
    {
     "name": "stdout",
     "output_type": "stream",
     "text": [
      "Help on tuple object:\n",
      "\n",
      "class tuple(object)\n",
      " |  tuple(iterable=(), /)\n",
      " |  \n",
      " |  Built-in immutable sequence.\n",
      " |  \n",
      " |  If no argument is given, the constructor returns an empty tuple.\n",
      " |  If iterable is specified the tuple is initialized from iterable's items.\n",
      " |  \n",
      " |  If the argument is a tuple, the return value is the same object.\n",
      " |  \n",
      " |  Built-in subclasses:\n",
      " |      asyncgen_hooks\n",
      " |      UnraisableHookArgs\n",
      " |  \n",
      " |  Methods defined here:\n",
      " |  \n",
      " |  __add__(self, value, /)\n",
      " |      Return self+value.\n",
      " |  \n",
      " |  __contains__(self, key, /)\n",
      " |      Return key in self.\n",
      " |  \n",
      " |  __eq__(self, value, /)\n",
      " |      Return self==value.\n",
      " |  \n",
      " |  __ge__(self, value, /)\n",
      " |      Return self>=value.\n",
      " |  \n",
      " |  __getattribute__(self, name, /)\n",
      " |      Return getattr(self, name).\n",
      " |  \n",
      " |  __getitem__(self, key, /)\n",
      " |      Return self[key].\n",
      " |  \n",
      " |  __getnewargs__(self, /)\n",
      " |  \n",
      " |  __gt__(self, value, /)\n",
      " |      Return self>value.\n",
      " |  \n",
      " |  __hash__(self, /)\n",
      " |      Return hash(self).\n",
      " |  \n",
      " |  __iter__(self, /)\n",
      " |      Implement iter(self).\n",
      " |  \n",
      " |  __le__(self, value, /)\n",
      " |      Return self<=value.\n",
      " |  \n",
      " |  __len__(self, /)\n",
      " |      Return len(self).\n",
      " |  \n",
      " |  __lt__(self, value, /)\n",
      " |      Return self<value.\n",
      " |  \n",
      " |  __mul__(self, value, /)\n",
      " |      Return self*value.\n",
      " |  \n",
      " |  __ne__(self, value, /)\n",
      " |      Return self!=value.\n",
      " |  \n",
      " |  __repr__(self, /)\n",
      " |      Return repr(self).\n",
      " |  \n",
      " |  __rmul__(self, value, /)\n",
      " |      Return value*self.\n",
      " |  \n",
      " |  count(self, value, /)\n",
      " |      Return number of occurrences of value.\n",
      " |  \n",
      " |  index(self, value, start=0, stop=9223372036854775807, /)\n",
      " |      Return first index of value.\n",
      " |      \n",
      " |      Raises ValueError if the value is not present.\n",
      " |  \n",
      " |  ----------------------------------------------------------------------\n",
      " |  Class methods defined here:\n",
      " |  \n",
      " |  __class_getitem__(...) from builtins.type\n",
      " |      See PEP 585\n",
      " |  \n",
      " |  ----------------------------------------------------------------------\n",
      " |  Static methods defined here:\n",
      " |  \n",
      " |  __new__(*args, **kwargs) from builtins.type\n",
      " |      Create and return a new object.  See help(type) for accurate signature.\n",
      "\n"
     ]
    }
   ],
   "source": [
    "help(a_tuple)"
   ]
  },
  {
   "cell_type": "code",
   "execution_count": 191,
   "id": "3e12f307-93de-45f5-a487-137f87fd07e5",
   "metadata": {
    "tags": []
   },
   "outputs": [
    {
     "name": "stdout",
     "output_type": "stream",
     "text": [
      "Help on built-in function count:\n",
      "\n",
      "count(value, /) method of builtins.tuple instance\n",
      "    Return number of occurrences of value.\n",
      "\n"
     ]
    }
   ],
   "source": [
    "help(a_tuple.count)"
   ]
  },
  {
   "cell_type": "code",
   "execution_count": 192,
   "id": "4624c4ec-6bfe-4cd7-86f0-7c2ee7ec0c51",
   "metadata": {
    "tags": []
   },
   "outputs": [
    {
     "data": {
      "text/plain": [
       "(34, 'hello', False, None, 23, 37, 'hello')"
      ]
     },
     "execution_count": 192,
     "metadata": {},
     "output_type": "execute_result"
    }
   ],
   "source": [
    "a_tuple"
   ]
  },
  {
   "cell_type": "code",
   "execution_count": 194,
   "id": "b62306f1-6173-4a5a-98fc-e7938cadb8bc",
   "metadata": {
    "tags": []
   },
   "outputs": [
    {
     "data": {
      "text/plain": [
       "1"
      ]
     },
     "execution_count": 194,
     "metadata": {},
     "output_type": "execute_result"
    }
   ],
   "source": [
    "a_tuple.count(34)"
   ]
  },
  {
   "cell_type": "code",
   "execution_count": 196,
   "id": "d9d8641e-8cf3-4f13-8bf5-fa23ea374920",
   "metadata": {
    "tags": []
   },
   "outputs": [
    {
     "data": {
      "text/plain": [
       "2"
      ]
     },
     "execution_count": 196,
     "metadata": {},
     "output_type": "execute_result"
    }
   ],
   "source": [
    "a_tuple.count('hello')"
   ]
  },
  {
   "cell_type": "code",
   "execution_count": 198,
   "id": "95de38fd-f5f7-4a4f-ab31-9b224a8b7495",
   "metadata": {
    "tags": []
   },
   "outputs": [
    {
     "data": {
      "text/plain": [
       "4"
      ]
     },
     "execution_count": 198,
     "metadata": {},
     "output_type": "execute_result"
    }
   ],
   "source": [
    "a_tuple.index(23)"
   ]
  },
  {
   "cell_type": "code",
   "execution_count": 199,
   "id": "0417d245-80a9-4374-bacb-bfc7200ba838",
   "metadata": {
    "tags": []
   },
   "outputs": [
    {
     "data": {
      "text/plain": [
       "1"
      ]
     },
     "execution_count": 199,
     "metadata": {},
     "output_type": "execute_result"
    }
   ],
   "source": [
    "a_tuple.index('hello')"
   ]
  },
  {
   "cell_type": "code",
   "execution_count": 200,
   "id": "6df7dd0d-3797-4bd5-98f2-97aa833e75d4",
   "metadata": {
    "tags": []
   },
   "outputs": [
    {
     "data": {
      "text/plain": [
       "\u001b[1;31mSignature:\u001b[0m \u001b[0ma_tuple\u001b[0m\u001b[1;33m.\u001b[0m\u001b[0mindex\u001b[0m\u001b[1;33m(\u001b[0m\u001b[0mvalue\u001b[0m\u001b[1;33m,\u001b[0m \u001b[0mstart\u001b[0m\u001b[1;33m=\u001b[0m\u001b[1;36m0\u001b[0m\u001b[1;33m,\u001b[0m \u001b[0mstop\u001b[0m\u001b[1;33m=\u001b[0m\u001b[1;36m9223372036854775807\u001b[0m\u001b[1;33m,\u001b[0m \u001b[1;33m/\u001b[0m\u001b[1;33m)\u001b[0m\u001b[1;33m\u001b[0m\u001b[1;33m\u001b[0m\u001b[0m\n",
       "\u001b[1;31mDocstring:\u001b[0m\n",
       "Return first index of value.\n",
       "\n",
       "Raises ValueError if the value is not present.\n",
       "\u001b[1;31mType:\u001b[0m      builtin_function_or_method"
      ]
     },
     "metadata": {},
     "output_type": "display_data"
    }
   ],
   "source": [
    "?a_tuple.index"
   ]
  },
  {
   "cell_type": "code",
   "execution_count": 201,
   "id": "ef1b199c-db95-4429-97cd-7d3d1afd6de5",
   "metadata": {
    "tags": []
   },
   "outputs": [
    {
     "data": {
      "text/plain": [
       "6"
      ]
     },
     "execution_count": 201,
     "metadata": {},
     "output_type": "execute_result"
    }
   ],
   "source": [
    "a_tuple.index('hello', 2)"
   ]
  },
  {
   "cell_type": "code",
   "execution_count": 203,
   "id": "cd850f34-9572-4077-9c49-82de5972f556",
   "metadata": {
    "tags": []
   },
   "outputs": [
    {
     "data": {
      "text/plain": [
       "1"
      ]
     },
     "execution_count": 203,
     "metadata": {},
     "output_type": "execute_result"
    }
   ],
   "source": [
    "a_tuple.index('hello', 0)"
   ]
  },
  {
   "cell_type": "code",
   "execution_count": 205,
   "id": "84f1540a-89a2-43fa-b986-7394ae2824de",
   "metadata": {
    "tags": []
   },
   "outputs": [
    {
     "data": {
      "text/plain": [
       "'\\nList: A list is an ordered collection of values\\nTuple: A tuple is an ordered collection of values\\nDictionary a distionary is an unordered collection of items \\n'"
      ]
     },
     "execution_count": 205,
     "metadata": {},
     "output_type": "execute_result"
    }
   ],
   "source": [
    "'''\n",
    "List: A list is an ordered collection of values\n",
    "Tuple: A tuple is an ordered collection of values\n",
    "Dictionary a distionary is an unordered collection of items \n",
    "'''"
   ]
  },
  {
   "cell_type": "code",
   "execution_count": 206,
   "id": "91fe01eb-6357-4acd-b849-cdacc51cfc21",
   "metadata": {
    "tags": []
   },
   "outputs": [],
   "source": [
    "person1 = {\n",
    "'name': 'John Doe',\n",
    "'sex': 'Male',\n",
    "'age': 32,\n",
    "'married': True\n",
    "}"
   ]
  },
  {
   "cell_type": "code",
   "execution_count": 207,
   "id": "c1ee6c38-28ef-448e-9376-a26abd2bee04",
   "metadata": {
    "tags": []
   },
   "outputs": [
    {
     "data": {
      "text/plain": [
       "{'name': 'John Doe', 'sex': 'Male', 'age': 32, 'married': True}"
      ]
     },
     "execution_count": 207,
     "metadata": {},
     "output_type": "execute_result"
    }
   ],
   "source": [
    "person1"
   ]
  },
  {
   "cell_type": "code",
   "execution_count": 209,
   "id": "80b0a511-10bf-45eb-9902-77f4f64e5dc9",
   "metadata": {
    "tags": []
   },
   "outputs": [
    {
     "data": {
      "text/plain": [
       "'John Doe'"
      ]
     },
     "execution_count": 209,
     "metadata": {},
     "output_type": "execute_result"
    }
   ],
   "source": [
    "person1['name']"
   ]
  },
  {
   "cell_type": "code",
   "execution_count": 212,
   "id": "d458cf42-1b7f-4ad9-ac9b-aae386dddad1",
   "metadata": {
    "tags": []
   },
   "outputs": [
    {
     "data": {
      "text/plain": [
       "True"
      ]
     },
     "execution_count": 212,
     "metadata": {},
     "output_type": "execute_result"
    }
   ],
   "source": [
    "person1['married']"
   ]
  },
  {
   "cell_type": "code",
   "execution_count": 213,
   "id": "5ee81760-4d29-48bb-bdfc-0e3674e40e98",
   "metadata": {
    "tags": []
   },
   "outputs": [],
   "source": [
    "person2 = dict(name='Jane Judy', sex= 'Male', age=28, married= False)"
   ]
  },
  {
   "cell_type": "code",
   "execution_count": 214,
   "id": "00f5afa0-3b3a-419f-9a51-ab6c1cb59726",
   "metadata": {
    "tags": []
   },
   "outputs": [
    {
     "data": {
      "text/plain": [
       "{'name': 'Jane Judy', 'sex': 'Male', 'age': 28, 'married': False}"
      ]
     },
     "execution_count": 214,
     "metadata": {},
     "output_type": "execute_result"
    }
   ],
   "source": [
    "person2"
   ]
  },
  {
   "cell_type": "code",
   "execution_count": 215,
   "id": "8d6a37ab-59a7-451a-bb87-d5cee845ac30",
   "metadata": {
    "tags": []
   },
   "outputs": [
    {
     "data": {
      "text/plain": [
       "dict"
      ]
     },
     "execution_count": 215,
     "metadata": {},
     "output_type": "execute_result"
    }
   ],
   "source": [
    "type(person1)"
   ]
  },
  {
   "cell_type": "code",
   "execution_count": 216,
   "id": "a17a3b73-f137-4e79-856c-c2dae964bcc0",
   "metadata": {
    "tags": []
   },
   "outputs": [
    {
     "data": {
      "text/plain": [
       "dict"
      ]
     },
     "execution_count": 216,
     "metadata": {},
     "output_type": "execute_result"
    }
   ],
   "source": [
    "type(person2)"
   ]
  },
  {
   "cell_type": "code",
   "execution_count": 217,
   "id": "577a2246-a53c-4da1-96d9-8d04ff20486a",
   "metadata": {
    "tags": []
   },
   "outputs": [
    {
     "data": {
      "text/plain": [
       "'Jane Judy'"
      ]
     },
     "execution_count": 217,
     "metadata": {},
     "output_type": "execute_result"
    }
   ],
   "source": [
    "person2['name']"
   ]
  },
  {
   "cell_type": "code",
   "execution_count": 219,
   "id": "2d233141-8c7a-455f-b835-d1db065ca1fe",
   "metadata": {
    "tags": []
   },
   "outputs": [
    {
     "data": {
      "text/plain": [
       "{'name': 'Jane Judy', 'sex': 'Male', 'age': 28, 'married': False}"
      ]
     },
     "execution_count": 219,
     "metadata": {},
     "output_type": "execute_result"
    }
   ],
   "source": [
    "person2"
   ]
  },
  {
   "cell_type": "code",
   "execution_count": 221,
   "id": "185ab5e9-6863-4ddf-9540-b93bad3d6881",
   "metadata": {
    "tags": []
   },
   "outputs": [
    {
     "data": {
      "text/plain": [
       "28"
      ]
     },
     "execution_count": 221,
     "metadata": {},
     "output_type": "execute_result"
    }
   ],
   "source": [
    "person2.get('age')"
   ]
  },
  {
   "cell_type": "code",
   "execution_count": 222,
   "id": "32673692-06a8-419b-9e6e-1be3619ecb1b",
   "metadata": {
    "tags": []
   },
   "outputs": [
    {
     "data": {
      "text/plain": [
       "'unknown'"
      ]
     },
     "execution_count": 222,
     "metadata": {},
     "output_type": "execute_result"
    }
   ],
   "source": [
    "person2.get('sadf', 'unknown')"
   ]
  },
  {
   "cell_type": "code",
   "execution_count": 223,
   "id": "693a81e3-6bd7-4beb-b495-53e98b7616b4",
   "metadata": {
    "tags": []
   },
   "outputs": [
    {
     "data": {
      "text/plain": [
       "(34, 'hello', False, None, 23, 37, 'hello')"
      ]
     },
     "execution_count": 223,
     "metadata": {},
     "output_type": "execute_result"
    }
   ],
   "source": [
    "a_tuple"
   ]
  },
  {
   "cell_type": "code",
   "execution_count": 224,
   "id": "08bb552b-6d27-48ba-b72d-1283d4427ea5",
   "metadata": {
    "tags": []
   },
   "outputs": [
    {
     "data": {
      "text/plain": [
       "True"
      ]
     },
     "execution_count": 224,
     "metadata": {},
     "output_type": "execute_result"
    }
   ],
   "source": [
    "34 in a_tuple"
   ]
  },
  {
   "cell_type": "code",
   "execution_count": 225,
   "id": "c8e4c642-9460-4304-96f5-063d3554a857",
   "metadata": {
    "tags": []
   },
   "outputs": [
    {
     "data": {
      "text/plain": [
       "False"
      ]
     },
     "execution_count": 225,
     "metadata": {},
     "output_type": "execute_result"
    }
   ],
   "source": [
    "234 in a_tuple"
   ]
  },
  {
   "cell_type": "code",
   "execution_count": 226,
   "id": "59fbe9b0-2a0f-4d0f-886f-0dd02852ee7f",
   "metadata": {
    "tags": []
   },
   "outputs": [
    {
     "data": {
      "text/plain": [
       "True"
      ]
     },
     "execution_count": 226,
     "metadata": {},
     "output_type": "execute_result"
    }
   ],
   "source": [
    "'name' in person1"
   ]
  },
  {
   "cell_type": "code",
   "execution_count": 227,
   "id": "40facc04-b28c-48b5-a3e2-799fad60e4ec",
   "metadata": {
    "tags": []
   },
   "outputs": [
    {
     "data": {
      "text/plain": [
       "False"
      ]
     },
     "execution_count": 227,
     "metadata": {},
     "output_type": "execute_result"
    }
   ],
   "source": [
    "'address' in person1"
   ]
  },
  {
   "cell_type": "code",
   "execution_count": 228,
   "id": "7ca75409-85c1-4d6c-9525-d9bbca7e4196",
   "metadata": {
    "tags": []
   },
   "outputs": [
    {
     "data": {
      "text/plain": [
       "False"
      ]
     },
     "execution_count": 228,
     "metadata": {},
     "output_type": "execute_result"
    }
   ],
   "source": [
    "'address' in person2"
   ]
  },
  {
   "cell_type": "code",
   "execution_count": 229,
   "id": "3166c5f0-1920-4e45-8376-c4912a6dc95a",
   "metadata": {
    "tags": []
   },
   "outputs": [
    {
     "data": {
      "text/plain": [
       "False"
      ]
     },
     "execution_count": 229,
     "metadata": {},
     "output_type": "execute_result"
    }
   ],
   "source": [
    "person2['married']"
   ]
  },
  {
   "cell_type": "code",
   "execution_count": 230,
   "id": "7e7b8693-2f0f-4fed-885a-c6962a75d0a0",
   "metadata": {
    "tags": []
   },
   "outputs": [
    {
     "data": {
      "text/plain": [
       "'John Doe'"
      ]
     },
     "execution_count": 230,
     "metadata": {},
     "output_type": "execute_result"
    }
   ],
   "source": [
    "person1['name']"
   ]
  },
  {
   "cell_type": "code",
   "execution_count": 231,
   "id": "c5291502-6b46-4d01-9f23-021c84efd1bb",
   "metadata": {
    "tags": []
   },
   "outputs": [],
   "source": [
    "person2['married'] = True"
   ]
  },
  {
   "cell_type": "code",
   "execution_count": 232,
   "id": "70fb1dbf-0f09-46db-a8b3-d41265c6ca0e",
   "metadata": {
    "tags": []
   },
   "outputs": [
    {
     "data": {
      "text/plain": [
       "True"
      ]
     },
     "execution_count": 232,
     "metadata": {},
     "output_type": "execute_result"
    }
   ],
   "source": [
    "person2['married']"
   ]
  },
  {
   "cell_type": "code",
   "execution_count": 233,
   "id": "9b4ebb75-9d8a-46f2-8c7e-d8a35fba7fd1",
   "metadata": {
    "tags": []
   },
   "outputs": [
    {
     "data": {
      "text/plain": [
       "True"
      ]
     },
     "execution_count": 233,
     "metadata": {},
     "output_type": "execute_result"
    }
   ],
   "source": [
    "person1['married']"
   ]
  },
  {
   "cell_type": "code",
   "execution_count": 234,
   "id": "146cf800-006e-4155-8cfe-89208a9de6ea",
   "metadata": {
    "tags": []
   },
   "outputs": [
    {
     "data": {
      "text/plain": [
       "[23, 'hello', None, 2.23, ['apple', 'dates'], False]"
      ]
     },
     "execution_count": 234,
     "metadata": {},
     "output_type": "execute_result"
    }
   ],
   "source": [
    "a_list"
   ]
  },
  {
   "cell_type": "code",
   "execution_count": 242,
   "id": "b4bdbfdc-88c5-41c8-9f8c-f931f6b7f5ba",
   "metadata": {
    "tags": []
   },
   "outputs": [],
   "source": [
    "a_list = list([23, 'hello', None, 2.23, ['apple', 'dates'], False])"
   ]
  },
  {
   "cell_type": "code",
   "execution_count": 243,
   "id": "542f0de0-3db0-471c-ba09-1d40d6b59a80",
   "metadata": {
    "tags": []
   },
   "outputs": [
    {
     "data": {
      "text/plain": [
       "[23, 'hello', None, 2.23, ['apple', 'dates'], False]"
      ]
     },
     "execution_count": 243,
     "metadata": {},
     "output_type": "execute_result"
    }
   ],
   "source": [
    "a_list"
   ]
  },
  {
   "cell_type": "code",
   "execution_count": 244,
   "id": "5b4967b5-a507-4c00-9e05-bf0a25ecb1d5",
   "metadata": {
    "tags": []
   },
   "outputs": [
    {
     "data": {
      "text/plain": [
       "list"
      ]
     },
     "execution_count": 244,
     "metadata": {},
     "output_type": "execute_result"
    }
   ],
   "source": [
    "type(a_list)"
   ]
  },
  {
   "cell_type": "code",
   "execution_count": 245,
   "id": "afa8eb5a-c550-4113-85dc-775b3840389e",
   "metadata": {
    "tags": []
   },
   "outputs": [
    {
     "data": {
      "text/plain": [
       "{'name': 'John Doe', 'sex': 'Male', 'age': 32, 'married': True}"
      ]
     },
     "execution_count": 245,
     "metadata": {},
     "output_type": "execute_result"
    }
   ],
   "source": [
    "person1"
   ]
  },
  {
   "cell_type": "code",
   "execution_count": 249,
   "id": "2eb4a091-4587-43d0-877a-1726d7508b03",
   "metadata": {
    "tags": []
   },
   "outputs": [],
   "source": [
    "person1 = {'name': 'John Doe',\n",
    "          'sex': 'Male',\n",
    "           'name': 'John Doe',\n",
    "           'name': 'another name',\n",
    "          'age': 32,\n",
    "          'married': True}"
   ]
  },
  {
   "cell_type": "code",
   "execution_count": 250,
   "id": "dd2fbb8f-4ec2-48ee-ba00-e85ad522d203",
   "metadata": {
    "tags": []
   },
   "outputs": [
    {
     "data": {
      "text/plain": [
       "{'name': 'another name', 'sex': 'Male', 'age': 32, 'married': True}"
      ]
     },
     "execution_count": 250,
     "metadata": {},
     "output_type": "execute_result"
    }
   ],
   "source": [
    "person1"
   ]
  },
  {
   "cell_type": "code",
   "execution_count": 252,
   "id": "d5b14a56-3c00-4b31-b1f4-0ace20d65c08",
   "metadata": {
    "tags": []
   },
   "outputs": [],
   "source": [
    "set1 = {'name',\n",
    "          'sex',\n",
    "           'name',\n",
    "           'name',\n",
    "          'age',\n",
    "          'married'}"
   ]
  },
  {
   "cell_type": "code",
   "execution_count": 253,
   "id": "b5f0e4dd-bfe6-4a05-ae30-05c8f1cac557",
   "metadata": {
    "tags": []
   },
   "outputs": [
    {
     "data": {
      "text/plain": [
       "{'age', 'married', 'name', 'sex'}"
      ]
     },
     "execution_count": 253,
     "metadata": {},
     "output_type": "execute_result"
    }
   ],
   "source": [
    "set1"
   ]
  },
  {
   "cell_type": "code",
   "execution_count": 254,
   "id": "5d3b9858-9c42-473f-a01f-7ed3b7079b5a",
   "metadata": {
    "tags": []
   },
   "outputs": [
    {
     "name": "stdin",
     "output_type": "stream",
     "text": [
      "please Enter List Elements:  1, 2, 3, 4, 5\n"
     ]
    }
   ],
   "source": [
    "list1 = list(input(\"please Enter List Elements: \"))"
   ]
  },
  {
   "cell_type": "code",
   "execution_count": 255,
   "id": "a7512d3c-7449-4bc3-a840-48ac8d05392c",
   "metadata": {
    "tags": []
   },
   "outputs": [
    {
     "data": {
      "text/plain": [
       "['1', ',', ' ', '2', ',', ' ', '3', ',', ' ', '4', ',', ' ', '5']"
      ]
     },
     "execution_count": 255,
     "metadata": {},
     "output_type": "execute_result"
    }
   ],
   "source": [
    "list1"
   ]
  },
  {
   "cell_type": "code",
   "execution_count": 256,
   "id": "c1d3d909-c8d3-46e8-9197-246209311156",
   "metadata": {
    "tags": []
   },
   "outputs": [],
   "source": [
    "del list1"
   ]
  },
  {
   "cell_type": "code",
   "execution_count": 257,
   "id": "143669dd-f33c-4f1c-8f00-6c8fd3ae1861",
   "metadata": {
    "tags": []
   },
   "outputs": [
    {
     "ename": "NameError",
     "evalue": "name 'list1' is not defined",
     "output_type": "error",
     "traceback": [
      "\u001b[1;31m---------------------------------------------------------------------------\u001b[0m",
      "\u001b[1;31mNameError\u001b[0m                                 Traceback (most recent call last)",
      "Cell \u001b[1;32mIn[257], line 1\u001b[0m\n\u001b[1;32m----> 1\u001b[0m list1\n",
      "\u001b[1;31mNameError\u001b[0m: name 'list1' is not defined"
     ]
    }
   ],
   "source": [
    "list1"
   ]
  },
  {
   "cell_type": "code",
   "execution_count": 258,
   "id": "7310bdf2-b8f9-4ee9-97e4-765a1903985f",
   "metadata": {
    "tags": []
   },
   "outputs": [],
   "source": [
    "set2 = set(person2.values())"
   ]
  },
  {
   "cell_type": "code",
   "execution_count": 259,
   "id": "475d2650-8222-43b6-a425-59910700a3d8",
   "metadata": {
    "tags": []
   },
   "outputs": [
    {
     "data": {
      "text/plain": [
       "{28, 'Jane Judy', 'Male', True}"
      ]
     },
     "execution_count": 259,
     "metadata": {},
     "output_type": "execute_result"
    }
   ],
   "source": [
    "set2"
   ]
  },
  {
   "cell_type": "code",
   "execution_count": 260,
   "id": "f9760013-9315-4b5c-8485-a6c85ce049c4",
   "metadata": {
    "tags": []
   },
   "outputs": [],
   "source": [
    "set3= set(person1.items())"
   ]
  },
  {
   "cell_type": "code",
   "execution_count": 261,
   "id": "fb773d59-028a-43af-a9f1-cd7f71ca29c3",
   "metadata": {
    "tags": []
   },
   "outputs": [
    {
     "data": {
      "text/plain": [
       "{('age', 32), ('married', True), ('name', 'another name'), ('sex', 'Male')}"
      ]
     },
     "execution_count": 261,
     "metadata": {},
     "output_type": "execute_result"
    }
   ],
   "source": [
    "set3"
   ]
  },
  {
   "cell_type": "code",
   "execution_count": 262,
   "id": "8a9a7787-2a44-4d84-8576-9b71ec9e2ccd",
   "metadata": {
    "tags": []
   },
   "outputs": [],
   "source": [
    "set3 = set(person1.keys())"
   ]
  },
  {
   "cell_type": "code",
   "execution_count": 263,
   "id": "6c01ea8b-d1ff-419c-ac22-1752d9655508",
   "metadata": {
    "tags": []
   },
   "outputs": [
    {
     "data": {
      "text/plain": [
       "{'age', 'married', 'name', 'sex'}"
      ]
     },
     "execution_count": 263,
     "metadata": {},
     "output_type": "execute_result"
    }
   ],
   "source": [
    "set3"
   ]
  },
  {
   "cell_type": "code",
   "execution_count": 7,
   "id": "2d653842-391a-47c0-8895-4ab1826b65fc",
   "metadata": {},
   "outputs": [],
   "source": [
    "list1 = list(('one', \"two\", 'three'))"
   ]
  },
  {
   "cell_type": "code",
   "execution_count": 8,
   "id": "9b5e4ef3-0812-4863-9f95-1648941ce669",
   "metadata": {
    "tags": []
   },
   "outputs": [
    {
     "data": {
      "text/plain": [
       "['one', 'two', 'three']"
      ]
     },
     "execution_count": 8,
     "metadata": {},
     "output_type": "execute_result"
    }
   ],
   "source": [
    "list1"
   ]
  },
  {
   "cell_type": "code",
   "execution_count": 11,
   "id": "53d9f452-b9f6-4b74-8738-1bb7905f09a7",
   "metadata": {
    "tags": []
   },
   "outputs": [],
   "source": [
    "person1 = {\n",
    "    'name': 'example',\n",
    "    'sex': 'male',\n",
    "    'age': 32,\n",
    "    'married': 'True'\n",
    "}"
   ]
  },
  {
   "cell_type": "code",
   "execution_count": 12,
   "id": "b33ca78d-b8e9-43bd-8080-8292b8e9c6ac",
   "metadata": {
    "tags": []
   },
   "outputs": [
    {
     "data": {
      "text/plain": [
       "{'name': 'example', 'sex': 'male', 'age': 32, 'married': 'True'}"
      ]
     },
     "execution_count": 12,
     "metadata": {},
     "output_type": "execute_result"
    }
   ],
   "source": [
    "person1"
   ]
  },
  {
   "cell_type": "code",
   "execution_count": 15,
   "id": "0c07d1e9-e3b8-41ee-823f-5a630fa3b4a1",
   "metadata": {
    "tags": []
   },
   "outputs": [],
   "source": [
    "person1['name'] = \"demo\""
   ]
  },
  {
   "cell_type": "code",
   "execution_count": 16,
   "id": "6d7f7d58-94ff-41ae-a403-cbff5cc1dc0e",
   "metadata": {
    "tags": []
   },
   "outputs": [
    {
     "data": {
      "text/plain": [
       "{'name': 'demo', 'sex': 'male', 'age': 32, 'married': 'True'}"
      ]
     },
     "execution_count": 16,
     "metadata": {},
     "output_type": "execute_result"
    }
   ],
   "source": [
    "person1"
   ]
  },
  {
   "cell_type": "code",
   "execution_count": 17,
   "id": "93e0a5ac-e071-44ce-b890-3bcd8a5cb963",
   "metadata": {
    "tags": []
   },
   "outputs": [
    {
     "data": {
      "text/plain": [
       "True"
      ]
     },
     "execution_count": 17,
     "metadata": {},
     "output_type": "execute_result"
    }
   ],
   "source": [
    "'sex' in person1"
   ]
  },
  {
   "cell_type": "code",
   "execution_count": 18,
   "id": "06a89eea-6b76-4313-9e67-dff5a904f47b",
   "metadata": {
    "tags": []
   },
   "outputs": [
    {
     "data": {
      "text/plain": [
       "False"
      ]
     },
     "execution_count": 18,
     "metadata": {},
     "output_type": "execute_result"
    }
   ],
   "source": [
    "'male' in person1"
   ]
  },
  {
   "cell_type": "code",
   "execution_count": 22,
   "id": "2f91b916-c66f-4a39-88cd-a215a73f3a9e",
   "metadata": {
    "tags": []
   },
   "outputs": [
    {
     "data": {
      "text/plain": [
       "dict_keys(['name', 'sex', 'age', 'married'])"
      ]
     },
     "execution_count": 22,
     "metadata": {},
     "output_type": "execute_result"
    }
   ],
   "source": [
    "person1.keys()"
   ]
  },
  {
   "cell_type": "code",
   "execution_count": 23,
   "id": "ab4ff7a8-694f-4f46-ae55-0d5b2fb04044",
   "metadata": {
    "tags": []
   },
   "outputs": [
    {
     "data": {
      "text/plain": [
       "dict_values(['demo', 'male', 32, 'True'])"
      ]
     },
     "execution_count": 23,
     "metadata": {},
     "output_type": "execute_result"
    }
   ],
   "source": [
    "person1.values()"
   ]
  },
  {
   "cell_type": "code",
   "execution_count": 24,
   "id": "7a73f2d3-a15c-4a92-b686-689fa2060f3e",
   "metadata": {
    "tags": []
   },
   "outputs": [
    {
     "data": {
      "text/plain": [
       "dict_items([('name', 'demo'), ('sex', 'male'), ('age', 32), ('married', 'True')])"
      ]
     },
     "execution_count": 24,
     "metadata": {},
     "output_type": "execute_result"
    }
   ],
   "source": [
    "person1.items()"
   ]
  },
  {
   "cell_type": "code",
   "execution_count": 26,
   "id": "124f3698-5767-44fb-afaf-1a690c7731ad",
   "metadata": {
    "tags": []
   },
   "outputs": [
    {
     "data": {
      "text/plain": [
       "'True'"
      ]
     },
     "execution_count": 26,
     "metadata": {},
     "output_type": "execute_result"
    }
   ],
   "source": [
    "person1.pop('married')"
   ]
  },
  {
   "cell_type": "code",
   "execution_count": 27,
   "id": "b3bd6389-12e4-4779-82aa-543a340b7f5f",
   "metadata": {
    "tags": []
   },
   "outputs": [
    {
     "data": {
      "text/plain": [
       "{'name': 'demo', 'sex': 'male', 'age': 32}"
      ]
     },
     "execution_count": 27,
     "metadata": {},
     "output_type": "execute_result"
    }
   ],
   "source": [
    "person1"
   ]
  },
  {
   "cell_type": "code",
   "execution_count": 33,
   "id": "8c9ac3e4-0fba-47dc-831d-898cee0c68ed",
   "metadata": {
    "tags": []
   },
   "outputs": [],
   "source": [
    "dict1 = {\n",
    "    'name': 'demo1',\n",
    "    'sex': 'male',\n",
    "    'age': 25,\n",
    "    'name': 'demo2',\n",
    "    'name': 'demo3'\n",
    "}"
   ]
  },
  {
   "cell_type": "code",
   "execution_count": 34,
   "id": "345ac234-a8b0-43d7-93ce-665b6578dca2",
   "metadata": {
    "tags": []
   },
   "outputs": [
    {
     "data": {
      "text/plain": [
       "{'name': 'demo3', 'sex': 'male', 'age': 25}"
      ]
     },
     "execution_count": 34,
     "metadata": {},
     "output_type": "execute_result"
    }
   ],
   "source": [
    "dict1"
   ]
  },
  {
   "cell_type": "code",
   "execution_count": 35,
   "id": "751bf5f5-95e2-4fd2-854a-eee0989fba98",
   "metadata": {
    "tags": []
   },
   "outputs": [],
   "source": [
    "dict1_cy = dict1.copy()"
   ]
  },
  {
   "cell_type": "code",
   "execution_count": 36,
   "id": "5babe5a5-3383-40b0-abaf-97b766951477",
   "metadata": {
    "tags": []
   },
   "outputs": [
    {
     "data": {
      "text/plain": [
       "{'name': 'demo3', 'sex': 'male', 'age': 25}"
      ]
     },
     "execution_count": 36,
     "metadata": {},
     "output_type": "execute_result"
    }
   ],
   "source": [
    "dict1_cy"
   ]
  },
  {
   "cell_type": "code",
   "execution_count": 37,
   "id": "f396931f-5b7e-40bc-a6f8-0db85e450073",
   "metadata": {
    "tags": []
   },
   "outputs": [],
   "source": [
    "dict1_cy['name'] = 'demo2' "
   ]
  },
  {
   "cell_type": "code",
   "execution_count": 38,
   "id": "0acb0728-37ff-46dc-8a82-4bbba1252b1b",
   "metadata": {
    "tags": []
   },
   "outputs": [
    {
     "data": {
      "text/plain": [
       "({'name': 'demo2', 'sex': 'male', 'age': 25}, dict)"
      ]
     },
     "execution_count": 38,
     "metadata": {},
     "output_type": "execute_result"
    }
   ],
   "source": [
    "dict1_cy, dict"
   ]
  },
  {
   "cell_type": "code",
   "execution_count": 40,
   "id": "98214dc8-5fba-4186-9a73-490b6d361160",
   "metadata": {
    "tags": []
   },
   "outputs": [
    {
     "data": {
      "text/plain": [
       "dict"
      ]
     },
     "execution_count": 40,
     "metadata": {},
     "output_type": "execute_result"
    }
   ],
   "source": [
    "type(dict1_cy)"
   ]
  },
  {
   "cell_type": "code",
   "execution_count": 41,
   "id": "8d92d1a7-9eca-4ec0-88cc-43c90a6c2bce",
   "metadata": {
    "tags": []
   },
   "outputs": [
    {
     "data": {
      "text/plain": [
       "{'name': 'demo3', 'sex': 'male', 'age': 25}"
      ]
     },
     "execution_count": 41,
     "metadata": {},
     "output_type": "execute_result"
    }
   ],
   "source": [
    "dict1"
   ]
  },
  {
   "cell_type": "code",
   "execution_count": 45,
   "id": "66f1abfb-efc2-4da6-b8cf-8fdc89e13722",
   "metadata": {
    "tags": []
   },
   "outputs": [],
   "source": [
    "dict1_cy['name'] = 'name'"
   ]
  },
  {
   "cell_type": "code",
   "execution_count": 46,
   "id": "8fc7d91c-b186-4b37-a13d-cb51c96f555d",
   "metadata": {
    "tags": []
   },
   "outputs": [
    {
     "data": {
      "text/plain": [
       "{'name': 'name', 'sex': 'male', 'age': 25}"
      ]
     },
     "execution_count": 46,
     "metadata": {},
     "output_type": "execute_result"
    }
   ],
   "source": [
    "dict1_cy"
   ]
  },
  {
   "cell_type": "code",
   "execution_count": 47,
   "id": "6c2bfefa-48d1-4102-8af2-9188fcde534e",
   "metadata": {
    "tags": []
   },
   "outputs": [],
   "source": [
    "dict2 = {'example': 'one', 'example1': 'two', 'example3': 'three'}"
   ]
  },
  {
   "cell_type": "code",
   "execution_count": 48,
   "id": "3891da7b-51b1-4875-a89b-1d865a5d8301",
   "metadata": {
    "tags": []
   },
   "outputs": [],
   "source": [
    "dict2.update(dict1)"
   ]
  },
  {
   "cell_type": "code",
   "execution_count": 49,
   "id": "f5b44764-fe0a-4b27-a73a-4f029fa5ea41",
   "metadata": {
    "tags": []
   },
   "outputs": [
    {
     "data": {
      "text/plain": [
       "{'example': 'one',\n",
       " 'example1': 'two',\n",
       " 'example3': 'three',\n",
       " 'name': 'demo3',\n",
       " 'sex': 'male',\n",
       " 'age': 25}"
      ]
     },
     "execution_count": 49,
     "metadata": {},
     "output_type": "execute_result"
    }
   ],
   "source": [
    "dict2"
   ]
  },
  {
   "cell_type": "code",
   "execution_count": 58,
   "id": "1df0a31f-799d-47bb-9bde-ac43d6099c1d",
   "metadata": {
    "tags": []
   },
   "outputs": [],
   "source": [
    "try_dict = {\n",
    "    1: 'one',\n",
    "    False: 'two',\n",
    "    'three': ['one', 'two']\n",
    "}"
   ]
  },
  {
   "cell_type": "code",
   "execution_count": 59,
   "id": "d37428bf-7239-4baf-a489-25e0a08c1d29",
   "metadata": {
    "tags": []
   },
   "outputs": [
    {
     "data": {
      "text/plain": [
       "{1: 'one', False: 'two', 'three': ['one', 'two']}"
      ]
     },
     "execution_count": 59,
     "metadata": {},
     "output_type": "execute_result"
    }
   ],
   "source": [
    "try_dict"
   ]
  },
  {
   "cell_type": "code",
   "execution_count": 61,
   "id": "b53ef15c-10e3-4fd5-a80c-a262cac40612",
   "metadata": {
    "tags": []
   },
   "outputs": [
    {
     "name": "stdout",
     "output_type": "stream",
     "text": [
      "Help on built-in function abs in module builtins:\n",
      "\n",
      "abs(x, /)\n",
      "    Return the absolute value of the argument.\n",
      "\n"
     ]
    }
   ],
   "source": [
    "help(abs)"
   ]
  },
  {
   "cell_type": "code",
   "execution_count": 70,
   "id": "3955a533-010a-4b04-8bf7-bb0afddbe468",
   "metadata": {
    "tags": []
   },
   "outputs": [
    {
     "data": {
      "text/plain": [
       "20"
      ]
     },
     "execution_count": 70,
     "metadata": {},
     "output_type": "execute_result"
    }
   ],
   "source": [
    "round(20.45)"
   ]
  },
  {
   "cell_type": "code",
   "execution_count": 71,
   "id": "7bcecbe2-651b-4242-9576-07811363dfa9",
   "metadata": {
    "tags": []
   },
   "outputs": [
    {
     "name": "stdout",
     "output_type": "stream",
     "text": [
      "The \"for\" statement\n",
      "*******************\n",
      "\n",
      "The \"for\" statement is used to iterate over the elements of a sequence\n",
      "(such as a string, tuple or list) or other iterable object:\n",
      "\n",
      "   for_stmt ::= \"for\" target_list \"in\" starred_list \":\" suite\n",
      "                [\"else\" \":\" suite]\n",
      "\n",
      "The \"starred_list\" expression is evaluated once; it should yield an\n",
      "*iterable* object.  An *iterator* is created for that iterable. The\n",
      "first item provided by the iterator is then assigned to the target\n",
      "list using the standard rules for assignments (see Assignment\n",
      "statements), and the suite is executed.  This repeats for each item\n",
      "provided by the iterator.  When the iterator is exhausted, the suite\n",
      "in the \"else\" clause, if present, is executed, and the loop\n",
      "terminates.\n",
      "\n",
      "A \"break\" statement executed in the first suite terminates the loop\n",
      "without executing the \"else\" clause’s suite.  A \"continue\" statement\n",
      "executed in the first suite skips the rest of the suite and continues\n",
      "with the next item, or with the \"else\" clause if there is no next\n",
      "item.\n",
      "\n",
      "The for-loop makes assignments to the variables in the target list.\n",
      "This overwrites all previous assignments to those variables including\n",
      "those made in the suite of the for-loop:\n",
      "\n",
      "   for i in range(10):\n",
      "       print(i)\n",
      "       i = 5             # this will not affect the for-loop\n",
      "                         # because i will be overwritten with the next\n",
      "                         # index in the range\n",
      "\n",
      "Names in the target list are not deleted when the loop is finished,\n",
      "but if the sequence is empty, they will not have been assigned to at\n",
      "all by the loop.  Hint: the built-in type \"range()\" represents\n",
      "immutable arithmetic sequences of integers. For instance, iterating\n",
      "\"range(3)\" successively yields 0, 1, and then 2.\n",
      "\n",
      "Changed in version 3.11: Starred elements are now allowed in the\n",
      "expression list.\n",
      "\n",
      "Related help topics: break, continue, while\n",
      "\n"
     ]
    }
   ],
   "source": [
    "help('for')"
   ]
  },
  {
   "cell_type": "code",
   "execution_count": 72,
   "id": "2362cd10-750c-402b-a3f6-455088cb7d00",
   "metadata": {
    "tags": []
   },
   "outputs": [
    {
     "name": "stdout",
     "output_type": "stream",
     "text": [
      "0\n",
      "1\n",
      "2\n",
      "3\n",
      "4\n",
      "5\n",
      "6\n",
      "7\n",
      "8\n",
      "9\n"
     ]
    }
   ],
   "source": [
    "for i in range(10):\n",
    "    print(i)"
   ]
  },
  {
   "cell_type": "code",
   "execution_count": 73,
   "id": "6125edf4-a063-4b72-adb2-311116d47c97",
   "metadata": {
    "tags": []
   },
   "outputs": [
    {
     "name": "stdout",
     "output_type": "stream",
     "text": [
      "0\n",
      "1\n",
      "2\n",
      "3\n",
      "4\n",
      "5\n",
      "6\n",
      "7\n",
      "8\n",
      "9\n"
     ]
    }
   ],
   "source": [
    "for i in range(10):\n",
    "    print(i)\n",
    "    i = 5"
   ]
  },
  {
   "cell_type": "code",
   "execution_count": 82,
   "id": "77c896ed-85e2-40a3-99d2-72d2e2ea439e",
   "metadata": {
    "tags": []
   },
   "outputs": [
    {
     "name": "stdout",
     "output_type": "stream",
     "text": [
      "demo3\n",
      "male\n",
      "25\n"
     ]
    }
   ],
   "source": [
    "for i in dict1.values():\n",
    "    print(i)"
   ]
  },
  {
   "cell_type": "code",
   "execution_count": null,
   "id": "6e4bf5bd-7e38-4050-a5e6-a1189ed894d2",
   "metadata": {
    "tags": []
   },
   "outputs": [],
   "source": [
    "height = 100\n",
    "fell_height = 3/5\n",
    "i = 1;\n",
    "while i <= 10:\n",
    "    ans = height*fell_height\n",
    "    print(i, ans)\n",
    "    i += 1\n",
    "    height -= ans*i"
   ]
  },
  {
   "cell_type": "code",
   "execution_count": 1,
   "id": "90ec15ed-b597-4861-8495-83a7c6fa6d97",
   "metadata": {},
   "outputs": [
    {
     "name": "stdout",
     "output_type": "stream",
     "text": [
      "1 1\n",
      "2 2\n",
      "3 6\n",
      "4 24\n",
      "5 120\n",
      "6 720\n",
      "7 5040\n",
      "8 40320\n",
      "9 362880\n",
      "10 3628800\n",
      "11 39916800\n",
      "12 479001600\n",
      "13 6227020800\n",
      "14 87178291200\n",
      "15 1307674368000\n",
      "16 20922789888000\n",
      "17 355687428096000\n",
      "18 6402373705728000\n",
      "19 121645100408832000\n",
      "20 2432902008176640000\n",
      "21 51090942171709440000\n",
      "22 1124000727777607680000\n",
      "23 25852016738884976640000\n",
      "24 620448401733239439360000\n",
      "25 15511210043330985984000000\n",
      "26 403291461126605635584000000\n",
      "27 10888869450418352160768000000\n",
      "28 304888344611713860501504000000\n",
      "29 8841761993739701954543616000000\n",
      "30 265252859812191058636308480000000\n",
      "31 8222838654177922817725562880000000\n",
      "32 263130836933693530167218012160000000\n",
      "33 8683317618811886495518194401280000000\n",
      "34 295232799039604140847618609643520000000\n",
      "35 10333147966386144929666651337523200000000\n",
      "36 371993326789901217467999448150835200000000\n",
      "37 13763753091226345046315979581580902400000000\n",
      "38 523022617466601111760007224100074291200000000\n",
      "39 20397882081197443358640281739902897356800000000\n",
      "40 815915283247897734345611269596115894272000000000\n",
      "41 33452526613163807108170062053440751665152000000000\n",
      "42 1405006117752879898543142606244511569936384000000000\n",
      "43 60415263063373835637355132068513997507264512000000000\n",
      "44 2658271574788448768043625811014615890319638528000000000\n",
      "45 119622220865480194561963161495657715064383733760000000000\n",
      "46 5502622159812088949850305428800254892961651752960000000000\n",
      "47 258623241511168180642964355153611979969197632389120000000000\n",
      "48 12413915592536072670862289047373375038521486354677760000000000\n",
      "49 608281864034267560872252163321295376887552831379210240000000000\n",
      "50 30414093201713378043612608166064768844377641568960512000000000000\n",
      "51 1551118753287382280224243016469303211063259720016986112000000000000\n",
      "52 80658175170943878571660636856403766975289505440883277824000000000000\n",
      "53 4274883284060025564298013753389399649690343788366813724672000000000000\n",
      "54 230843697339241380472092742683027581083278564571807941132288000000000000\n",
      "55 12696403353658275925965100847566516959580321051449436762275840000000000000\n",
      "56 710998587804863451854045647463724949736497978881168458687447040000000000000\n",
      "57 40526919504877216755680601905432322134980384796226602145184481280000000000000\n",
      "58 2350561331282878571829474910515074683828862318181142924420699914240000000000000\n",
      "59 138683118545689835737939019720389406345902876772687432540821294940160000000000000\n",
      "60 8320987112741390144276341183223364380754172606361245952449277696409600000000000000\n",
      "61 507580213877224798800856812176625227226004528988036003099405939480985600000000000000\n",
      "62 31469973260387937525653122354950764088012280797258232192163168247821107200000000000000\n",
      "63 1982608315404440064116146708361898137544773690227268628106279599612729753600000000000000\n",
      "64 126886932185884164103433389335161480802865516174545192198801894375214704230400000000000000\n",
      "65 8247650592082470666723170306785496252186258551345437492922123134388955774976000000000000000\n",
      "66 544344939077443064003729240247842752644293064388798874532860126869671081148416000000000000000\n",
      "67 36471110918188685288249859096605464427167635314049524593701628500267962436943872000000000000000\n",
      "68 2480035542436830599600990418569171581047399201355367672371710738018221445712183296000000000000000\n",
      "69 171122452428141311372468338881272839092270544893520369393648040923257279754140647424000000000000000\n",
      "70 11978571669969891796072783721689098736458938142546425857555362864628009582789845319680000000000000000\n",
      "71 850478588567862317521167644239926010288584608120796235886430763388588680378079017697280000000000000000\n",
      "72 61234458376886086861524070385274672740778091784697328983823014963978384987221689274204160000000000000000\n",
      "73 4470115461512684340891257138125051110076800700282905015819080092370422104067183317016903680000000000000000\n",
      "74 330788544151938641225953028221253782145683251820934971170611926835411235700971565459250872320000000000000000\n",
      "75 24809140811395398091946477116594033660926243886570122837795894512655842677572867409443815424000000000000000000\n",
      "76 1885494701666050254987932260861146558230394535379329335672487982961844043495537923117729972224000000000000000000\n",
      "77 145183092028285869634070784086308284983740379224208358846781574688061991349156420080065207861248000000000000000000\n",
      "78 11324281178206297831457521158732046228731749579488251990048962825668835325234200766245086213177344000000000000000000\n",
      "79 894618213078297528685144171539831652069808216779571907213868063227837990693501860533361810841010176000000000000000000\n",
      "80 71569457046263802294811533723186532165584657342365752577109445058227039255480148842668944867280814080000000000000000000\n",
      "81 5797126020747367985879734231578109105412357244731625958745865049716390179693892056256184534249745940480000000000000000000\n",
      "82 475364333701284174842138206989404946643813294067993328617160934076743994734899148613007131808479167119360000000000000000000\n",
      "83 39455239697206586511897471180120610571436503407643446275224357528369751562996629334879591940103770870906880000000000000000000\n",
      "84 3314240134565353266999387579130131288000666286242049487118846032383059131291716864129885722968716753156177920000000000000000000\n",
      "85 281710411438055027694947944226061159480056634330574206405101912752560026159795933451040286452340924018275123200000000000000000000\n",
      "86 24227095383672732381765523203441259715284870552429381750838764496720162249742450276789464634901319465571660595200000000000000000000\n",
      "87 2107757298379527717213600518699389595229783738061356212322972511214654115727593174080683423236414793504734471782400000000000000000000\n",
      "88 185482642257398439114796845645546284380220968949399346684421580986889562184028199319100141244804501828416633516851200000000000000000000\n",
      "89 16507955160908461081216919262453619309839666236496541854913520707833171034378509739399912570787600662729080382999756800000000000000000000\n",
      "90 1485715964481761497309522733620825737885569961284688766942216863704985393094065876545992131370884059645617234469978112000000000000000000000\n",
      "91 135200152767840296255166568759495142147586866476906677791741734597153670771559994765685283954750449427751168336768008192000000000000000000000\n",
      "92 12438414054641307255475324325873553077577991715875414356840239582938137710983519518443046123837041347353107486982656753664000000000000000000000\n",
      "93 1156772507081641574759205162306240436214753229576413535186142281213246807121467315215203289516844845303838996289387078090752000000000000000000000\n",
      "94 108736615665674308027365285256786601004186803580182872307497374434045199869417927630229109214583415458560865651202385340530688000000000000000000000\n",
      "95 10329978488239059262599702099394727095397746340117372869212250571234293987594703124871765375385424468563282236864226607350415360000000000000000000000\n",
      "96 991677934870949689209571401541893801158183648651267795444376054838492222809091499987689476037000748982075094738965754305639874560000000000000000000000\n",
      "97 96192759682482119853328425949563698712343813919172976158104477319333745612481875498805879175589072651261284189679678167647067832320000000000000000000000\n",
      "98 9426890448883247745626185743057242473809693764078951663494238777294707070023223798882976159207729119823605850588608460429412647567360000000000000000000000\n",
      "99 933262154439441526816992388562667004907159682643816214685929638952175999932299156089414639761565182862536979208272237582511852109168640000000000000000000000\n",
      "100 93326215443944152681699238856266700490715968264381621468592963895217599993229915608941463976156518286253697920827223758251185210916864000000000000000000000000\n"
     ]
    }
   ],
   "source": [
    "i = 1\n",
    "result = 1\n",
    "while i <= 100:\n",
    "    result = result * i\n",
    "    print(i, result)\n",
    "    i = i + 1"
   ]
  },
  {
   "cell_type": "code",
   "execution_count": 6,
   "id": "e0f8966e-e3bd-42e4-9eef-2f49b696e6ec",
   "metadata": {
    "tags": []
   },
   "outputs": [
    {
     "name": "stdout",
     "output_type": "stream",
     "text": [
      "a 1\n",
      "b 2\n"
     ]
    }
   ],
   "source": [
    "person = {'a' : 1, 'b' : 2}\n",
    "for key in person:\n",
    "    print(key, person[key])"
   ]
  },
  {
   "cell_type": "code",
   "execution_count": 7,
   "id": "26d37a04-680c-437d-8015-4a1974714466",
   "metadata": {
    "tags": []
   },
   "outputs": [
    {
     "name": "stdout",
     "output_type": "stream",
     "text": [
      "1\n",
      "2\n"
     ]
    }
   ],
   "source": [
    "for value in person.values():\n",
    "    print(value)"
   ]
  },
  {
   "cell_type": "code",
   "execution_count": 8,
   "id": "dd035140-5d0d-470b-b388-5ae711bec396",
   "metadata": {
    "tags": []
   },
   "outputs": [
    {
     "name": "stdout",
     "output_type": "stream",
     "text": [
      "a 1\n",
      "b 2\n"
     ]
    }
   ],
   "source": [
    "for (i, v) in person.items():\n",
    "    print(i, v)"
   ]
  },
  {
   "cell_type": "code",
   "execution_count": 9,
   "id": "4b863a4c-7479-4909-a237-4eb0175f63b9",
   "metadata": {
    "tags": []
   },
   "outputs": [
    {
     "name": "stdout",
     "output_type": "stream",
     "text": [
      "a 1\n",
      "b 2\n"
     ]
    }
   ],
   "source": [
    "for(i, v) in person.items():\n",
    "    print(i, person[i])"
   ]
  },
  {
   "cell_type": "code",
   "execution_count": 10,
   "id": "06992c14-56fe-45de-bd58-4a8ce404d177",
   "metadata": {
    "tags": []
   },
   "outputs": [
    {
     "name": "stdout",
     "output_type": "stream",
     "text": [
      "<class 'str'> <class 'int'>\n",
      "<class 'str'> <class 'int'>\n"
     ]
    }
   ],
   "source": [
    "for (i, v) in person.items():\n",
    "    print(type(i), type(v))"
   ]
  },
  {
   "cell_type": "code",
   "execution_count": 11,
   "id": "688a5f2a-f3aa-4adb-a85b-2bb9d2259762",
   "metadata": {
    "tags": []
   },
   "outputs": [
    {
     "name": "stdout",
     "output_type": "stream",
     "text": [
      "one\n",
      "two\n"
     ]
    }
   ],
   "source": [
    "if 5 > 4:\n",
    "    print(\"one\")\n",
    "    print(\"two\")"
   ]
  },
  {
   "cell_type": "code",
   "execution_count": 51,
   "id": "d30ea627-3e16-464d-8ed5-8b855b132e87",
   "metadata": {
    "tags": []
   },
   "outputs": [
    {
     "ename": "TypeError",
     "evalue": "Random.random() takes no arguments (1 given)",
     "output_type": "error",
     "traceback": [
      "\u001b[1;31m---------------------------------------------------------------------------\u001b[0m",
      "\u001b[1;31mTypeError\u001b[0m                                 Traceback (most recent call last)",
      "Cell \u001b[1;32mIn[51], line 1\u001b[0m\n\u001b[1;32m----> 1\u001b[0m a_no \u001b[38;5;241m=\u001b[39m random\u001b[38;5;241m.\u001b[39mrandom(\u001b[38;5;241m4\u001b[39m)\n\u001b[0;32m      2\u001b[0m \u001b[38;5;28;01mif\u001b[39;00m a_no \u001b[38;5;241m%\u001b[39m \u001b[38;5;241m2\u001b[39m \u001b[38;5;241m==\u001b[39m \u001b[38;5;241m0\u001b[39m:\n\u001b[0;32m      3\u001b[0m     \u001b[38;5;28mprint\u001b[39m(\u001b[38;5;124m\"\u001b[39m\u001b[38;5;124mwe are inside an if block\u001b[39m\u001b[38;5;124m\"\u001b[39m)\n",
      "\u001b[1;31mTypeError\u001b[0m: Random.random() takes no arguments (1 given)"
     ]
    }
   ],
   "source": [
    "a_no = random.random(4)\n",
    "if a_no % 2 == 0:\n",
    "    print(\"we are inside an if block\")\n",
    "    print(\"the given number {} is even\". format(a_no))\n",
    "else:\n",
    "    print(\"we are inside an else block\")\n",
    "    print(\"the given number {} is odd\". format(a_no))"
   ]
  },
  {
   "cell_type": "code",
   "execution_count": 52,
   "id": "ac5acae7-5e8f-44e0-82bc-923e3c6f782f",
   "metadata": {
    "tags": []
   },
   "outputs": [],
   "source": [
    "the_3_musketeers = ('Athos', 'Porthos', 'Aramis')"
   ]
  },
  {
   "cell_type": "code",
   "execution_count": 54,
   "id": "50f25300-8dba-4526-8f04-52e7161c651d",
   "metadata": {
    "tags": []
   },
   "outputs": [],
   "source": [
    "today = 'Wednesday'"
   ]
  },
  {
   "cell_type": "code",
   "execution_count": 56,
   "id": "93a76f62-5866-4ac0-9d2d-41cca3f1de1e",
   "metadata": {
    "tags": []
   },
   "outputs": [],
   "source": [
    "if today == 'sunday':\n",
    "    print(\"Today is the day of sunday\")\n",
    "elif today == 'monday':\n",
    "    print(\"Today is the day of tuesday\")\n",
    "elif today == 'tuesday':\n",
    "    print(\"Today is the day of tuesday\")\n",
    "elif today == 'wednesday':\n",
    "    print(\"Today is the day of wednesday\")\n",
    "elif today == 'thursday':\n",
    "    print(\"Today is the day of thursday\")\n",
    "elif today == 'friday':\n",
    "    print(\"Today is the day of friday\")\n",
    "elif today == 'saturday':\n",
    "    print(\"Today is the day of saturday\")"
   ]
  },
  {
   "cell_type": "code",
   "execution_count": 59,
   "id": "7384f5b4-5b2b-4f3d-909d-462bf067479f",
   "metadata": {
    "tags": []
   },
   "outputs": [
    {
     "name": "stdout",
     "output_type": "stream",
     "text": [
      "16 is divisible by 2\n"
     ]
    }
   ],
   "source": [
    "a_no = 15\n",
    "if a_no % 2 == 0:\n",
    "    print('{} is divisible by 2'. format(a_no))\n",
    "elif a_no % 3 == 0:\n",
    "    print('{} is divisible by 3'. format(a_no))\n",
    "elif a_no % 5 == 0:\n",
    "    print('{} is divisible by 5'. format(a_no))\n",
    "elif a_no % 7 == 0:\n",
    "    print('{} is divisible by 7'. format(a_no))"
   ]
  },
  {
   "cell_type": "code",
   "execution_count": 60,
   "id": "80ddb529-d3e5-4611-91cd-d04d426a4fbf",
   "metadata": {
    "tags": []
   },
   "outputs": [
    {
     "name": "stdout",
     "output_type": "stream",
     "text": [
      "15 is divisible by 3\n",
      "15 is divisible by 5\n"
     ]
    }
   ],
   "source": [
    "a_no = 15\n",
    "if a_no % 2 == 0:\n",
    "    print('{} is divisible by 2'. format(a_no))\n",
    "if a_no % 3 == 0:\n",
    "    print('{} is divisible by 3'. format(a_no))\n",
    "if a_no % 5 == 0:\n",
    "    print('{} is divisible by 5'. format(a_no))\n",
    "if a_no % 7 == 0:\n",
    "    print('{} is divisible by 7'. format(a_no))"
   ]
  },
  {
   "cell_type": "code",
   "execution_count": 61,
   "id": "bd2e995f-5602-426c-8500-877b247098e2",
   "metadata": {
    "tags": []
   },
   "outputs": [
    {
     "name": "stdout",
     "output_type": "stream",
     "text": [
      "49 is division by 5\n"
     ]
    }
   ],
   "source": [
    "a_no = 49\n",
    "if a_no % 2 == 0:\n",
    "    print('{} is division by 2'. format(a_no))\n",
    "elif a_no % 3 == 0:\n",
    "    print('{} is division by 3'. format(a_no))\n",
    "elif a_no % 5:\n",
    "    print('{} is division by 5'. format(a_no))\n",
    "else:\n",
    "    print('All checks failed!')\n",
    "    print('{} is not divisible by 2, 3 or 5'. format(a_no))"
   ]
  },
  {
   "cell_type": "code",
   "execution_count": 63,
   "id": "11918328-4027-468c-ab1e-23704019de44",
   "metadata": {
    "tags": []
   },
   "outputs": [
    {
     "name": "stdout",
     "output_type": "stream",
     "text": [
      "The nuber 12 is not divisible by 5\n"
     ]
    }
   ],
   "source": [
    "a_no = 12\n",
    "if a_no == 3 and a_no % 5 == 0:\n",
    "    print('The number {} is divisible by 3 and 5'. format(a_no))\n",
    "elif not a_no % 5 == 0:\n",
    "    print('The nuber {} is not divisible by 5'. format(a_no))"
   ]
  },
  {
   "cell_type": "code",
   "execution_count": 64,
   "id": "8527f7cc-aee9-4cdf-ba7a-8e9d761cf043",
   "metadata": {
    "tags": []
   },
   "outputs": [
    {
     "name": "stdout",
     "output_type": "stream",
     "text": [
      "The condition evaluted to False\n"
     ]
    }
   ],
   "source": [
    "if '':\n",
    "    print('The condition evaluted to True')\n",
    "else:\n",
    "    print('The condition evaluted to False')"
   ]
  },
  {
   "cell_type": "code",
   "execution_count": 65,
   "id": "e03cd2ee-a27e-4b15-886a-7150d2262510",
   "metadata": {
    "tags": []
   },
   "outputs": [
    {
     "name": "stdout",
     "output_type": "stream",
     "text": [
      "The condition evaluted to True\n"
     ]
    }
   ],
   "source": [
    "if 'Hello':\n",
    "    print('The condition evaluted to True')\n",
    "else:\n",
    "    print('The condition evaluted to False')"
   ]
  },
  {
   "cell_type": "code",
   "execution_count": 66,
   "id": "e1022376-a2fc-4a56-aab3-402bf9590104",
   "metadata": {
    "tags": []
   },
   "outputs": [
    {
     "name": "stdout",
     "output_type": "stream",
     "text": [
      "The condition evaluted to True\n"
     ]
    }
   ],
   "source": [
    "if {'a': 34}:\n",
    "    print('The condition evaluted to True')\n",
    "else:\n",
    "    print('The condition evaluted to False')"
   ]
  },
  {
   "cell_type": "code",
   "execution_count": 67,
   "id": "ac49d657-dc06-4f4a-a73c-00287aa80b5d",
   "metadata": {
    "tags": []
   },
   "outputs": [
    {
     "name": "stdout",
     "output_type": "stream",
     "text": [
      "The condition evaluted to False\n"
     ]
    }
   ],
   "source": [
    "if None:\n",
    "    print('The condition evaluted to True')\n",
    "else:\n",
    "    print('The condition evaluted to False')"
   ]
  },
  {
   "cell_type": "code",
   "execution_count": 68,
   "id": "09c4354f-95a4-40ef-b77e-3f924804a4e9",
   "metadata": {
    "tags": []
   },
   "outputs": [
    {
     "name": "stdout",
     "output_type": "stream",
     "text": [
      "15 is odd\n",
      "15 is also divisible by 5\n"
     ]
    }
   ],
   "source": [
    "a_no = 15\n",
    "if a_no % 2 == 0:\n",
    "    print('{} is even'. format(a_no))\n",
    "    if a_no % 3 == 0:\n",
    "        print('{} is also divisible by 2'. format(a_no))\n",
    "    else:\n",
    "        print('{} is not divisible by 3'. format(a_no))\n",
    "else:\n",
    "    print('{} is odd'. format(a_no))\n",
    "    if a_no % 5 == 0:\n",
    "        print('{} is also divisible by 5'. format(a_no))\n",
    "    else:\n",
    "        print('{} is not divisible by 5'. format(a_no))"
   ]
  },
  {
   "cell_type": "code",
   "execution_count": 69,
   "id": "5f9c5d7f-6498-46de-b8b9-158ddfab5abd",
   "metadata": {
    "tags": []
   },
   "outputs": [
    {
     "ename": "SyntaxError",
     "evalue": "invalid syntax (1737450042.py, line 1)",
     "output_type": "error",
     "traceback": [
      "\u001b[1;36m  Cell \u001b[1;32mIn[69], line 1\u001b[1;36m\u001b[0m\n\u001b[1;33m    result = if a_no % 2 == 0:\u001b[0m\n\u001b[1;37m             ^\u001b[0m\n\u001b[1;31mSyntaxError\u001b[0m\u001b[1;31m:\u001b[0m invalid syntax\n"
     ]
    }
   ],
   "source": [
    "result = if a_no % 2 == 0:\n",
    "    'even'\n",
    "else:\n",
    "    'odd'"
   ]
  },
  {
   "cell_type": "code",
   "execution_count": 87,
   "id": "0a5d6b7c-3d86-4194-bf69-2869f5394c8f",
   "metadata": {
    "tags": []
   },
   "outputs": [],
   "source": [
    "a_no = 15#a_no = random.choice([12, 13])"
   ]
  },
  {
   "cell_type": "code",
   "execution_count": 88,
   "id": "f52c2d17-19b8-4e38-bce4-f7a86e61874e",
   "metadata": {
    "tags": []
   },
   "outputs": [],
   "source": [
    "result = 'even' if a_no % 2 == 0 else 'odd'"
   ]
  },
  {
   "cell_type": "code",
   "execution_count": 89,
   "id": "0da82c9a-ec44-481a-b4e3-19efd5b59b59",
   "metadata": {
    "tags": []
   },
   "outputs": [
    {
     "data": {
      "text/plain": [
       "'odd'"
      ]
     },
     "execution_count": 89,
     "metadata": {},
     "output_type": "execute_result"
    }
   ],
   "source": [
    "result"
   ]
  },
  {
   "cell_type": "code",
   "execution_count": 90,
   "id": "aaeac527-6de2-4495-99e7-3a9b871821d4",
   "metadata": {
    "tags": []
   },
   "outputs": [
    {
     "ename": "IndentationError",
     "evalue": "expected an indented block after 'if' statement on line 1 (3932560892.py, line 2)",
     "output_type": "error",
     "traceback": [
      "\u001b[1;36m  Cell \u001b[1;32mIn[90], line 2\u001b[1;36m\u001b[0m\n\u001b[1;33m    elif a_no % 3 == 0:\u001b[0m\n\u001b[1;37m    ^\u001b[0m\n\u001b[1;31mIndentationError\u001b[0m\u001b[1;31m:\u001b[0m expected an indented block after 'if' statement on line 1\n"
     ]
    }
   ],
   "source": [
    "if a_no % 2 == 0:\n",
    "elif a_no % 3 == 0:\n",
    "    print('{} is divisible by 3 but not divisible by 2')"
   ]
  },
  {
   "cell_type": "code",
   "execution_count": 91,
   "id": "0277651d-8ef2-4ffa-8f5a-43cbdc4dd832",
   "metadata": {
    "tags": []
   },
   "outputs": [
    {
     "name": "stdout",
     "output_type": "stream",
     "text": [
      "15 is divisible by 3 but not divisible by 2\n"
     ]
    }
   ],
   "source": [
    "if a_no % 2 == 0:\n",
    "    pass\n",
    "elif a_no % 3 == 0:\n",
    "    print('{} is divisible by 3 but not divisible by 2'. format(a_no))"
   ]
  },
  {
   "cell_type": "code",
   "execution_count": 1,
   "id": "bcb5318f-e2b4-46e2-8dba-4b8e2125bf6b",
   "metadata": {},
   "outputs": [
    {
     "name": "stdout",
     "output_type": "stream",
     "text": [
      "The factorial of 100 is: 93326215443944152681699238856266700490715968264381621468592963895217599993229915608941463976156518286253697920827223758251185210916864000000000000000000000000\n"
     ]
    }
   ],
   "source": [
    "result = 1\n",
    "i = 1\n",
    "\n",
    "while i <= 100:\n",
    "    result = result * i\n",
    "    i = i + 1\n",
    "print('The factorial of 100 is: {}'.format(result))"
   ]
  },
  {
   "cell_type": "code",
   "execution_count": 2,
   "id": "94f6ee1f-d9e4-4c95-9521-c032b7d6f2e5",
   "metadata": {
    "tags": []
   },
   "outputs": [
    {
     "ename": "SyntaxError",
     "evalue": "invalid syntax (1118438524.py, line 4)",
     "output_type": "error",
     "traceback": [
      "\u001b[1;36m  Cell \u001b[1;32mIn[2], line 4\u001b[1;36m\u001b[0m\n\u001b[1;33m    while i < = 1000:\u001b[0m\n\u001b[1;37m              ^\u001b[0m\n\u001b[1;31mSyntaxError\u001b[0m\u001b[1;31m:\u001b[0m invalid syntax\n"
     ]
    }
   ],
   "source": [
    "line = '*'\n",
    "i = 0\n",
    "while i > 0:\n",
    "    if(i == len(line))"
   ]
  },
  {
   "cell_type": "code",
   "execution_count": null,
   "id": "508bd989-7b5d-41b6-9b79-ad813a6f23f1",
   "metadata": {},
   "outputs": [],
   "source": []
  }
 ],
 "metadata": {
  "kernelspec": {
   "display_name": "Python 3 (ipykernel)",
   "language": "python",
   "name": "python3"
  },
  "language_info": {
   "codemirror_mode": {
    "name": "ipython",
    "version": 3
   },
   "file_extension": ".py",
   "mimetype": "text/x-python",
   "name": "python",
   "nbconvert_exporter": "python",
   "pygments_lexer": "ipython3",
   "version": "3.11.5"
  }
 },
 "nbformat": 4,
 "nbformat_minor": 5
}
