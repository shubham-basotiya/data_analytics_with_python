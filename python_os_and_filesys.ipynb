{
 "cells": [
  {
   "cell_type": "markdown",
   "id": "9d12b11d-e775-4330-8628-bce30d01215e",
   "metadata": {
    "tags": []
   },
   "source": [
    "### Interacting with OS and filesystem"
   ]
  },
  {
   "cell_type": "code",
   "execution_count": 75,
   "id": "4687ef4b-2303-4d14-b6c4-947210d31e14",
   "metadata": {
    "tags": []
   },
   "outputs": [],
   "source": [
    "import os"
   ]
  },
  {
   "cell_type": "code",
   "execution_count": 76,
   "id": "74ab77dd-a174-4b46-9ae8-3c17c3232bb9",
   "metadata": {
    "tags": []
   },
   "outputs": [
    {
     "data": {
      "text/plain": [
       "'C:\\\\Users\\\\Shubham Sharma\\\\data_analysis'"
      ]
     },
     "execution_count": 76,
     "metadata": {},
     "output_type": "execute_result"
    }
   ],
   "source": [
    "os.getcwd()"
   ]
  },
  {
   "cell_type": "code",
   "execution_count": 77,
   "id": "6bf42c65-ece4-4547-b6bd-721a969005eb",
   "metadata": {
    "tags": []
   },
   "outputs": [
    {
     "name": "stdout",
     "output_type": "stream",
     "text": [
      "Help on built-in function listdir in module nt:\n",
      "\n",
      "listdir(path=None)\n",
      "    Return a list containing the names of the files in the directory.\n",
      "    \n",
      "    path can be specified as either str, bytes, or a path-like object.  If path is bytes,\n",
      "      the filenames returned will also be bytes; in all other circumstances\n",
      "      the filenames returned will be str.\n",
      "    If path is None, uses the path='.'.\n",
      "    On some platforms, path may also be specified as an open file descriptor;\\\n",
      "      the file descriptor must refer to a directory.\n",
      "      If this functionality is unavailable, using it raises NotImplementedError.\n",
      "    \n",
      "    The list is in arbitrary order.  It does not include the special\n",
      "    entries '.' and '..' even if they are present in the directory.\n",
      "\n"
     ]
    }
   ],
   "source": [
    "help(os.listdir)"
   ]
  },
  {
   "cell_type": "code",
   "execution_count": 78,
   "id": "222a137c-1264-48ca-afd8-9c80be621940",
   "metadata": {
    "tags": []
   },
   "outputs": [
    {
     "data": {
      "text/plain": [
       "['.ipynb_checkpoints',\n",
       " 'climate.txt',\n",
       " 'climate_results.txt',\n",
       " 'data',\n",
       " 'data2',\n",
       " 'exercise.ipynb',\n",
       " 'movies2.csv',\n",
       " 'movies3.csv',\n",
       " 'numpy_python.ipynb',\n",
       " 'python_and_jupyter.ipynb',\n",
       " 'python_os_and_filesys.ipynb']"
      ]
     },
     "execution_count": 78,
     "metadata": {},
     "output_type": "execute_result"
    }
   ],
   "source": [
    "os.listdir(path='C:\\\\Users\\\\Shubham Sharma\\\\data_analysis')"
   ]
  },
  {
   "cell_type": "code",
   "execution_count": 79,
   "id": "41a150b5-92b3-4622-9cb4-90bc4155eabc",
   "metadata": {
    "tags": []
   },
   "outputs": [
    {
     "data": {
      "text/plain": [
       "['.ipynb_checkpoints',\n",
       " 'climate.txt',\n",
       " 'climate_results.txt',\n",
       " 'data',\n",
       " 'data2',\n",
       " 'exercise.ipynb',\n",
       " 'movies2.csv',\n",
       " 'movies3.csv',\n",
       " 'numpy_python.ipynb',\n",
       " 'python_and_jupyter.ipynb',\n",
       " 'python_os_and_filesys.ipynb']"
      ]
     },
     "execution_count": 79,
     "metadata": {},
     "output_type": "execute_result"
    }
   ],
   "source": [
    "os.listdir(path='.')"
   ]
  },
  {
   "cell_type": "code",
   "execution_count": 80,
   "id": "23681d6c-7894-4b0b-b204-62fb3d94c1c0",
   "metadata": {
    "tags": []
   },
   "outputs": [
    {
     "data": {
      "text/plain": [
       "['.anaconda',\n",
       " '.azuredatastudio',\n",
       " '.bash_history',\n",
       " '.cache',\n",
       " '.conda',\n",
       " '.condarc',\n",
       " '.config',\n",
       " '.continuum',\n",
       " '.emulator_console_auth_token',\n",
       " '.gitconfig',\n",
       " '.gradle',\n",
       " '.idlerc',\n",
       " '.ipynb_checkpoints',\n",
       " '.ipython',\n",
       " '.jupyter',\n",
       " '.lesshst',\n",
       " '.matplotlib',\n",
       " '.node_repl_history',\n",
       " '.npmrc',\n",
       " '.pm2',\n",
       " '.python_history',\n",
       " '.vscode',\n",
       " '.yarnrc',\n",
       " '3D Objects',\n",
       " 'anaconda3',\n",
       " 'AppData',\n",
       " 'Application Data',\n",
       " 'BullseyeCoverageError.txt',\n",
       " 'Contacts',\n",
       " 'Cookies',\n",
       " 'data_analysis',\n",
       " 'Documents',\n",
       " 'Downloads',\n",
       " 'example-app',\n",
       " 'Favorites',\n",
       " 'IBA_IOAPDATA',\n",
       " 'IntelGraphicsProfiles',\n",
       " 'Links',\n",
       " 'Local Settings',\n",
       " 'Microsoft',\n",
       " 'MicrosoftEdgeBackups',\n",
       " 'money_track',\n",
       " 'motor_info',\n",
       " 'Music',\n",
       " 'My Documents',\n",
       " 'my-app',\n",
       " 'NetHood',\n",
       " 'node_modules',\n",
       " 'NTUSER.DAT',\n",
       " 'ntuser.dat.LOG1',\n",
       " 'ntuser.dat.LOG2',\n",
       " 'NTUSER.DAT{31ac14f5-a3cf-11ed-aabd-b7bf22fab8a5}.TM.blf',\n",
       " 'NTUSER.DAT{31ac14f5-a3cf-11ed-aabd-b7bf22fab8a5}.TMContainer00000000000000000001.regtrans-ms',\n",
       " 'NTUSER.DAT{31ac14f5-a3cf-11ed-aabd-b7bf22fab8a5}.TMContainer00000000000000000002.regtrans-ms',\n",
       " 'ntuser.ini',\n",
       " 'OneDrive',\n",
       " 'package-lock.json',\n",
       " 'package.json',\n",
       " 'Postman',\n",
       " 'PrintHood',\n",
       " 'Recent',\n",
       " 'Saved Games',\n",
       " 'Searches',\n",
       " 'SendTo',\n",
       " 'Start Menu',\n",
       " 'Templates',\n",
       " 'Untitled.ipynb',\n",
       " 'Untitled1.ipynb',\n",
       " 'Untitled2.ipynb',\n",
       " 'Untitled3.ipynb',\n",
       " 'Untitled4.ipynb',\n",
       " 'Untitled5.ipynb',\n",
       " 'Videos',\n",
       " '_netrc']"
      ]
     },
     "execution_count": 80,
     "metadata": {},
     "output_type": "execute_result"
    }
   ],
   "source": [
    "os.listdir(path='./../')"
   ]
  },
  {
   "cell_type": "code",
   "execution_count": 81,
   "id": "5a319c7b-6713-4e2e-972b-4e4a4f565633",
   "metadata": {
    "tags": []
   },
   "outputs": [],
   "source": [
    "os.makedirs('./../demo_create', exist_ok = True)"
   ]
  },
  {
   "cell_type": "code",
   "execution_count": 82,
   "id": "5913a6dc-23de-4d88-91d9-d6c3f47f5ffe",
   "metadata": {
    "tags": []
   },
   "outputs": [
    {
     "data": {
      "text/plain": [
       "['.anaconda',\n",
       " '.azuredatastudio',\n",
       " '.bash_history',\n",
       " '.cache',\n",
       " '.conda',\n",
       " '.condarc',\n",
       " '.config',\n",
       " '.continuum',\n",
       " '.emulator_console_auth_token',\n",
       " '.gitconfig',\n",
       " '.gradle',\n",
       " '.idlerc',\n",
       " '.ipynb_checkpoints',\n",
       " '.ipython',\n",
       " '.jupyter',\n",
       " '.lesshst',\n",
       " '.matplotlib',\n",
       " '.node_repl_history',\n",
       " '.npmrc',\n",
       " '.pm2',\n",
       " '.python_history',\n",
       " '.vscode',\n",
       " '.yarnrc',\n",
       " '3D Objects',\n",
       " 'anaconda3',\n",
       " 'AppData',\n",
       " 'Application Data',\n",
       " 'BullseyeCoverageError.txt',\n",
       " 'Contacts',\n",
       " 'Cookies',\n",
       " 'data_analysis',\n",
       " 'demo_create',\n",
       " 'Documents',\n",
       " 'Downloads',\n",
       " 'example-app',\n",
       " 'Favorites',\n",
       " 'IBA_IOAPDATA',\n",
       " 'IntelGraphicsProfiles',\n",
       " 'Links',\n",
       " 'Local Settings',\n",
       " 'Microsoft',\n",
       " 'MicrosoftEdgeBackups',\n",
       " 'money_track',\n",
       " 'motor_info',\n",
       " 'Music',\n",
       " 'My Documents',\n",
       " 'my-app',\n",
       " 'NetHood',\n",
       " 'node_modules',\n",
       " 'NTUSER.DAT',\n",
       " 'ntuser.dat.LOG1',\n",
       " 'ntuser.dat.LOG2',\n",
       " 'NTUSER.DAT{31ac14f5-a3cf-11ed-aabd-b7bf22fab8a5}.TM.blf',\n",
       " 'NTUSER.DAT{31ac14f5-a3cf-11ed-aabd-b7bf22fab8a5}.TMContainer00000000000000000001.regtrans-ms',\n",
       " 'NTUSER.DAT{31ac14f5-a3cf-11ed-aabd-b7bf22fab8a5}.TMContainer00000000000000000002.regtrans-ms',\n",
       " 'ntuser.ini',\n",
       " 'OneDrive',\n",
       " 'package-lock.json',\n",
       " 'package.json',\n",
       " 'Postman',\n",
       " 'PrintHood',\n",
       " 'Recent',\n",
       " 'Saved Games',\n",
       " 'Searches',\n",
       " 'SendTo',\n",
       " 'Start Menu',\n",
       " 'Templates',\n",
       " 'Untitled.ipynb',\n",
       " 'Untitled1.ipynb',\n",
       " 'Untitled2.ipynb',\n",
       " 'Untitled3.ipynb',\n",
       " 'Untitled4.ipynb',\n",
       " 'Untitled5.ipynb',\n",
       " 'Videos',\n",
       " '_netrc']"
      ]
     },
     "execution_count": 82,
     "metadata": {},
     "output_type": "execute_result"
    }
   ],
   "source": [
    "os.listdir(path='./../')"
   ]
  },
  {
   "cell_type": "code",
   "execution_count": 83,
   "id": "ed15acde-1e18-41eb-8ce2-6635eab0aaf8",
   "metadata": {
    "tags": []
   },
   "outputs": [
    {
     "data": {
      "text/plain": [
       "True"
      ]
     },
     "execution_count": 83,
     "metadata": {},
     "output_type": "execute_result"
    }
   ],
   "source": [
    "'demo_create' in os.listdir(path='./../')"
   ]
  },
  {
   "cell_type": "code",
   "execution_count": 84,
   "id": "9718f0d6-348e-4a2d-b804-bf7a553969c3",
   "metadata": {
    "tags": []
   },
   "outputs": [
    {
     "data": {
      "text/plain": [
       "[]"
      ]
     },
     "execution_count": 84,
     "metadata": {},
     "output_type": "execute_result"
    }
   ],
   "source": [
    "os.listdir('./../demo_create')"
   ]
  },
  {
   "cell_type": "code",
   "execution_count": 85,
   "id": "9de5557d-6958-4c3e-9ba0-fce93804e66d",
   "metadata": {
    "tags": []
   },
   "outputs": [
    {
     "name": "stdout",
     "output_type": "stream",
     "text": [
      "{} removed ./../demo_create\n"
     ]
    }
   ],
   "source": [
    "dir_name = './../demo_create'\n",
    "try:\n",
    "    os.rmdir(dir_name)\n",
    "    print('{} removed', dir_name)\n",
    "except OSError as error:\n",
    "    print(error)\n",
    "    print('file path cannot be removed')"
   ]
  },
  {
   "cell_type": "code",
   "execution_count": 86,
   "id": "38c50987-6392-45c9-aeae-79ae899f01f4",
   "metadata": {
    "tags": []
   },
   "outputs": [
    {
     "data": {
      "text/plain": [
       "False"
      ]
     },
     "execution_count": 86,
     "metadata": {},
     "output_type": "execute_result"
    }
   ],
   "source": [
    "'demo_create' in os.listdir(path='./../')"
   ]
  },
  {
   "cell_type": "code",
   "execution_count": 87,
   "id": "096b1758-fa66-4055-b954-dd5b0dbe700f",
   "metadata": {
    "tags": []
   },
   "outputs": [
    {
     "data": {
      "text/plain": [
       "['.anaconda',\n",
       " '.azuredatastudio',\n",
       " '.bash_history',\n",
       " '.cache',\n",
       " '.conda',\n",
       " '.condarc',\n",
       " '.config',\n",
       " '.continuum',\n",
       " '.emulator_console_auth_token',\n",
       " '.gitconfig',\n",
       " '.gradle',\n",
       " '.idlerc',\n",
       " '.ipynb_checkpoints',\n",
       " '.ipython',\n",
       " '.jupyter',\n",
       " '.lesshst',\n",
       " '.matplotlib',\n",
       " '.node_repl_history',\n",
       " '.npmrc',\n",
       " '.pm2',\n",
       " '.python_history',\n",
       " '.vscode',\n",
       " '.yarnrc',\n",
       " '3D Objects',\n",
       " 'anaconda3',\n",
       " 'AppData',\n",
       " 'Application Data',\n",
       " 'BullseyeCoverageError.txt',\n",
       " 'Contacts',\n",
       " 'Cookies',\n",
       " 'data_analysis',\n",
       " 'Documents',\n",
       " 'Downloads',\n",
       " 'example-app',\n",
       " 'Favorites',\n",
       " 'IBA_IOAPDATA',\n",
       " 'IntelGraphicsProfiles',\n",
       " 'Links',\n",
       " 'Local Settings',\n",
       " 'Microsoft',\n",
       " 'MicrosoftEdgeBackups',\n",
       " 'money_track',\n",
       " 'motor_info',\n",
       " 'Music',\n",
       " 'My Documents',\n",
       " 'my-app',\n",
       " 'NetHood',\n",
       " 'node_modules',\n",
       " 'NTUSER.DAT',\n",
       " 'ntuser.dat.LOG1',\n",
       " 'ntuser.dat.LOG2',\n",
       " 'NTUSER.DAT{31ac14f5-a3cf-11ed-aabd-b7bf22fab8a5}.TM.blf',\n",
       " 'NTUSER.DAT{31ac14f5-a3cf-11ed-aabd-b7bf22fab8a5}.TMContainer00000000000000000001.regtrans-ms',\n",
       " 'NTUSER.DAT{31ac14f5-a3cf-11ed-aabd-b7bf22fab8a5}.TMContainer00000000000000000002.regtrans-ms',\n",
       " 'ntuser.ini',\n",
       " 'OneDrive',\n",
       " 'package-lock.json',\n",
       " 'package.json',\n",
       " 'Postman',\n",
       " 'PrintHood',\n",
       " 'Recent',\n",
       " 'Saved Games',\n",
       " 'Searches',\n",
       " 'SendTo',\n",
       " 'Start Menu',\n",
       " 'Templates',\n",
       " 'Untitled.ipynb',\n",
       " 'Untitled1.ipynb',\n",
       " 'Untitled2.ipynb',\n",
       " 'Untitled3.ipynb',\n",
       " 'Untitled4.ipynb',\n",
       " 'Untitled5.ipynb',\n",
       " 'Videos',\n",
       " '_netrc']"
      ]
     },
     "execution_count": 87,
     "metadata": {},
     "output_type": "execute_result"
    }
   ],
   "source": [
    "os.listdir(path='./../')"
   ]
  },
  {
   "cell_type": "code",
   "execution_count": 88,
   "id": "1cbbff32-9825-4728-ae0e-46fc63a97005",
   "metadata": {
    "tags": []
   },
   "outputs": [],
   "source": [
    "os.makedirs('./data', exist_ok = True)"
   ]
  },
  {
   "cell_type": "code",
   "execution_count": 89,
   "id": "2faf8823-f353-4dba-ae1c-8ac2cf377217",
   "metadata": {
    "tags": []
   },
   "outputs": [
    {
     "data": {
      "text/plain": [
       "True"
      ]
     },
     "execution_count": 89,
     "metadata": {},
     "output_type": "execute_result"
    }
   ],
   "source": [
    "'data' in os.listdir('./')"
   ]
  },
  {
   "cell_type": "code",
   "execution_count": 90,
   "id": "039e91f9-6bc8-43ec-b26d-b0093a192665",
   "metadata": {
    "tags": []
   },
   "outputs": [
    {
     "data": {
      "text/plain": [
       "['.ipynb_checkpoints',\n",
       " 'emis1.txt',\n",
       " 'emis2.txt',\n",
       " 'emis3.txt',\n",
       " 'loans1.txt',\n",
       " 'loans2.txt',\n",
       " 'loans3.txt',\n",
       " 'movies.csv']"
      ]
     },
     "execution_count": 90,
     "metadata": {},
     "output_type": "execute_result"
    }
   ],
   "source": [
    "os.listdir('./data')"
   ]
  },
  {
   "cell_type": "code",
   "execution_count": 91,
   "id": "0f667986-bc06-41fb-ad1f-0da4b449e49e",
   "metadata": {
    "tags": []
   },
   "outputs": [],
   "source": [
    "url1 = 'https://gist.githubusercontent.com/aakashns/257f6e6c8719c17d0e498ea287d1a386/raw/7def9ef4234ddf0bc82f855ad67dac8b971852ef/loans1.txt'\n",
    "url2 = 'https://gist.githubusercontent.com/aakashns/257f6e6c8719c17d0e498ea287d1a386/raw/7def9ef4234ddf0bc82f855ad67dac8b971852ef/loans2.txt'\n",
    "url3 = 'https://gist.githubusercontent.com/aakashns/257f6e6c8719c17d0e498ea287d1a386/raw/7def9ef4234ddf0bc82f855ad67dac8b971852ef/loans3.txt'"
   ]
  },
  {
   "cell_type": "code",
   "execution_count": 92,
   "id": "38e10991-8ee9-4c52-9aca-1850a6c01e17",
   "metadata": {
    "tags": []
   },
   "outputs": [],
   "source": [
    "from urllib.request import urlretrieve"
   ]
  },
  {
   "cell_type": "code",
   "execution_count": 93,
   "id": "23f289c4-0c70-4941-9ad0-9022299d54d8",
   "metadata": {
    "tags": []
   },
   "outputs": [
    {
     "data": {
      "text/plain": [
       "('./data/loans1.txt', <http.client.HTTPMessage at 0x1bd42869110>)"
      ]
     },
     "execution_count": 93,
     "metadata": {},
     "output_type": "execute_result"
    }
   ],
   "source": [
    "urlretrieve(url1, './data/loans1.txt')"
   ]
  },
  {
   "cell_type": "code",
   "execution_count": 94,
   "id": "9fe22f20-e47e-4757-9cfd-e4801d1d2854",
   "metadata": {
    "tags": []
   },
   "outputs": [
    {
     "data": {
      "text/plain": [
       "('./data/loans2.txt', <http.client.HTTPMessage at 0x1bd43ce9290>)"
      ]
     },
     "execution_count": 94,
     "metadata": {},
     "output_type": "execute_result"
    }
   ],
   "source": [
    "urlretrieve(url2, './data/loans2.txt')"
   ]
  },
  {
   "cell_type": "code",
   "execution_count": 95,
   "id": "1c8bbcd3-ab83-4df6-89bd-74c76122dd92",
   "metadata": {
    "tags": []
   },
   "outputs": [
    {
     "data": {
      "text/plain": [
       "('./data/loans3.txt', <http.client.HTTPMessage at 0x1bd43ce9f90>)"
      ]
     },
     "execution_count": 95,
     "metadata": {},
     "output_type": "execute_result"
    }
   ],
   "source": [
    "urlretrieve(url3, './data/loans3.txt')"
   ]
  },
  {
   "cell_type": "code",
   "execution_count": 96,
   "id": "358a9615-603e-476f-95b0-33fc152b4412",
   "metadata": {
    "tags": []
   },
   "outputs": [
    {
     "data": {
      "text/plain": [
       "True"
      ]
     },
     "execution_count": 96,
     "metadata": {},
     "output_type": "execute_result"
    }
   ],
   "source": [
    "'loans1.txt' in os.listdir('./data')"
   ]
  },
  {
   "cell_type": "code",
   "execution_count": 97,
   "id": "d5b03ea5-2e35-4872-9631-0b5295336541",
   "metadata": {
    "tags": []
   },
   "outputs": [
    {
     "data": {
      "text/plain": [
       "['.ipynb_checkpoints',\n",
       " 'emis1.txt',\n",
       " 'emis2.txt',\n",
       " 'emis3.txt',\n",
       " 'loans1.txt',\n",
       " 'loans2.txt',\n",
       " 'loans3.txt',\n",
       " 'movies.csv']"
      ]
     },
     "execution_count": 97,
     "metadata": {},
     "output_type": "execute_result"
    }
   ],
   "source": [
    "os.listdir('./data')"
   ]
  },
  {
   "cell_type": "markdown",
   "id": "f11082f2-d596-4999-972c-4789bf23a21f",
   "metadata": {
    "tags": []
   },
   "source": [
    "## Reading from a file"
   ]
  },
  {
   "cell_type": "code",
   "execution_count": 98,
   "id": "8c82cf3b-8628-45c8-be2c-772b7aba691b",
   "metadata": {
    "tags": []
   },
   "outputs": [],
   "source": [
    "file1 = open('./data/loans1.txt', mode='r')"
   ]
  },
  {
   "cell_type": "code",
   "execution_count": 99,
   "id": "297a0a82-fdde-4f6f-8e33-7d2de8b581a4",
   "metadata": {
    "jupyter": {
     "source_hidden": true
    },
    "tags": []
   },
   "outputs": [
    {
     "name": "stdout",
     "output_type": "stream",
     "text": [
      "Help on TextIOWrapper object:\n",
      "\n",
      "class TextIOWrapper(_TextIOBase)\n",
      " |  TextIOWrapper(buffer, encoding=None, errors=None, newline=None, line_buffering=False, write_through=False)\n",
      " |  \n",
      " |  Character and line based layer over a BufferedIOBase object, buffer.\n",
      " |  \n",
      " |  encoding gives the name of the encoding that the stream will be\n",
      " |  decoded or encoded with. It defaults to locale.getencoding().\n",
      " |  \n",
      " |  errors determines the strictness of encoding and decoding (see\n",
      " |  help(codecs.Codec) or the documentation for codecs.register) and\n",
      " |  defaults to \"strict\".\n",
      " |  \n",
      " |  newline controls how line endings are handled. It can be None, '',\n",
      " |  '\\n', '\\r', and '\\r\\n'.  It works as follows:\n",
      " |  \n",
      " |  * On input, if newline is None, universal newlines mode is\n",
      " |    enabled. Lines in the input can end in '\\n', '\\r', or '\\r\\n', and\n",
      " |    these are translated into '\\n' before being returned to the\n",
      " |    caller. If it is '', universal newline mode is enabled, but line\n",
      " |    endings are returned to the caller untranslated. If it has any of\n",
      " |    the other legal values, input lines are only terminated by the given\n",
      " |    string, and the line ending is returned to the caller untranslated.\n",
      " |  \n",
      " |  * On output, if newline is None, any '\\n' characters written are\n",
      " |    translated to the system default line separator, os.linesep. If\n",
      " |    newline is '' or '\\n', no translation takes place. If newline is any\n",
      " |    of the other legal values, any '\\n' characters written are translated\n",
      " |    to the given string.\n",
      " |  \n",
      " |  If line_buffering is True, a call to flush is implied when a call to\n",
      " |  write contains a newline character.\n",
      " |  \n",
      " |  Method resolution order:\n",
      " |      TextIOWrapper\n",
      " |      _TextIOBase\n",
      " |      _IOBase\n",
      " |      builtins.object\n",
      " |  \n",
      " |  Methods defined here:\n",
      " |  \n",
      " |  __init__(self, /, *args, **kwargs)\n",
      " |      Initialize self.  See help(type(self)) for accurate signature.\n",
      " |  \n",
      " |  __next__(self, /)\n",
      " |      Implement next(self).\n",
      " |  \n",
      " |  __repr__(self, /)\n",
      " |      Return repr(self).\n",
      " |  \n",
      " |  close(self, /)\n",
      " |      Flush and close the IO object.\n",
      " |      \n",
      " |      This method has no effect if the file is already closed.\n",
      " |  \n",
      " |  detach(self, /)\n",
      " |      Separate the underlying buffer from the TextIOBase and return it.\n",
      " |      \n",
      " |      After the underlying buffer has been detached, the TextIO is in an\n",
      " |      unusable state.\n",
      " |  \n",
      " |  fileno(self, /)\n",
      " |      Returns underlying file descriptor if one exists.\n",
      " |      \n",
      " |      OSError is raised if the IO object does not use a file descriptor.\n",
      " |  \n",
      " |  flush(self, /)\n",
      " |      Flush write buffers, if applicable.\n",
      " |      \n",
      " |      This is not implemented for read-only and non-blocking streams.\n",
      " |  \n",
      " |  isatty(self, /)\n",
      " |      Return whether this is an 'interactive' stream.\n",
      " |      \n",
      " |      Return False if it can't be determined.\n",
      " |  \n",
      " |  read(self, size=-1, /)\n",
      " |      Read at most n characters from stream.\n",
      " |      \n",
      " |      Read from underlying buffer until we have n characters or we hit EOF.\n",
      " |      If n is negative or omitted, read until EOF.\n",
      " |  \n",
      " |  readable(self, /)\n",
      " |      Return whether object was opened for reading.\n",
      " |      \n",
      " |      If False, read() will raise OSError.\n",
      " |  \n",
      " |  readline(self, size=-1, /)\n",
      " |      Read until newline or EOF.\n",
      " |      \n",
      " |      Returns an empty string if EOF is hit immediately.\n",
      " |  \n",
      " |  reconfigure(self, /, *, encoding=None, errors=None, newline=None, line_buffering=None, write_through=None)\n",
      " |      Reconfigure the text stream with new parameters.\n",
      " |      \n",
      " |      This also does an implicit stream flush.\n",
      " |  \n",
      " |  seek(self, cookie, whence=0, /)\n",
      " |      Set the stream position, and return the new stream position.\n",
      " |      \n",
      " |        cookie\n",
      " |          Zero or an opaque number returned by tell().\n",
      " |        whence\n",
      " |          The relative position to seek from.\n",
      " |      \n",
      " |      Four operations are supported, given by the following argument\n",
      " |      combinations:\n",
      " |      \n",
      " |      - seek(0, SEEK_SET): Rewind to the start of the stream.\n",
      " |      - seek(cookie, SEEK_SET): Restore a previous position;\n",
      " |        'cookie' must be a number returned by tell().\n",
      " |      - seek(0, SEEK_END): Fast-forward to the end of the stream.\n",
      " |      - seek(0, SEEK_CUR): Leave the current stream position unchanged.\n",
      " |      \n",
      " |      Any other argument combinations are invalid,\n",
      " |      and may raise exceptions.\n",
      " |  \n",
      " |  seekable(self, /)\n",
      " |      Return whether object supports random access.\n",
      " |      \n",
      " |      If False, seek(), tell() and truncate() will raise OSError.\n",
      " |      This method may need to do a test seek().\n",
      " |  \n",
      " |  tell(self, /)\n",
      " |      Return current stream position.\n",
      " |  \n",
      " |  truncate(self, pos=None, /)\n",
      " |      Truncate file to size bytes.\n",
      " |      \n",
      " |      File pointer is left unchanged.  Size defaults to the current IO\n",
      " |      position as reported by tell().  Returns the new size.\n",
      " |  \n",
      " |  writable(self, /)\n",
      " |      Return whether object was opened for writing.\n",
      " |      \n",
      " |      If False, write() will raise OSError.\n",
      " |  \n",
      " |  write(self, text, /)\n",
      " |      Write string to stream.\n",
      " |      Returns the number of characters written (which is always equal to\n",
      " |      the length of the string).\n",
      " |  \n",
      " |  ----------------------------------------------------------------------\n",
      " |  Static methods defined here:\n",
      " |  \n",
      " |  __new__(*args, **kwargs) from builtins.type\n",
      " |      Create and return a new object.  See help(type) for accurate signature.\n",
      " |  \n",
      " |  ----------------------------------------------------------------------\n",
      " |  Data descriptors defined here:\n",
      " |  \n",
      " |  buffer\n",
      " |  \n",
      " |  closed\n",
      " |  \n",
      " |  encoding\n",
      " |      Encoding of the text stream.\n",
      " |      \n",
      " |      Subclasses should override.\n",
      " |  \n",
      " |  errors\n",
      " |      The error setting of the decoder or encoder.\n",
      " |      \n",
      " |      Subclasses should override.\n",
      " |  \n",
      " |  line_buffering\n",
      " |  \n",
      " |  name\n",
      " |  \n",
      " |  newlines\n",
      " |      Line endings translated so far.\n",
      " |      \n",
      " |      Only line endings translated during reading are considered.\n",
      " |      \n",
      " |      Subclasses should override.\n",
      " |  \n",
      " |  write_through\n",
      " |  \n",
      " |  ----------------------------------------------------------------------\n",
      " |  Methods inherited from _IOBase:\n",
      " |  \n",
      " |  __del__(...)\n",
      " |  \n",
      " |  __enter__(...)\n",
      " |  \n",
      " |  __exit__(...)\n",
      " |  \n",
      " |  __iter__(self, /)\n",
      " |      Implement iter(self).\n",
      " |  \n",
      " |  readlines(self, hint=-1, /)\n",
      " |      Return a list of lines from the stream.\n",
      " |      \n",
      " |      hint can be specified to control the number of lines read: no more\n",
      " |      lines will be read if the total size (in bytes/characters) of all\n",
      " |      lines so far exceeds hint.\n",
      " |  \n",
      " |  writelines(self, lines, /)\n",
      " |      Write a list of lines to stream.\n",
      " |      \n",
      " |      Line separators are not added, so it is usual for each of the\n",
      " |      lines provided to have a line separator at the end.\n",
      " |  \n",
      " |  ----------------------------------------------------------------------\n",
      " |  Data descriptors inherited from _IOBase:\n",
      " |  \n",
      " |  __dict__\n",
      "\n"
     ]
    }
   ],
   "source": [
    "help(file1)"
   ]
  },
  {
   "cell_type": "code",
   "execution_count": 100,
   "id": "6b7f6be0-2b93-4783-a976-b29126168397",
   "metadata": {
    "tags": []
   },
   "outputs": [],
   "source": [
    "file1_contents = file1.read()"
   ]
  },
  {
   "cell_type": "code",
   "execution_count": 101,
   "id": "a8ea4f8b-fa28-492c-8139-506f640dc759",
   "metadata": {
    "tags": []
   },
   "outputs": [
    {
     "name": "stdout",
     "output_type": "stream",
     "text": [
      "amount,duration,rate,down_payment\n",
      "100000,36,0.08,20000\n",
      "200000,12,0.1,\n",
      "628400,120,0.12,100000\n",
      "4637400,240,0.06,\n",
      "42900,90,0.07,8900\n",
      "916000,16,0.13,\n",
      "45230,48,0.08,4300\n",
      "991360,99,0.08,\n",
      "423000,27,0.09,47200\n"
     ]
    }
   ],
   "source": [
    "print(file1_contents)"
   ]
  },
  {
   "cell_type": "code",
   "execution_count": 102,
   "id": "cd559bbb-e8ba-4fb0-b1f7-191ddd5d4a06",
   "metadata": {
    "tags": []
   },
   "outputs": [],
   "source": [
    "file1.close()"
   ]
  },
  {
   "cell_type": "code",
   "execution_count": 103,
   "id": "a02d7806-f6e0-48a5-8b66-06f38f5cfe83",
   "metadata": {
    "tags": []
   },
   "outputs": [
    {
     "ename": "ValueError",
     "evalue": "I/O operation on closed file.",
     "output_type": "error",
     "traceback": [
      "\u001b[1;31m---------------------------------------------------------------------------\u001b[0m",
      "\u001b[1;31mValueError\u001b[0m                                Traceback (most recent call last)",
      "Cell \u001b[1;32mIn[103], line 1\u001b[0m\n\u001b[1;32m----> 1\u001b[0m file1\u001b[38;5;241m.\u001b[39mread()\n",
      "\u001b[1;31mValueError\u001b[0m: I/O operation on closed file."
     ]
    }
   ],
   "source": [
    "file1.read()"
   ]
  },
  {
   "cell_type": "markdown",
   "id": "43cf8b97-61c5-4da1-abfa-d85c2876221e",
   "metadata": {
    "tags": []
   },
   "source": [
    "### Closing files automatically using with statement"
   ]
  },
  {
   "cell_type": "code",
   "execution_count": null,
   "id": "69f3946b-97b3-43b0-82e6-fcf17ce137be",
   "metadata": {
    "tags": []
   },
   "outputs": [],
   "source": [
    "with open('./data/loans2.txt') as file2:\n",
    "    file2_contents = file2.read()\n",
    "    print(file2_contents)"
   ]
  },
  {
   "cell_type": "code",
   "execution_count": null,
   "id": "155bc529-d850-4c9f-ae04-b113c307c451",
   "metadata": {
    "tags": []
   },
   "outputs": [],
   "source": [
    "file2.read()"
   ]
  },
  {
   "cell_type": "markdown",
   "id": "97f16599-4818-410b-bf02-5ab14c260d78",
   "metadata": {
    "tags": []
   },
   "source": [
    "## Reading a file line by line"
   ]
  },
  {
   "cell_type": "code",
   "execution_count": null,
   "id": "17593d74-39d1-4efd-8618-070bb49089f0",
   "metadata": {
    "tags": []
   },
   "outputs": [],
   "source": [
    "with open('./data/loans3.txt', 'r') as file3:\n",
    "    file3_contents = file3.readlines()"
   ]
  },
  {
   "cell_type": "code",
   "execution_count": null,
   "id": "715a5119-9f14-4bd1-a798-7fc58a07e304",
   "metadata": {
    "tags": []
   },
   "outputs": [],
   "source": [
    "file3_contents"
   ]
  },
  {
   "cell_type": "code",
   "execution_count": null,
   "id": "a01670db-279e-48e7-96f6-16ca276e375d",
   "metadata": {
    "tags": []
   },
   "outputs": [],
   "source": [
    "file3.read()"
   ]
  },
  {
   "cell_type": "markdown",
   "id": "41e9f362-3313-4aed-a746-2ce3dbe91932",
   "metadata": {
    "tags": []
   },
   "source": [
    "## Processing data from files"
   ]
  },
  {
   "cell_type": "code",
   "execution_count": null,
   "id": "618fad79-c5c6-4df4-88a3-9d8234c1f67e",
   "metadata": {
    "tags": []
   },
   "outputs": [],
   "source": [
    "def parse_header(header_line):\n",
    "    return header_line.strip().split(',')"
   ]
  },
  {
   "cell_type": "code",
   "execution_count": null,
   "id": "94bccd1e-bc5a-4c8f-a1ff-3a43064d1f18",
   "metadata": {
    "tags": []
   },
   "outputs": [],
   "source": [
    "file3_header = file3_contents[0]"
   ]
  },
  {
   "cell_type": "code",
   "execution_count": null,
   "id": "f71ecff1-20c3-4545-bca7-bf05a0cc726c",
   "metadata": {
    "tags": []
   },
   "outputs": [],
   "source": [
    "remove_extra_spaces_and_newline_char = file3_header.strip()"
   ]
  },
  {
   "cell_type": "code",
   "execution_count": null,
   "id": "3b7b4424-578f-43e2-98fe-c08bc3ce30de",
   "metadata": {
    "tags": []
   },
   "outputs": [],
   "source": [
    "remove_extra_spaces_and_newline_char"
   ]
  },
  {
   "cell_type": "code",
   "execution_count": null,
   "id": "2e7c26a6-2313-4fdf-a2c9-bccb9518d828",
   "metadata": {
    "tags": []
   },
   "outputs": [],
   "source": [
    "convert_str_to_list_using_comma_separator = remove_extra_spaces_and_newline_char.split()"
   ]
  },
  {
   "cell_type": "code",
   "execution_count": null,
   "id": "5d6dc017-51bb-441c-8750-99d34921c609",
   "metadata": {
    "tags": []
   },
   "outputs": [],
   "source": [
    "convert_str_to_list_using_comma_separator"
   ]
  },
  {
   "cell_type": "code",
   "execution_count": null,
   "id": "0abaebd9-3d7b-448b-abdb-3cfac8562a13",
   "metadata": {
    "tags": []
   },
   "outputs": [],
   "source": [
    "parse_header(file3_contents[0])"
   ]
  },
  {
   "cell_type": "code",
   "execution_count": null,
   "id": "bc6febbe-d797-4a7f-872d-b5a1706883c2",
   "metadata": {
    "tags": []
   },
   "outputs": [],
   "source": [
    "headers = parse_header(file3_contents[0])"
   ]
  },
  {
   "cell_type": "code",
   "execution_count": null,
   "id": "26163ca9-fb0d-4478-b2b4-f267cee7977a",
   "metadata": {
    "tags": []
   },
   "outputs": [],
   "source": [
    "headers"
   ]
  },
  {
   "cell_type": "code",
   "execution_count": null,
   "id": "1c299a21-c463-4ba6-8e15-6b6d31fa534d",
   "metadata": {
    "tags": []
   },
   "outputs": [],
   "source": [
    "def parse_value(data_line):\n",
    "    values = []\n",
    "    for item in data_line.strip().split(','):\n",
    "        if item == '':\n",
    "            values.append(0.0)\n",
    "        else:\n",
    "            try:\n",
    "                values.append(float(item))\n",
    "            except ValueError:\n",
    "                values.append(item)\n",
    "    return values"
   ]
  },
  {
   "cell_type": "code",
   "execution_count": null,
   "id": "0941f8e1-b314-4e2c-9663-c139ad0e2f74",
   "metadata": {
    "tags": []
   },
   "outputs": [],
   "source": [
    "def create_item_dict(values, headers):\n",
    "    result = {}\n",
    "    for v, h in zip(values, headers):\n",
    "        result[h] = v\n",
    "    return result"
   ]
  },
  {
   "cell_type": "code",
   "execution_count": null,
   "id": "880a27ef-e84d-40fa-9921-460bdf756ad3",
   "metadata": {
    "tags": []
   },
   "outputs": [],
   "source": [
    "def read_csv(path):\n",
    "    result = []\n",
    "    #open the file in read mode\n",
    "    with open(path, mode='r') as f:\n",
    "        #get a list of lines\n",
    "        lines  = f.readlines()\n",
    "        #parse the header\n",
    "        headers = parse_header(lines[0])\n",
    "        # loop over remaining lines\n",
    "        for data_line in lines[1:]:\n",
    "            # parse the values\n",
    "            values = parse_value(data_line)\n",
    "            # create a dictionary using values & headers\n",
    "            item_dict = create_item_dict(values, headers)\n",
    "            # Add the dictionary to the result\n",
    "            result.append(item_dict)\n",
    "    return result"
   ]
  },
  {
   "cell_type": "code",
   "execution_count": null,
   "id": "d6d7272b-8f8b-4a83-8912-a183c7ac5c1f",
   "metadata": {
    "tags": []
   },
   "outputs": [],
   "source": [
    "loans2 = read_csv('./data/loans2.txt')"
   ]
  },
  {
   "cell_type": "code",
   "execution_count": null,
   "id": "5edb130e-c83f-4488-8ab0-62e76c10b1c0",
   "metadata": {
    "tags": []
   },
   "outputs": [],
   "source": [
    "print(loans2)"
   ]
  },
  {
   "cell_type": "code",
   "execution_count": null,
   "id": "4f2c3227-0d40-41d3-87ff-e28de8cd04f1",
   "metadata": {
    "tags": []
   },
   "outputs": [],
   "source": [
    "import math\n",
    "\n",
    "def loan_emi(amount, duration, rate, down_payment=0):\n",
    "    \"\"\"Calculates the equal montly installment (EMI) for a loan.\n",
    "    \n",
    "    Arguments:\n",
    "        amount - Total amount to be spent (loan + down payment)\n",
    "        duration - Duration of the loan (in months)\n",
    "        rate - Rate of interest (monthly)\n",
    "        down_payment (optional) - Optional intial payment (deducted from amount)\n",
    "    \"\"\"\n",
    "    loan_amount = amount - down_payment\n",
    "    try:\n",
    "        emi = loan_amount * rate * ((1+rate)**duration) / (((1+rate)**duration)-1)\n",
    "    except ZeroDivisionError:\n",
    "        emi = loan_amount / duration\n",
    "    emi = math.ceil(emi)\n",
    "    return emi"
   ]
  },
  {
   "cell_type": "code",
   "execution_count": null,
   "id": "12f66a27-ad98-45e7-bc6e-cea60c437c73",
   "metadata": {
    "tags": []
   },
   "outputs": [],
   "source": [
    "for loan in loans2:\n",
    "    loan['emi'] = loan_emi(loan['amount'],\n",
    "                           loan['duration'],\n",
    "                           loan['rate']/12,# csv contains yearly rates\n",
    "                           loan['down_payment'])"
   ]
  },
  {
   "cell_type": "code",
   "execution_count": null,
   "id": "5592ed1b-5a89-44f0-918e-72d7a5b60f33",
   "metadata": {
    "tags": []
   },
   "outputs": [],
   "source": [
    "loans2"
   ]
  },
  {
   "cell_type": "code",
   "execution_count": null,
   "id": "c9371b9c-65e4-405d-904f-6056d22b8470",
   "metadata": {
    "tags": []
   },
   "outputs": [],
   "source": [
    "def compute_emis(loans):\n",
    "    for loan in loans:\n",
    "        loan['emi'] = loan_emi(\n",
    "            loan['amount'],\n",
    "            loan['duration'],\n",
    "            loan['rate']/12,# the csv contain yearly rates\n",
    "            loan['down_payment'])"
   ]
  },
  {
   "cell_type": "markdown",
   "id": "8729407b-2eed-4c4e-a0cd-5ced5e5a1ed6",
   "metadata": {
    "tags": []
   },
   "source": [
    "## Writing to files"
   ]
  },
  {
   "cell_type": "code",
   "execution_count": null,
   "id": "cf00da35-e758-424a-b0db-36474bf0a390",
   "metadata": {
    "tags": []
   },
   "outputs": [],
   "source": [
    "with open('./data/emis2.txt', 'w') as f:\n",
    "    for loan in loans2:\n",
    "        f.write('{}, {}, {}, {}, {}'.format(\n",
    "        loan['amount'],\n",
    "        loan['duration'],\n",
    "        loan['rate'],\n",
    "        loan['down_payment'],\n",
    "        loan['emi']))"
   ]
  },
  {
   "cell_type": "code",
   "execution_count": null,
   "id": "89bd6a00-6c46-4c31-aa64-81f9c004a3f3",
   "metadata": {
    "tags": []
   },
   "outputs": [],
   "source": [
    "os.listdir('data')"
   ]
  },
  {
   "cell_type": "code",
   "execution_count": null,
   "id": "73a5bfc5-78ce-4aa8-ad70-bb31e2bb8ed6",
   "metadata": {
    "tags": []
   },
   "outputs": [],
   "source": [
    "with open('./data/emis2.txt', 'r') as f:\n",
    "    print(f.read())"
   ]
  },
  {
   "cell_type": "code",
   "execution_count": null,
   "id": "7adbd808-d56a-4153-9a24-50b6cc73e2d3",
   "metadata": {
    "tags": []
   },
   "outputs": [],
   "source": [
    "def write_csv(items, path):\n",
    "    result = []\n",
    "    with open(path, 'w') as f:\n",
    "        # Return if there's nothing to write\n",
    "        if len(items) == 0:\n",
    "            return\n",
    "        \n",
    "        # Write the headers in the first line\n",
    "        headers = list(items[0].keys())\n",
    "        f.write(','.join(headers) + '\\n')\n",
    "        \n",
    "        # Write one item per line\n",
    "        for item in items:\n",
    "            values = []\n",
    "            for header in headers:\n",
    "                values.append(str(item.get(header, \"\")))\n",
    "            f.write(','.join(values) + \"\\n\")"
   ]
  },
  {
   "cell_type": "code",
   "execution_count": null,
   "id": "15635526-7981-408a-9bc3-fcaa20b28389",
   "metadata": {
    "tags": []
   },
   "outputs": [],
   "source": [
    "loans3 = read_csv('./data/loans3.txt')"
   ]
  },
  {
   "cell_type": "code",
   "execution_count": null,
   "id": "b30c73cf-ef75-4f30-a78f-38a4587bef83",
   "metadata": {
    "tags": []
   },
   "outputs": [],
   "source": [
    "compute_emis(loans3)"
   ]
  },
  {
   "cell_type": "code",
   "execution_count": null,
   "id": "3805efca-4f57-4409-a3d5-74400977bfa0",
   "metadata": {
    "tags": []
   },
   "outputs": [],
   "source": [
    "write_csv(loans3, './data/emis3.txt')"
   ]
  },
  {
   "cell_type": "code",
   "execution_count": null,
   "id": "6036407b-002f-4288-93b8-f2cdeb4c471f",
   "metadata": {
    "tags": []
   },
   "outputs": [],
   "source": [
    "with open('./data/emis3.txt', 'r') as f:\n",
    "    print(f.read())"
   ]
  },
  {
   "cell_type": "code",
   "execution_count": null,
   "id": "d7911741-c982-486f-bb86-fd28906cf69c",
   "metadata": {
    "tags": []
   },
   "outputs": [],
   "source": [
    "for i in range(1, 4):\n",
    "    loans = read_csv('./data/loans{}.txt'.format(i))\n",
    "    compute_emis(loans)\n",
    "    write_csv(loans, './data/emis{}.txt'.format(i))"
   ]
  },
  {
   "cell_type": "code",
   "execution_count": null,
   "id": "fe9ae5bc-6522-479e-ab7a-e7c3ff8de8be",
   "metadata": {
    "tags": []
   },
   "outputs": [],
   "source": [
    "os.listdir('./data')"
   ]
  },
  {
   "cell_type": "code",
   "execution_count": null,
   "id": "69baccb9-2421-4741-a34f-8d794abe3215",
   "metadata": {
    "tags": []
   },
   "outputs": [],
   "source": [
    "for i in range(1, 4):\n",
    "    with open('./data/emis{}.txt'.format(i), 'r') as f:\n",
    "        print('emis{}.txt'.format(i))\n",
    "        print(f.read())"
   ]
  },
  {
   "cell_type": "markdown",
   "id": "9cca7fff-402e-4cdc-a9f2-3821ba6b1170",
   "metadata": {
    "tags": []
   },
   "source": [
    "# Pandas Python"
   ]
  },
  {
   "cell_type": "code",
   "execution_count": 104,
   "id": "771adb11-1d21-4dd6-8021-bcb93cae50a3",
   "metadata": {
    "tags": []
   },
   "outputs": [],
   "source": [
    "import pandas as pd"
   ]
  },
  {
   "cell_type": "code",
   "execution_count": 105,
   "id": "440d4976-8d78-4340-abbe-ae8d3b80e432",
   "metadata": {
    "tags": []
   },
   "outputs": [],
   "source": [
    "file1_dataframe = pd.read_csv('./data/emis1.txt')"
   ]
  },
  {
   "cell_type": "code",
   "execution_count": 106,
   "id": "72b9297d-0975-4567-a615-df2ad0e14f74",
   "metadata": {
    "tags": []
   },
   "outputs": [
    {
     "data": {
      "text/html": [
       "<div>\n",
       "<style scoped>\n",
       "    .dataframe tbody tr th:only-of-type {\n",
       "        vertical-align: middle;\n",
       "    }\n",
       "\n",
       "    .dataframe tbody tr th {\n",
       "        vertical-align: top;\n",
       "    }\n",
       "\n",
       "    .dataframe thead th {\n",
       "        text-align: right;\n",
       "    }\n",
       "</style>\n",
       "<table border=\"1\" class=\"dataframe\">\n",
       "  <thead>\n",
       "    <tr style=\"text-align: right;\">\n",
       "      <th></th>\n",
       "      <th>amount</th>\n",
       "      <th>duration</th>\n",
       "      <th>rate</th>\n",
       "      <th>down_payment</th>\n",
       "      <th>emi</th>\n",
       "    </tr>\n",
       "  </thead>\n",
       "  <tbody>\n",
       "    <tr>\n",
       "      <th>0</th>\n",
       "      <td>100000.0</td>\n",
       "      <td>36.0</td>\n",
       "      <td>0.08</td>\n",
       "      <td>20000.0</td>\n",
       "      <td>2507</td>\n",
       "    </tr>\n",
       "    <tr>\n",
       "      <th>1</th>\n",
       "      <td>200000.0</td>\n",
       "      <td>12.0</td>\n",
       "      <td>0.10</td>\n",
       "      <td>0.0</td>\n",
       "      <td>17584</td>\n",
       "    </tr>\n",
       "    <tr>\n",
       "      <th>2</th>\n",
       "      <td>628400.0</td>\n",
       "      <td>120.0</td>\n",
       "      <td>0.12</td>\n",
       "      <td>100000.0</td>\n",
       "      <td>7582</td>\n",
       "    </tr>\n",
       "    <tr>\n",
       "      <th>3</th>\n",
       "      <td>4637400.0</td>\n",
       "      <td>240.0</td>\n",
       "      <td>0.06</td>\n",
       "      <td>0.0</td>\n",
       "      <td>33224</td>\n",
       "    </tr>\n",
       "    <tr>\n",
       "      <th>4</th>\n",
       "      <td>42900.0</td>\n",
       "      <td>90.0</td>\n",
       "      <td>0.07</td>\n",
       "      <td>8900.0</td>\n",
       "      <td>487</td>\n",
       "    </tr>\n",
       "    <tr>\n",
       "      <th>5</th>\n",
       "      <td>916000.0</td>\n",
       "      <td>16.0</td>\n",
       "      <td>0.13</td>\n",
       "      <td>0.0</td>\n",
       "      <td>62664</td>\n",
       "    </tr>\n",
       "    <tr>\n",
       "      <th>6</th>\n",
       "      <td>45230.0</td>\n",
       "      <td>48.0</td>\n",
       "      <td>0.08</td>\n",
       "      <td>4300.0</td>\n",
       "      <td>1000</td>\n",
       "    </tr>\n",
       "    <tr>\n",
       "      <th>7</th>\n",
       "      <td>991360.0</td>\n",
       "      <td>99.0</td>\n",
       "      <td>0.08</td>\n",
       "      <td>0.0</td>\n",
       "      <td>13712</td>\n",
       "    </tr>\n",
       "    <tr>\n",
       "      <th>8</th>\n",
       "      <td>423000.0</td>\n",
       "      <td>27.0</td>\n",
       "      <td>0.09</td>\n",
       "      <td>47200.0</td>\n",
       "      <td>15428</td>\n",
       "    </tr>\n",
       "  </tbody>\n",
       "</table>\n",
       "</div>"
      ],
      "text/plain": [
       "      amount   duration   rate   down_payment    emi\n",
       "0   100000.0       36.0   0.08        20000.0   2507\n",
       "1   200000.0       12.0   0.10            0.0  17584\n",
       "2   628400.0      120.0   0.12       100000.0   7582\n",
       "3  4637400.0      240.0   0.06            0.0  33224\n",
       "4    42900.0       90.0   0.07         8900.0    487\n",
       "5   916000.0       16.0   0.13            0.0  62664\n",
       "6    45230.0       48.0   0.08         4300.0   1000\n",
       "7   991360.0       99.0   0.08            0.0  13712\n",
       "8   423000.0       27.0   0.09        47200.0  15428"
      ]
     },
     "execution_count": 106,
     "metadata": {},
     "output_type": "execute_result"
    }
   ],
   "source": [
    "file1_dataframe"
   ]
  },
  {
   "cell_type": "code",
   "execution_count": 107,
   "id": "ab2bf8e9-3a8d-4019-ba2b-ff6b765c93fc",
   "metadata": {
    "tags": []
   },
   "outputs": [],
   "source": [
    "movies_url = \"https://gist.githubusercontent.com/aakashns/afee0a407d44bbc02321993548021af9/raw/6d7473f0ac4c54aca65fc4b06ed831b8a4840190/movies.csv\""
   ]
  },
  {
   "cell_type": "code",
   "execution_count": 108,
   "id": "55f15dfa-e4fb-412a-830c-ccf0b62f0df7",
   "metadata": {
    "tags": []
   },
   "outputs": [
    {
     "data": {
      "text/plain": [
       "('./data/movies.csv', <http.client.HTTPMessage at 0x1bd46474e50>)"
      ]
     },
     "execution_count": 108,
     "metadata": {},
     "output_type": "execute_result"
    }
   ],
   "source": [
    "urlretrieve(movies_url, './data/movies.csv')"
   ]
  },
  {
   "cell_type": "code",
   "execution_count": 109,
   "id": "25b2f00d-e4fa-4bb4-8f4b-ce0134dbc7b5",
   "metadata": {
    "tags": []
   },
   "outputs": [
    {
     "data": {
      "text/plain": [
       "['.ipynb_checkpoints',\n",
       " 'climate.txt',\n",
       " 'climate_results.txt',\n",
       " 'data',\n",
       " 'data2',\n",
       " 'exercise.ipynb',\n",
       " 'movies2.csv',\n",
       " 'movies3.csv',\n",
       " 'numpy_python.ipynb',\n",
       " 'python_and_jupyter.ipynb',\n",
       " 'python_os_and_filesys.ipynb']"
      ]
     },
     "execution_count": 109,
     "metadata": {},
     "output_type": "execute_result"
    }
   ],
   "source": [
    "os.listdir()"
   ]
  },
  {
   "cell_type": "code",
   "execution_count": 110,
   "id": "e1dcc383-b3d8-489c-b02c-7dbba8b93573",
   "metadata": {
    "tags": []
   },
   "outputs": [
    {
     "data": {
      "text/plain": [
       "['.ipynb_checkpoints',\n",
       " 'emis1.txt',\n",
       " 'emis2.txt',\n",
       " 'emis3.txt',\n",
       " 'loans1.txt',\n",
       " 'loans2.txt',\n",
       " 'loans3.txt',\n",
       " 'movies.csv']"
      ]
     },
     "execution_count": 110,
     "metadata": {},
     "output_type": "execute_result"
    }
   ],
   "source": [
    "os.listdir('./data')"
   ]
  },
  {
   "cell_type": "code",
   "execution_count": 111,
   "id": "4bd5cb2b-a64a-432f-bc78-6ed6fadb3d33",
   "metadata": {
    "tags": []
   },
   "outputs": [],
   "source": [
    "movies_dataframe = pd.read_csv('./data/movies.csv')"
   ]
  },
  {
   "cell_type": "code",
   "execution_count": 112,
   "id": "f20153a1-4ba9-4319-b0f4-9d7f042edc5f",
   "metadata": {
    "tags": []
   },
   "outputs": [
    {
     "data": {
      "text/html": [
       "<div>\n",
       "<style scoped>\n",
       "    .dataframe tbody tr th:only-of-type {\n",
       "        vertical-align: middle;\n",
       "    }\n",
       "\n",
       "    .dataframe tbody tr th {\n",
       "        vertical-align: top;\n",
       "    }\n",
       "\n",
       "    .dataframe thead th {\n",
       "        text-align: right;\n",
       "    }\n",
       "</style>\n",
       "<table border=\"1\" class=\"dataframe\">\n",
       "  <thead>\n",
       "    <tr style=\"text-align: right;\">\n",
       "      <th></th>\n",
       "      <th>title</th>\n",
       "      <th>description</th>\n",
       "    </tr>\n",
       "  </thead>\n",
       "  <tbody>\n",
       "    <tr>\n",
       "      <th>0</th>\n",
       "      <td>Fast &amp; Furious</td>\n",
       "      <td>A movie, a race, a franchise</td>\n",
       "    </tr>\n",
       "    <tr>\n",
       "      <th>1</th>\n",
       "      <td>The Dark Knight</td>\n",
       "      <td>Gotham, the \"Batman\", and the Joker</td>\n",
       "    </tr>\n",
       "    <tr>\n",
       "      <th>2</th>\n",
       "      <td>Memento</td>\n",
       "      <td>A guy forgets everything every 15 minutes</td>\n",
       "    </tr>\n",
       "  </tbody>\n",
       "</table>\n",
       "</div>"
      ],
      "text/plain": [
       "             title                                description\n",
       "0   Fast & Furious               A movie, a race, a franchise\n",
       "1  The Dark Knight        Gotham, the \"Batman\", and the Joker\n",
       "2          Memento  A guy forgets everything every 15 minutes"
      ]
     },
     "execution_count": 112,
     "metadata": {},
     "output_type": "execute_result"
    }
   ],
   "source": [
    "movies_dataframe"
   ]
  },
  {
   "cell_type": "code",
   "execution_count": 113,
   "id": "a4eaa719-04bd-49f5-8fb6-46d993bd3458",
   "metadata": {
    "tags": []
   },
   "outputs": [
    {
     "data": {
      "text/plain": [
       "'             title                                description\\n0   Fast & Furious               A movie, a race, a franchise\\n1  The Dark Knight        Gotham, the \"Batman\", and the Joker\\n2          Memento  A guy forgets everything every 15 minutes'"
      ]
     },
     "execution_count": 113,
     "metadata": {},
     "output_type": "execute_result"
    }
   ],
   "source": [
    "movies_dataframe.to_string()"
   ]
  },
  {
   "cell_type": "code",
   "execution_count": 118,
   "id": "ec3a5203-74a5-43e5-887b-520ea3549898",
   "metadata": {
    "tags": []
   },
   "outputs": [],
   "source": [
    "movies = movies_dataframe.to_dict('records')"
   ]
  },
  {
   "cell_type": "code",
   "execution_count": 119,
   "id": "0076a375-47e3-4c3c-ba8c-a667042f4ddc",
   "metadata": {
    "tags": []
   },
   "outputs": [
    {
     "data": {
      "text/plain": [
       "[{'title': 'Fast & Furious', 'description': 'A movie, a race, a franchise'},\n",
       " {'title': 'The Dark Knight',\n",
       "  'description': 'Gotham, the \"Batman\", and the Joker'},\n",
       " {'title': 'Memento',\n",
       "  'description': 'A guy forgets everything every 15 minutes'}]"
      ]
     },
     "execution_count": 119,
     "metadata": {},
     "output_type": "execute_result"
    }
   ],
   "source": [
    "movies"
   ]
  },
  {
   "cell_type": "code",
   "execution_count": 120,
   "id": "9d26e2b4-6810-4fb6-ba6a-0b8553f41ff5",
   "metadata": {
    "tags": []
   },
   "outputs": [],
   "source": [
    "movies_dict = movies_dataframe.to_dict()"
   ]
  },
  {
   "cell_type": "code",
   "execution_count": 121,
   "id": "3e12b000-02ca-4b0d-b186-3c65fa9a2efa",
   "metadata": {
    "tags": []
   },
   "outputs": [
    {
     "data": {
      "text/plain": [
       "{'title': {0: 'Fast & Furious', 1: 'The Dark Knight', 2: 'Memento'},\n",
       " 'description': {0: 'A movie, a race, a franchise',\n",
       "  1: 'Gotham, the \"Batman\", and the Joker',\n",
       "  2: 'A guy forgets everything every 15 minutes'}}"
      ]
     },
     "execution_count": 121,
     "metadata": {},
     "output_type": "execute_result"
    }
   ],
   "source": [
    "movies_dict"
   ]
  },
  {
   "cell_type": "code",
   "execution_count": 123,
   "id": "a33f69f6-36c1-4e73-8b1a-08826a1773dd",
   "metadata": {
    "tags": []
   },
   "outputs": [
    {
     "ename": "NameError",
     "evalue": "name 'write_csv' is not defined",
     "output_type": "error",
     "traceback": [
      "\u001b[1;31m---------------------------------------------------------------------------\u001b[0m",
      "\u001b[1;31mNameError\u001b[0m                                 Traceback (most recent call last)",
      "Cell \u001b[1;32mIn[123], line 1\u001b[0m\n\u001b[1;32m----> 1\u001b[0m write_csv(movies, \u001b[38;5;124m'\u001b[39m\u001b[38;5;124mmovies2.csv\u001b[39m\u001b[38;5;124m'\u001b[39m)\n",
      "\u001b[1;31mNameError\u001b[0m: name 'write_csv' is not defined"
     ]
    }
   ],
   "source": [
    "write_csv(movies, 'movies2.csv')"
   ]
  },
  {
   "cell_type": "code",
   "execution_count": 124,
   "id": "d6f7ab78-a5ef-4184-8765-bb3e416d0645",
   "metadata": {
    "tags": []
   },
   "outputs": [
    {
     "name": "stderr",
     "output_type": "stream",
     "text": [
      "'head' is not recognized as an internal or external command,\n",
      "operable program or batch file.\n"
     ]
    }
   ],
   "source": [
    "!head movies2.csv"
   ]
  },
  {
   "cell_type": "code",
   "execution_count": null,
   "id": "bf68c47b-3fac-448d-b308-8af0b59ffd4d",
   "metadata": {
    "tags": []
   },
   "outputs": [],
   "source": [
    "pd.read_csv('movies2.csv')"
   ]
  },
  {
   "cell_type": "code",
   "execution_count": null,
   "id": "6e275e23-50fd-4a7f-b627-1cf2db90776a",
   "metadata": {
    "tags": []
   },
   "outputs": [],
   "source": [
    "df2 = pd.DataFrame(movies)"
   ]
  },
  {
   "cell_type": "code",
   "execution_count": null,
   "id": "0f906042-81b4-4837-9c74-3112c7df9de3",
   "metadata": {
    "tags": []
   },
   "outputs": [],
   "source": [
    "df2"
   ]
  },
  {
   "cell_type": "code",
   "execution_count": null,
   "id": "ce76efb2-7bc4-41fa-8c36-65b9ae17cdbf",
   "metadata": {
    "tags": []
   },
   "outputs": [],
   "source": [
    "df2.to_csv('movies3.csv', index=None)"
   ]
  },
  {
   "cell_type": "code",
   "execution_count": null,
   "id": "8f0f2443-2e09-4d45-aa7b-650c1f07b704",
   "metadata": {
    "tags": []
   },
   "outputs": [],
   "source": [
    "with open('./data/movies.csv', 'r') as f:\n",
    "    print(f.read())"
   ]
  },
  {
   "cell_type": "code",
   "execution_count": null,
   "id": "495575ee-ea8c-4746-87aa-72ec0d449416",
   "metadata": {
    "tags": []
   },
   "outputs": [],
   "source": [
    "!head movies3.csv"
   ]
  },
  {
   "cell_type": "code",
   "execution_count": null,
   "id": "fc01119a-bf09-4faf-a65b-07012cf96e31",
   "metadata": {
    "tags": []
   },
   "outputs": [],
   "source": [
    "pd.read_csv('movies3.csv')"
   ]
  },
  {
   "cell_type": "code",
   "execution_count": null,
   "id": "935097ea-dbd8-404f-8168-8e28a091755d",
   "metadata": {},
   "outputs": [],
   "source": []
  }
 ],
 "metadata": {
  "kernelspec": {
   "display_name": "Python 3 (ipykernel)",
   "language": "python",
   "name": "python3"
  },
  "language_info": {
   "codemirror_mode": {
    "name": "ipython",
    "version": 3
   },
   "file_extension": ".py",
   "mimetype": "text/x-python",
   "name": "python",
   "nbconvert_exporter": "python",
   "pygments_lexer": "ipython3",
   "version": "3.11.5"
  }
 },
 "nbformat": 4,
 "nbformat_minor": 5
}
