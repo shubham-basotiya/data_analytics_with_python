{
 "cells": [
  {
   "cell_type": "markdown",
   "id": "ff0f7779-8274-4212-9a44-636116e3cea1",
   "metadata": {
    "tags": []
   },
   "source": [
    "## Exercise - Processing CSV files using a dictionary of lists"
   ]
  },
  {
   "cell_type": "code",
   "execution_count": 5,
   "id": "66d46eb6-51a7-4b26-9cfa-5263edeb6408",
   "metadata": {
    "tags": []
   },
   "outputs": [],
   "source": [
    "from urllib.request import urlretrieve"
   ]
  },
  {
   "cell_type": "code",
   "execution_count": 6,
   "id": "cb6f1cc2-b37f-40cc-89cc-98d662bb55af",
   "metadata": {
    "tags": []
   },
   "outputs": [],
   "source": [
    "url1 = 'https://gist.githubusercontent.com/aakashns/257f6e6c8719c17d0e498ea287d1a386/raw/7def9ef4234ddf0bc82f855ad67dac8b971852ef/loans1.txt'\n",
    "url2 = 'https://gist.githubusercontent.com/aakashns/257f6e6c8719c17d0e498ea287d1a386/raw/7def9ef4234ddf0bc82f855ad67dac8b971852ef/loans2.txt'\n",
    "url3 = 'https://gist.githubusercontent.com/aakashns/257f6e6c8719c17d0e498ea287d1a386/raw/7def9ef4234ddf0bc82f855ad67dac8b971852ef/loans3.txt'"
   ]
  },
  {
   "cell_type": "code",
   "execution_count": 7,
   "id": "58bbe6d6-e425-435f-a2f9-fb352072d8a1",
   "metadata": {
    "tags": []
   },
   "outputs": [],
   "source": [
    "import os"
   ]
  },
  {
   "cell_type": "code",
   "execution_count": 9,
   "id": "8836f23f-1f48-429d-a10a-a9b001e18b1c",
   "metadata": {
    "tags": []
   },
   "outputs": [],
   "source": [
    "os.mkdir('./data2')"
   ]
  },
  {
   "cell_type": "code",
   "execution_count": 11,
   "id": "7619bd6e-f1d3-418e-9fe6-9844fb3876f1",
   "metadata": {
    "tags": []
   },
   "outputs": [
    {
     "data": {
      "text/plain": [
       "['.ipynb_checkpoints',\n",
       " 'data',\n",
       " 'data2',\n",
       " 'exercise.ipynb',\n",
       " 'movies2.csv',\n",
       " 'movies3.csv',\n",
       " 'python_and_jupyter.ipynb',\n",
       " 'python_os_and_filesys.ipynb']"
      ]
     },
     "execution_count": 11,
     "metadata": {},
     "output_type": "execute_result"
    }
   ],
   "source": [
    "os.listdir('./')"
   ]
  },
  {
   "cell_type": "code",
   "execution_count": 17,
   "id": "a1eecff5-4f67-48b2-908b-96807f1fee34",
   "metadata": {
    "tags": []
   },
   "outputs": [
    {
     "data": {
      "text/plain": [
       "('./data2/loans1.txt', <http.client.HTTPMessage at 0x1d83cef5a50>)"
      ]
     },
     "execution_count": 17,
     "metadata": {},
     "output_type": "execute_result"
    }
   ],
   "source": [
    "urlretrieve(url1, './data2/loans1.txt')"
   ]
  },
  {
   "cell_type": "code",
   "execution_count": 19,
   "id": "6ae09901-4b03-4f6f-8fff-4f1764159a4e",
   "metadata": {
    "tags": []
   },
   "outputs": [
    {
     "data": {
      "text/plain": [
       "('./data2/loans2.txt', <http.client.HTTPMessage at 0x1d83ce5a990>)"
      ]
     },
     "execution_count": 19,
     "metadata": {},
     "output_type": "execute_result"
    }
   ],
   "source": [
    "urlretrieve(url2, './data2/loans2.txt')"
   ]
  },
  {
   "cell_type": "code",
   "execution_count": 21,
   "id": "bdc1ee9a-8c56-4e22-ba60-8b6b731167ae",
   "metadata": {
    "tags": []
   },
   "outputs": [
    {
     "data": {
      "text/plain": [
       "('./data2/loans3.txt', <http.client.HTTPMessage at 0x1d83ce82e90>)"
      ]
     },
     "execution_count": 21,
     "metadata": {},
     "output_type": "execute_result"
    }
   ],
   "source": [
    "urlretrieve(url3, './data2/loans3.txt')"
   ]
  },
  {
   "cell_type": "code",
   "execution_count": 63,
   "id": "d7c8dc37-5adb-4c2b-8040-595d6afb6368",
   "metadata": {
    "tags": []
   },
   "outputs": [],
   "source": [
    "def parse_header(header_list):\n",
    "    return list(enumerate(header_list.strip().split(',')))"
   ]
  },
  {
   "cell_type": "code",
   "execution_count": 76,
   "id": "000a067a-1a4d-4a04-95fd-56a09940fc14",
   "metadata": {
    "tags": []
   },
   "outputs": [],
   "source": [
    "def parse_values(remaining_list):\n",
    "    values = []\n",
    "    for value in remaining_list.strip().split(','):\n",
    "        if  value == '':\n",
    "            values.append(0.0)\n",
    "        else:\n",
    "            try:\n",
    "                values.append(float(value))\n",
    "            except ValueError:\n",
    "                values.append(value)\n",
    "    return list(enumerate(values))"
   ]
  },
  {
   "cell_type": "code",
   "execution_count": 147,
   "id": "ffeb7246-18ba-4d89-8c2d-982d34af57e7",
   "metadata": {
    "tags": []
   },
   "outputs": [],
   "source": [
    "def read_csv_columnar(path):\n",
    "    result = {}\n",
    "    # result = []\n",
    "    values = []\n",
    "    with open(path, 'r') as f:\n",
    "        file_content = f.readlines()\n",
    "        if len(file_content) == 0:\n",
    "            return\n",
    "        # values = []\n",
    "        headers = parse_header(file_content[0])\n",
    "        # result.append(headers)\n",
    "        for value in file_content[1:]:\n",
    "            remaining_values = parse_values(value)\n",
    "            values.append(remaining_values)\n",
    "            # result.append(remaining_values)\n",
    "            \n",
    "        for i_h,h in headers:\n",
    "            for i_v,v in values:\n",
    "                if i_h == i_v:\n",
    "                    print(h,v)\n",
    "                    # result[h] = v[1]\n",
    "        # result.append(headers)\n",
    "    # print(result)\n",
    "        \n",
    "    return result\n",
    "        # for header in headers.strip().split(','):\n",
    "        #     for value in values:\n",
    "        #         result[header] = list(value)"
   ]
  },
  {
   "cell_type": "code",
   "execution_count": 148,
   "id": "327f697f-5599-4212-b03b-f787a517c160",
   "metadata": {
    "tags": []
   },
   "outputs": [
    {
     "ename": "ValueError",
     "evalue": "too many values to unpack (expected 2)",
     "output_type": "error",
     "traceback": [
      "\u001b[1;31m---------------------------------------------------------------------------\u001b[0m",
      "\u001b[1;31mValueError\u001b[0m                                Traceback (most recent call last)",
      "Cell \u001b[1;32mIn[148], line 1\u001b[0m\n\u001b[1;32m----> 1\u001b[0m read_csv_columnar(\u001b[38;5;124m'\u001b[39m\u001b[38;5;124m./data2/loans1.txt\u001b[39m\u001b[38;5;124m'\u001b[39m)\n",
      "Cell \u001b[1;32mIn[147], line 18\u001b[0m, in \u001b[0;36mread_csv_columnar\u001b[1;34m(path)\u001b[0m\n\u001b[0;32m     15\u001b[0m     \u001b[38;5;66;03m# result.append(remaining_values)\u001b[39;00m\n\u001b[0;32m     17\u001b[0m \u001b[38;5;28;01mfor\u001b[39;00m i_h,h \u001b[38;5;129;01min\u001b[39;00m headers:\n\u001b[1;32m---> 18\u001b[0m     \u001b[38;5;28;01mfor\u001b[39;00m i_v,v \u001b[38;5;129;01min\u001b[39;00m values:\n\u001b[0;32m     19\u001b[0m         \u001b[38;5;28;01mif\u001b[39;00m i_h \u001b[38;5;241m==\u001b[39m i_v:\n\u001b[0;32m     20\u001b[0m             \u001b[38;5;28mprint\u001b[39m(h,v)\n",
      "\u001b[1;31mValueError\u001b[0m: too many values to unpack (expected 2)"
     ]
    }
   ],
   "source": [
    "read_csv_columnar('./data2/loans1.txt')"
   ]
  },
  {
   "cell_type": "code",
   "execution_count": 5,
   "id": "b3ed4b8d-0ac9-4851-9bc9-ba06cf8c9df7",
   "metadata": {
    "tags": []
   },
   "outputs": [
    {
     "name": "stdout",
     "output_type": "stream",
     "text": [
      "amount,duration,rate,down_payment\n",
      "100000,36,0.08,20000\n",
      "200000,12,0.1,\n",
      "628400,120,0.12,100000\n",
      "4637400,240,0.06,\n",
      "42900,90,0.07,8900\n",
      "916000,16,0.13,\n",
      "45230,48,0.08,4300\n",
      "991360,99,0.08,\n",
      "423000,27,0.09,47200\n",
      "['amount', 'duration', 'rate', 'down_payment\\n100000', '36', '0.08', '20000\\n200000', '12', '0.1', '\\n628400', '120', '0.12', '100000\\n4637400', '240', '0.06', '\\n42900', '90', '0.07', '8900\\n916000', '16', '0.13', '\\n45230', '48', '0.08', '4300\\n991360', '99', '0.08', '\\n423000', '27', '0.09', '47200']\n"
     ]
    }
   ],
   "source": [
    "with open('./data2/loans1.txt', 'r') as f:\n",
    "    file_content = f.read()\n",
    "    print(file_content)\n",
    "    file_content_comma = file_content.strip().split(',')\n",
    "    # file_content_comma = file_content_comma.strip().split('\\n')\n",
    "    print(file_content_comma)"
   ]
  },
  {
   "cell_type": "code",
   "execution_count": 6,
   "id": "83726694-7e43-4342-9858-8c0df8de5560",
   "metadata": {
    "tags": []
   },
   "outputs": [
    {
     "ename": "NameError",
     "evalue": "name 'os' is not defined",
     "output_type": "error",
     "traceback": [
      "\u001b[1;31m---------------------------------------------------------------------------\u001b[0m",
      "\u001b[1;31mNameError\u001b[0m                                 Traceback (most recent call last)",
      "Cell \u001b[1;32mIn[6], line 1\u001b[0m\n\u001b[1;32m----> 1\u001b[0m os\u001b[38;5;241m.\u001b[39mgetcwd()\n",
      "\u001b[1;31mNameError\u001b[0m: name 'os' is not defined"
     ]
    }
   ],
   "source": [
    "os.getcwd()"
   ]
  },
  {
   "cell_type": "code",
   "execution_count": 7,
   "id": "14b7cea4-4dc1-451f-bd3c-9ccef1fdeee0",
   "metadata": {
    "tags": []
   },
   "outputs": [
    {
     "ename": "NameError",
     "evalue": "name 'os' is not defined",
     "output_type": "error",
     "traceback": [
      "\u001b[1;31m---------------------------------------------------------------------------\u001b[0m",
      "\u001b[1;31mNameError\u001b[0m                                 Traceback (most recent call last)",
      "Cell \u001b[1;32mIn[7], line 1\u001b[0m\n\u001b[1;32m----> 1\u001b[0m os\u001b[38;5;241m.\u001b[39mlistdir()\n",
      "\u001b[1;31mNameError\u001b[0m: name 'os' is not defined"
     ]
    }
   ],
   "source": [
    "os.listdir()"
   ]
  },
  {
   "cell_type": "code",
   "execution_count": 8,
   "id": "218aae2c-5ebf-4a92-bd8b-4e5ee75ff42e",
   "metadata": {
    "tags": []
   },
   "outputs": [
    {
     "ename": "NameError",
     "evalue": "name 'os' is not defined",
     "output_type": "error",
     "traceback": [
      "\u001b[1;31m---------------------------------------------------------------------------\u001b[0m",
      "\u001b[1;31mNameError\u001b[0m                                 Traceback (most recent call last)",
      "Cell \u001b[1;32mIn[8], line 1\u001b[0m\n\u001b[1;32m----> 1\u001b[0m \u001b[38;5;124m'\u001b[39m\u001b[38;5;124mmovies2.csv\u001b[39m\u001b[38;5;124m'\u001b[39m \u001b[38;5;129;01min\u001b[39;00m os\u001b[38;5;241m.\u001b[39mlistdir(\u001b[38;5;124m'\u001b[39m\u001b[38;5;124m./\u001b[39m\u001b[38;5;124m'\u001b[39m)\n",
      "\u001b[1;31mNameError\u001b[0m: name 'os' is not defined"
     ]
    }
   ],
   "source": [
    "'movies2.csv' in os.listdir('./')"
   ]
  },
  {
   "cell_type": "code",
   "execution_count": 12,
   "id": "30068716-4a45-46ff-b825-68ba7834e80b",
   "metadata": {},
   "outputs": [],
   "source": [
    "list1 = ['one', 'two', 'three']"
   ]
  },
  {
   "cell_type": "code",
   "execution_count": 16,
   "id": "98e13b89-8a92-4670-ac02-e11b8bf512d8",
   "metadata": {
    "tags": []
   },
   "outputs": [
    {
     "name": "stdout",
     "output_type": "stream",
     "text": [
      "(0, 'one')\n",
      "(1, 'two')\n",
      "(2, 'three')\n"
     ]
    }
   ],
   "source": [
    "for item in enumerate(list1):\n",
    "    print(item)"
   ]
  },
  {
   "cell_type": "code",
   "execution_count": 15,
   "id": "508a04d4-c955-4235-97ed-884c3a457707",
   "metadata": {
    "tags": []
   },
   "outputs": [
    {
     "data": {
      "text/plain": [
       "<enumerate at 0x1ac2209d3a0>"
      ]
     },
     "execution_count": 15,
     "metadata": {},
     "output_type": "execute_result"
    }
   ],
   "source": []
  },
  {
   "cell_type": "code",
   "execution_count": null,
   "id": "b0941a72-7598-4d59-a459-d98dd49df074",
   "metadata": {},
   "outputs": [],
   "source": []
  }
 ],
 "metadata": {
  "kernelspec": {
   "display_name": "Python 3 (ipykernel)",
   "language": "python",
   "name": "python3"
  },
  "language_info": {
   "codemirror_mode": {
    "name": "ipython",
    "version": 3
   },
   "file_extension": ".py",
   "mimetype": "text/x-python",
   "name": "python",
   "nbconvert_exporter": "python",
   "pygments_lexer": "ipython3",
   "version": "3.11.5"
  }
 },
 "nbformat": 4,
 "nbformat_minor": 5
}
